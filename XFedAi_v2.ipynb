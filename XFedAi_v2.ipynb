{
  "nbformat": 4,
  "nbformat_minor": 0,
  "metadata": {
    "colab": {
      "name": "XFedAi_v2.ipynb",
      "provenance": [],
      "mount_file_id": "1sx5ZpeRUW-HKJ2qP5HKG9JTMW0EHEX3P",
      "authorship_tag": "ABX9TyPw+S/LTA+zm6l+f0iAaKkD",
      "include_colab_link": true
    },
    "kernelspec": {
      "name": "python3",
      "display_name": "Python 3"
    },
    "language_info": {
      "name": "python"
    }
  },
  "cells": [
    {
      "cell_type": "markdown",
      "metadata": {
        "id": "view-in-github",
        "colab_type": "text"
      },
      "source": [
        "<a href=\"https://colab.research.google.com/github/hurutta/XFedAi/blob/main/XFedAi_v2.ipynb\" target=\"_parent\"><img src=\"https://colab.research.google.com/assets/colab-badge.svg\" alt=\"Open In Colab\"/></a>"
      ]
    },
    {
      "cell_type": "code",
      "metadata": {
        "id": "CcuWEWmLjMdh"
      },
      "source": [
        "import random\n",
        "import numpy as np\n",
        "from tqdm import tqdm\n",
        "import copy\n",
        "import matplotlib.pyplot as plt\n",
        "import time\n",
        "import timeit\n",
        "\n",
        "import torch, torchvision\n",
        "import torch.nn as nn\n",
        "import torch.nn.functional as F\n",
        "import torch.optim as optim\n",
        "from torchvision import datasets, transforms\n",
        "from torch.utils.data import DataLoader\n",
        "from torch.utils.data.dataset import Dataset  \n",
        "from torch.utils.data import TensorDataset"
      ],
      "execution_count": null,
      "outputs": []
    },
    {
      "cell_type": "code",
      "metadata": {
        "colab": {
          "base_uri": "https://localhost:8080/"
        },
        "id": "L7iEzxw2myqr",
        "outputId": "14e7197f-4a59-4367-bd46-6567103aff0b"
      },
      "source": [
        "from PIL import Image\n",
        "import numpy as np\n",
        "import sys\n",
        "import os\n",
        "import csv\n",
        "\n",
        "#Useful function\n",
        "def createFileList(myDir, format='.png'):\n",
        "    fileList = []\n",
        "    print(myDir)\n",
        "    for root, dirs, files in os.walk(myDir, topdown=False):\n",
        "        for name in files:\n",
        "            if name.endswith(format):\n",
        "                fullName = os.path.join(root, name)\n",
        "                fileList.append(fullName)\n",
        "    return fileList\n",
        "\n",
        "# load the original image\n",
        "myFileList = createFileList('/content/drive/MyDrive/ML/ct_data_clean/COVID')\n",
        "\n",
        "for file in tqdm(myFileList):\n",
        "    #print(file)\n",
        "    img_file = Image.open(file)\n",
        "    # img_file.show()\n",
        "\n",
        "    # get original image parameters...\n",
        "    width, height = img_file.size\n",
        "    format = img_file.format\n",
        "    mode = img_file.mode\n",
        "\n",
        "    # Make image Greyscale\n",
        "    img_grey = img_file.convert('L')\n",
        "    #img_grey.save('result.png')\n",
        "    #img_grey.show()\n",
        "\n",
        "    # Save Greyscale values\n",
        "    value = np.asarray(img_grey.getdata(), dtype=np.int).reshape((img_grey.size[1], img_grey.size[0]))\n",
        "    value = value.flatten()\n",
        "    #print(value)\n",
        "    with open(\"img_pixels.csv\", 'a') as f:\n",
        "        writer = csv.writer(f)\n",
        "        writer.writerow(value)"
      ],
      "execution_count": null,
      "outputs": [
        {
          "output_type": "stream",
          "name": "stdout",
          "text": [
            "/content/drive/MyDrive/ML/ct_data_clean/COVID\n"
          ]
        },
        {
          "output_type": "stream",
          "name": "stderr",
          "text": [
            "100%|██████████| 1002/1002 [04:43<00:00,  3.53it/s]\n"
          ]
        }
      ]
    },
    {
      "cell_type": "code",
      "metadata": {
        "colab": {
          "base_uri": "https://localhost:8080/"
        },
        "id": "xlNXmsJQopy4",
        "outputId": "0d60aa23-5a6e-4288-962a-84ef624323a7"
      },
      "source": [
        "import pandas as pd\n",
        "import numpy as np\n",
        "import matplotlib.pyplot as plt\n",
        "\n",
        "import io\n",
        "from google.colab import files\n",
        "img = pd.read_csv('/content/img_pixels.csv')\n",
        "img.shape"
      ],
      "execution_count": null,
      "outputs": [
        {
          "output_type": "execute_result",
          "data": {
            "text/plain": [
              "(1001, 10000)"
            ]
          },
          "metadata": {},
          "execution_count": 4
        }
      ]
    },
    {
      "cell_type": "code",
      "metadata": {
        "id": "moYUeAbUteXf"
      },
      "source": [
        "x = np.array(img.iloc[0])\n",
        "df = pd.DataFrame({\"pixels\": [x],\"cvd\": 1})"
      ],
      "execution_count": null,
      "outputs": []
    },
    {
      "cell_type": "code",
      "metadata": {
        "colab": {
          "base_uri": "https://localhost:8080/",
          "height": 80
        },
        "id": "VINCeJb6uhQG",
        "outputId": "bd1108d6-4565-43c6-88de-22380431db8d"
      },
      "source": [
        "df"
      ],
      "execution_count": null,
      "outputs": [
        {
          "output_type": "execute_result",
          "data": {
            "text/html": [
              "<div>\n",
              "<style scoped>\n",
              "    .dataframe tbody tr th:only-of-type {\n",
              "        vertical-align: middle;\n",
              "    }\n",
              "\n",
              "    .dataframe tbody tr th {\n",
              "        vertical-align: top;\n",
              "    }\n",
              "\n",
              "    .dataframe thead th {\n",
              "        text-align: right;\n",
              "    }\n",
              "</style>\n",
              "<table border=\"1\" class=\"dataframe\">\n",
              "  <thead>\n",
              "    <tr style=\"text-align: right;\">\n",
              "      <th></th>\n",
              "      <th>pixels</th>\n",
              "      <th>cvd</th>\n",
              "    </tr>\n",
              "  </thead>\n",
              "  <tbody>\n",
              "    <tr>\n",
              "      <th>0</th>\n",
              "      <td>[68, 68, 68, 68, 68, 69, 69, 68, 182, 200, 188...</td>\n",
              "      <td>1</td>\n",
              "    </tr>\n",
              "  </tbody>\n",
              "</table>\n",
              "</div>"
            ],
            "text/plain": [
              "                                              pixels  cvd\n",
              "0  [68, 68, 68, 68, 68, 69, 69, 68, 182, 200, 188...    1"
            ]
          },
          "metadata": {},
          "execution_count": 6
        }
      ]
    },
    {
      "cell_type": "code",
      "metadata": {
        "id": "xfG-bHF5qzLo"
      },
      "source": [
        "for i in range(1,len(img),1):\n",
        "    x = np.array(img.iloc[i])\n",
        "    dict = {'pixels': x,\"cvd\": 1}\n",
        "    df = df.append(dict, ignore_index = True)\n",
        "    #print(i,x)"
      ],
      "execution_count": null,
      "outputs": []
    },
    {
      "cell_type": "code",
      "metadata": {
        "id": "9nBhL3ObvEOS"
      },
      "source": [
        "args = {\n",
        "    \"batch_size\" : 64,\n",
        "    \"num_clients\": 2,\n",
        "    \"frac\": 1,\n",
        "    \"ep_local\": 2,\n",
        "    \"bs_local\": 10,\n",
        "    \"epochs\": 100,\n",
        "    #\"dataset\": \"CIFAR10\",\n",
        "    \"model\": \"CNN\",\n",
        "    \"iid\": \"iid\",\n",
        "    \n",
        "    # Unlearning params\n",
        "    \"unlearned_clients\": [0], \n",
        "    \"t\": 2, # calibration_interval,\n",
        "    \"r\": 0.5 # local_calibration_epoch_ratio r = Ecali/Eloc\n",
        "    \n",
        "}\n",
        "\n",
        "device = torch.device(\"cuda\" if torch.cuda.is_available() else \"cpu\")"
      ],
      "execution_count": 139,
      "outputs": []
    },
    {
      "cell_type": "code",
      "metadata": {
        "colab": {
          "base_uri": "https://localhost:8080/"
        },
        "id": "SydpXsswvmrU",
        "outputId": "5f979a88-978d-44d5-b070-89eaa1cebc4f"
      },
      "source": [
        "print(device)"
      ],
      "execution_count": null,
      "outputs": [
        {
          "output_type": "stream",
          "name": "stdout",
          "text": [
            "cpu\n"
          ]
        }
      ]
    },
    {
      "cell_type": "code",
      "metadata": {
        "colab": {
          "base_uri": "https://localhost:8080/",
          "height": 419
        },
        "id": "IAV-3nS6wXmN",
        "outputId": "fe956e00-358b-40dc-b5b6-9e22f5d18062"
      },
      "source": [
        "df"
      ],
      "execution_count": null,
      "outputs": [
        {
          "output_type": "execute_result",
          "data": {
            "text/html": [
              "<div>\n",
              "<style scoped>\n",
              "    .dataframe tbody tr th:only-of-type {\n",
              "        vertical-align: middle;\n",
              "    }\n",
              "\n",
              "    .dataframe tbody tr th {\n",
              "        vertical-align: top;\n",
              "    }\n",
              "\n",
              "    .dataframe thead th {\n",
              "        text-align: right;\n",
              "    }\n",
              "</style>\n",
              "<table border=\"1\" class=\"dataframe\">\n",
              "  <thead>\n",
              "    <tr style=\"text-align: right;\">\n",
              "      <th></th>\n",
              "      <th>pixels</th>\n",
              "      <th>cvd</th>\n",
              "    </tr>\n",
              "  </thead>\n",
              "  <tbody>\n",
              "    <tr>\n",
              "      <th>0</th>\n",
              "      <td>[68, 68, 68, 68, 68, 69, 69, 68, 182, 200, 188...</td>\n",
              "      <td>1</td>\n",
              "    </tr>\n",
              "    <tr>\n",
              "      <th>1</th>\n",
              "      <td>[205, 205, 206, 204, 207, 207, 205, 204, 206, ...</td>\n",
              "      <td>1</td>\n",
              "    </tr>\n",
              "    <tr>\n",
              "      <th>2</th>\n",
              "      <td>[68, 70, 64, 86, 191, 212, 194, 195, 195, 194,...</td>\n",
              "      <td>1</td>\n",
              "    </tr>\n",
              "    <tr>\n",
              "      <th>3</th>\n",
              "      <td>[136, 202, 198, 190, 193, 194, 192, 192, 196, ...</td>\n",
              "      <td>1</td>\n",
              "    </tr>\n",
              "    <tr>\n",
              "      <th>4</th>\n",
              "      <td>[209, 211, 200, 199, 200, 206, 205, 200, 197, ...</td>\n",
              "      <td>1</td>\n",
              "    </tr>\n",
              "    <tr>\n",
              "      <th>...</th>\n",
              "      <td>...</td>\n",
              "      <td>...</td>\n",
              "    </tr>\n",
              "    <tr>\n",
              "      <th>996</th>\n",
              "      <td>[66, 70, 72, 70, 63, 80, 165, 216, 209, 206, 2...</td>\n",
              "      <td>1</td>\n",
              "    </tr>\n",
              "    <tr>\n",
              "      <th>997</th>\n",
              "      <td>[206, 207, 208, 208, 206, 209, 204, 205, 205, ...</td>\n",
              "      <td>1</td>\n",
              "    </tr>\n",
              "    <tr>\n",
              "      <th>998</th>\n",
              "      <td>[196, 194, 194, 195, 193, 193, 195, 199, 195, ...</td>\n",
              "      <td>1</td>\n",
              "    </tr>\n",
              "    <tr>\n",
              "      <th>999</th>\n",
              "      <td>[73, 66, 117, 209, 212, 204, 206, 205, 208, 21...</td>\n",
              "      <td>1</td>\n",
              "    </tr>\n",
              "    <tr>\n",
              "      <th>1000</th>\n",
              "      <td>[207, 208, 208, 205, 206, 206, 207, 204, 204, ...</td>\n",
              "      <td>1</td>\n",
              "    </tr>\n",
              "  </tbody>\n",
              "</table>\n",
              "<p>1001 rows × 2 columns</p>\n",
              "</div>"
            ],
            "text/plain": [
              "                                                 pixels  cvd\n",
              "0     [68, 68, 68, 68, 68, 69, 69, 68, 182, 200, 188...    1\n",
              "1     [205, 205, 206, 204, 207, 207, 205, 204, 206, ...    1\n",
              "2     [68, 70, 64, 86, 191, 212, 194, 195, 195, 194,...    1\n",
              "3     [136, 202, 198, 190, 193, 194, 192, 192, 196, ...    1\n",
              "4     [209, 211, 200, 199, 200, 206, 205, 200, 197, ...    1\n",
              "...                                                 ...  ...\n",
              "996   [66, 70, 72, 70, 63, 80, 165, 216, 209, 206, 2...    1\n",
              "997   [206, 207, 208, 208, 206, 209, 204, 205, 205, ...    1\n",
              "998   [196, 194, 194, 195, 193, 193, 195, 199, 195, ...    1\n",
              "999   [73, 66, 117, 209, 212, 204, 206, 205, 208, 21...    1\n",
              "1000  [207, 208, 208, 205, 206, 206, 207, 204, 204, ...    1\n",
              "\n",
              "[1001 rows x 2 columns]"
            ]
          },
          "metadata": {},
          "execution_count": 11
        }
      ]
    },
    {
      "cell_type": "code",
      "metadata": {
        "colab": {
          "base_uri": "https://localhost:8080/"
        },
        "id": "8eTZ7lgbw7qA",
        "outputId": "4af5a530-5303-497c-f941-aee577bfbe70"
      },
      "source": [
        "from PIL import Image\n",
        "import numpy as np\n",
        "import sys\n",
        "import os\n",
        "import csv\n",
        "\n",
        "#Useful function\n",
        "def createFileList(myDir, format='.png'):\n",
        "    fileList = []\n",
        "    print(myDir)\n",
        "    for root, dirs, files in os.walk(myDir, topdown=False):\n",
        "        for name in files:\n",
        "            if name.endswith(format):\n",
        "                fullName = os.path.join(root, name)\n",
        "                fileList.append(fullName)\n",
        "    return fileList\n",
        "\n",
        "# load the original image\n",
        "myFileList = createFileList('/content/drive/MyDrive/ML/ct_data_clean/non-COVID')\n",
        "\n",
        "for file in tqdm(myFileList):\n",
        "    #print(file)\n",
        "    img_file = Image.open(file)\n",
        "    # img_file.show()\n",
        "\n",
        "    # get original image parameters...\n",
        "    width, height = img_file.size\n",
        "    format = img_file.format\n",
        "    mode = img_file.mode\n",
        "\n",
        "    # Make image Greyscale\n",
        "    img_grey = img_file.convert('L')\n",
        "    #img_grey.save('result.png')\n",
        "    #img_grey.show()\n",
        "\n",
        "    # Save Greyscale values\n",
        "    value = np.asarray(img_grey.getdata(), dtype=np.int).reshape((img_grey.size[1], img_grey.size[0]))\n",
        "    value = value.flatten()\n",
        "    #print(value)\n",
        "    with open(\"img_pixels2.csv\", 'a') as f:\n",
        "        writer = csv.writer(f)\n",
        "        writer.writerow(value)"
      ],
      "execution_count": null,
      "outputs": [
        {
          "output_type": "stream",
          "name": "stdout",
          "text": [
            "/content/drive/MyDrive/ML/ct_data_clean/non-COVID\n"
          ]
        },
        {
          "output_type": "stream",
          "name": "stderr",
          "text": [
            "100%|██████████| 984/984 [04:38<00:00,  3.53it/s]\n"
          ]
        }
      ]
    },
    {
      "cell_type": "code",
      "metadata": {
        "colab": {
          "base_uri": "https://localhost:8080/"
        },
        "id": "GcT5qr9GxHpw",
        "outputId": "ac499422-7f87-4ab3-982b-c1b14e06465f"
      },
      "source": [
        "import pandas as pd\n",
        "import numpy as np\n",
        "import matplotlib.pyplot as plt\n",
        "\n",
        "import io\n",
        "from google.colab import files\n",
        "img2 = pd.read_csv('/content/img_pixels2.csv')\n",
        "img2.shape"
      ],
      "execution_count": null,
      "outputs": [
        {
          "output_type": "execute_result",
          "data": {
            "text/plain": [
              "(983, 10000)"
            ]
          },
          "metadata": {},
          "execution_count": 13
        }
      ]
    },
    {
      "cell_type": "code",
      "metadata": {
        "colab": {
          "base_uri": "https://localhost:8080/",
          "height": 419
        },
        "id": "PXz4KW7wxlJ2",
        "outputId": "c7d97d6b-45b0-47c5-e767-1926a29e2f67"
      },
      "source": [
        "df"
      ],
      "execution_count": null,
      "outputs": [
        {
          "output_type": "execute_result",
          "data": {
            "text/html": [
              "<div>\n",
              "<style scoped>\n",
              "    .dataframe tbody tr th:only-of-type {\n",
              "        vertical-align: middle;\n",
              "    }\n",
              "\n",
              "    .dataframe tbody tr th {\n",
              "        vertical-align: top;\n",
              "    }\n",
              "\n",
              "    .dataframe thead th {\n",
              "        text-align: right;\n",
              "    }\n",
              "</style>\n",
              "<table border=\"1\" class=\"dataframe\">\n",
              "  <thead>\n",
              "    <tr style=\"text-align: right;\">\n",
              "      <th></th>\n",
              "      <th>pixels</th>\n",
              "      <th>cvd</th>\n",
              "    </tr>\n",
              "  </thead>\n",
              "  <tbody>\n",
              "    <tr>\n",
              "      <th>0</th>\n",
              "      <td>[68, 68, 68, 68, 68, 69, 69, 68, 182, 200, 188...</td>\n",
              "      <td>1</td>\n",
              "    </tr>\n",
              "    <tr>\n",
              "      <th>1</th>\n",
              "      <td>[205, 205, 206, 204, 207, 207, 205, 204, 206, ...</td>\n",
              "      <td>1</td>\n",
              "    </tr>\n",
              "    <tr>\n",
              "      <th>2</th>\n",
              "      <td>[68, 70, 64, 86, 191, 212, 194, 195, 195, 194,...</td>\n",
              "      <td>1</td>\n",
              "    </tr>\n",
              "    <tr>\n",
              "      <th>3</th>\n",
              "      <td>[136, 202, 198, 190, 193, 194, 192, 192, 196, ...</td>\n",
              "      <td>1</td>\n",
              "    </tr>\n",
              "    <tr>\n",
              "      <th>4</th>\n",
              "      <td>[209, 211, 200, 199, 200, 206, 205, 200, 197, ...</td>\n",
              "      <td>1</td>\n",
              "    </tr>\n",
              "    <tr>\n",
              "      <th>...</th>\n",
              "      <td>...</td>\n",
              "      <td>...</td>\n",
              "    </tr>\n",
              "    <tr>\n",
              "      <th>996</th>\n",
              "      <td>[66, 70, 72, 70, 63, 80, 165, 216, 209, 206, 2...</td>\n",
              "      <td>1</td>\n",
              "    </tr>\n",
              "    <tr>\n",
              "      <th>997</th>\n",
              "      <td>[206, 207, 208, 208, 206, 209, 204, 205, 205, ...</td>\n",
              "      <td>1</td>\n",
              "    </tr>\n",
              "    <tr>\n",
              "      <th>998</th>\n",
              "      <td>[196, 194, 194, 195, 193, 193, 195, 199, 195, ...</td>\n",
              "      <td>1</td>\n",
              "    </tr>\n",
              "    <tr>\n",
              "      <th>999</th>\n",
              "      <td>[73, 66, 117, 209, 212, 204, 206, 205, 208, 21...</td>\n",
              "      <td>1</td>\n",
              "    </tr>\n",
              "    <tr>\n",
              "      <th>1000</th>\n",
              "      <td>[207, 208, 208, 205, 206, 206, 207, 204, 204, ...</td>\n",
              "      <td>1</td>\n",
              "    </tr>\n",
              "  </tbody>\n",
              "</table>\n",
              "<p>1001 rows × 2 columns</p>\n",
              "</div>"
            ],
            "text/plain": [
              "                                                 pixels  cvd\n",
              "0     [68, 68, 68, 68, 68, 69, 69, 68, 182, 200, 188...    1\n",
              "1     [205, 205, 206, 204, 207, 207, 205, 204, 206, ...    1\n",
              "2     [68, 70, 64, 86, 191, 212, 194, 195, 195, 194,...    1\n",
              "3     [136, 202, 198, 190, 193, 194, 192, 192, 196, ...    1\n",
              "4     [209, 211, 200, 199, 200, 206, 205, 200, 197, ...    1\n",
              "...                                                 ...  ...\n",
              "996   [66, 70, 72, 70, 63, 80, 165, 216, 209, 206, 2...    1\n",
              "997   [206, 207, 208, 208, 206, 209, 204, 205, 205, ...    1\n",
              "998   [196, 194, 194, 195, 193, 193, 195, 199, 195, ...    1\n",
              "999   [73, 66, 117, 209, 212, 204, 206, 205, 208, 21...    1\n",
              "1000  [207, 208, 208, 205, 206, 206, 207, 204, 204, ...    1\n",
              "\n",
              "[1001 rows x 2 columns]"
            ]
          },
          "metadata": {},
          "execution_count": 14
        }
      ]
    },
    {
      "cell_type": "code",
      "metadata": {
        "id": "9AA9rl5axUYq"
      },
      "source": [
        "for i in range(0,len(img2),1):\n",
        "    x = np.array(img2.iloc[i])\n",
        "    dict = {'pixels': x,\"cvd\": 0}\n",
        "    df = df.append(dict, ignore_index = True)\n",
        "    #print(i,x)"
      ],
      "execution_count": null,
      "outputs": []
    },
    {
      "cell_type": "code",
      "metadata": {
        "colab": {
          "base_uri": "https://localhost:8080/"
        },
        "id": "X03l4sDlE_KA",
        "outputId": "8bab6e24-d716-4421-9da3-6de6fffecb03"
      },
      "source": [
        "df.shape"
      ],
      "execution_count": null,
      "outputs": [
        {
          "output_type": "execute_result",
          "data": {
            "text/plain": [
              "(1984, 2)"
            ]
          },
          "metadata": {},
          "execution_count": 16
        }
      ]
    },
    {
      "cell_type": "code",
      "metadata": {
        "colab": {
          "base_uri": "https://localhost:8080/",
          "height": 204
        },
        "id": "pqXII8KxEX8N",
        "outputId": "003fd447-a6fa-4d05-e512-3d6d49dd5f7d"
      },
      "source": [
        "df.head()"
      ],
      "execution_count": null,
      "outputs": [
        {
          "output_type": "execute_result",
          "data": {
            "text/html": [
              "<div>\n",
              "<style scoped>\n",
              "    .dataframe tbody tr th:only-of-type {\n",
              "        vertical-align: middle;\n",
              "    }\n",
              "\n",
              "    .dataframe tbody tr th {\n",
              "        vertical-align: top;\n",
              "    }\n",
              "\n",
              "    .dataframe thead th {\n",
              "        text-align: right;\n",
              "    }\n",
              "</style>\n",
              "<table border=\"1\" class=\"dataframe\">\n",
              "  <thead>\n",
              "    <tr style=\"text-align: right;\">\n",
              "      <th></th>\n",
              "      <th>pixels</th>\n",
              "      <th>cvd</th>\n",
              "    </tr>\n",
              "  </thead>\n",
              "  <tbody>\n",
              "    <tr>\n",
              "      <th>0</th>\n",
              "      <td>[76, 67, 65, 154, 236, 216, 201, 204, 205, 204...</td>\n",
              "      <td>1</td>\n",
              "    </tr>\n",
              "    <tr>\n",
              "      <th>1</th>\n",
              "      <td>[205, 205, 205, 207, 207, 206, 205, 206, 203, ...</td>\n",
              "      <td>1</td>\n",
              "    </tr>\n",
              "    <tr>\n",
              "      <th>2</th>\n",
              "      <td>[254, 255, 253, 248, 251, 253, 254, 252, 253, ...</td>\n",
              "      <td>0</td>\n",
              "    </tr>\n",
              "    <tr>\n",
              "      <th>3</th>\n",
              "      <td>[68, 68, 68, 68, 68, 68, 68, 68, 68, 68, 68, 6...</td>\n",
              "      <td>1</td>\n",
              "    </tr>\n",
              "    <tr>\n",
              "      <th>4</th>\n",
              "      <td>[254, 254, 251, 251, 252, 253, 254, 253, 253, ...</td>\n",
              "      <td>0</td>\n",
              "    </tr>\n",
              "  </tbody>\n",
              "</table>\n",
              "</div>"
            ],
            "text/plain": [
              "                                              pixels  cvd\n",
              "0  [76, 67, 65, 154, 236, 216, 201, 204, 205, 204...    1\n",
              "1  [205, 205, 205, 207, 207, 206, 205, 206, 203, ...    1\n",
              "2  [254, 255, 253, 248, 251, 253, 254, 252, 253, ...    0\n",
              "3  [68, 68, 68, 68, 68, 68, 68, 68, 68, 68, 68, 6...    1\n",
              "4  [254, 254, 251, 251, 252, 253, 254, 253, 253, ...    0"
            ]
          },
          "metadata": {},
          "execution_count": 64
        }
      ]
    },
    {
      "cell_type": "code",
      "metadata": {
        "id": "OIHqrFRrzA3P"
      },
      "source": [
        "df = df.sample(frac=1).reset_index(drop=True)\n",
        "df1=df.iloc[0:1104]\n",
        "df2=df.iloc[1104:1764]\n",
        "df3=df.iloc[1764:1984]"
      ],
      "execution_count": 141,
      "outputs": []
    },
    {
      "cell_type": "code",
      "metadata": {
        "colab": {
          "base_uri": "https://localhost:8080/"
        },
        "id": "AioBE2nxn2KQ",
        "outputId": "10184c6b-413a-4dfa-8322-18695a0e9bd1"
      },
      "source": [
        "df3.shape"
      ],
      "execution_count": 142,
      "outputs": [
        {
          "output_type": "execute_result",
          "data": {
            "text/plain": [
              "(220, 2)"
            ]
          },
          "metadata": {},
          "execution_count": 142
        }
      ]
    },
    {
      "cell_type": "code",
      "metadata": {
        "id": "PPIBbkdvzGi1"
      },
      "source": [
        "def prepare_data(data):\n",
        "    \"\"\" Prepare data for modeling \n",
        "        input: data frame with labels und pixel data\n",
        "        output: image and label array \"\"\"\n",
        "    \n",
        "    image_array = np.zeros(shape=(len(data), 100, 100))\n",
        "    image_label = np.array(list(map(int, data['cvd'])))\n",
        "\n",
        "    for i, row in enumerate(data.index):\n",
        "        image = data.loc[row, 'pixels']\n",
        "        image = np.reshape(image, (100, 100))\n",
        "        image_array[i] = image\n",
        "        \n",
        "    return image_array, image_label"
      ],
      "execution_count": 143,
      "outputs": []
    },
    {
      "cell_type": "code",
      "metadata": {
        "colab": {
          "base_uri": "https://localhost:8080/"
        },
        "id": "VjGezdG-zXvL",
        "outputId": "82e100c8-40df-4ead-a057-92a881738fe0"
      },
      "source": [
        "df1['cvd'].value_counts()"
      ],
      "execution_count": 144,
      "outputs": [
        {
          "output_type": "execute_result",
          "data": {
            "text/plain": [
              "1    565\n",
              "0    539\n",
              "Name: cvd, dtype: int64"
            ]
          },
          "metadata": {},
          "execution_count": 144
        }
      ]
    },
    {
      "cell_type": "code",
      "metadata": {
        "colab": {
          "base_uri": "https://localhost:8080/"
        },
        "id": "nRsfamHdzegB",
        "outputId": "1de9c836-f9a7-4c55-a590-c716a8ee47de"
      },
      "source": [
        "status = {0: 'no_covid', 1: 'covid'}\n",
        "print(df.shape)\n",
        "train_image_array, train_image_label = prepare_data(df1)\n",
        "val_image_array, val_image_label = prepare_data(df2)\n",
        "test_image_array, test_image_label = prepare_data(df3)"
      ],
      "execution_count": 145,
      "outputs": [
        {
          "output_type": "stream",
          "name": "stdout",
          "text": [
            "(1984, 2)\n"
          ]
        }
      ]
    },
    {
      "cell_type": "code",
      "metadata": {
        "colab": {
          "base_uri": "https://localhost:8080/"
        },
        "id": "TBp1Zz-Ba5EW",
        "outputId": "5003215e-ca57-4c9d-bc4e-13bc4778764e"
      },
      "source": [
        "train_image_array[0]"
      ],
      "execution_count": 146,
      "outputs": [
        {
          "output_type": "execute_result",
          "data": {
            "text/plain": [
              "array([[235., 235., 234., ..., 212., 204., 203.],\n",
              "       [234., 231., 231., ..., 237., 224., 211.],\n",
              "       [234., 228., 229., ..., 232., 231., 238.],\n",
              "       ...,\n",
              "       [251., 246., 253., ..., 255., 250., 237.],\n",
              "       [245., 238., 237., ..., 255., 251., 240.],\n",
              "       [243., 215., 242., ..., 255., 254., 237.]])"
            ]
          },
          "metadata": {},
          "execution_count": 146
        }
      ]
    },
    {
      "cell_type": "code",
      "metadata": {
        "id": "G6PY68wFeOto"
      },
      "source": [
        "#reshape and scale\n",
        "train_images = train_image_array.reshape((train_image_array.shape[0], 1, 100, 100))\n",
        "train_images = train_images.astype('float32')/255\n",
        "val_images = val_image_array.reshape((val_image_array.shape[0], 1, 100, 100))\n",
        "val_images = val_images.astype('float32')/255\n",
        "test_images = test_image_array.reshape((test_image_array.shape[0], 1, 100, 100))\n",
        "test_images = test_images.astype('float32')/255"
      ],
      "execution_count": 147,
      "outputs": []
    },
    {
      "cell_type": "code",
      "metadata": {
        "colab": {
          "base_uri": "https://localhost:8080/"
        },
        "id": "T7pgCLyDeyCT",
        "outputId": "794baace-e06f-4626-d9de-fd42b77618a3"
      },
      "source": [
        "train_images[0]"
      ],
      "execution_count": 148,
      "outputs": [
        {
          "output_type": "execute_result",
          "data": {
            "text/plain": [
              "array([[[0.92156863, 0.92156863, 0.91764706, ..., 0.83137256,\n",
              "         0.8       , 0.79607844],\n",
              "        [0.91764706, 0.90588236, 0.90588236, ..., 0.92941177,\n",
              "         0.8784314 , 0.827451  ],\n",
              "        [0.91764706, 0.89411765, 0.8980392 , ..., 0.9098039 ,\n",
              "         0.90588236, 0.93333334],\n",
              "        ...,\n",
              "        [0.9843137 , 0.9647059 , 0.99215686, ..., 1.        ,\n",
              "         0.98039216, 0.92941177],\n",
              "        [0.9607843 , 0.93333334, 0.92941177, ..., 1.        ,\n",
              "         0.9843137 , 0.9411765 ],\n",
              "        [0.9529412 , 0.84313726, 0.9490196 , ..., 1.        ,\n",
              "         0.99607843, 0.92941177]]], dtype=float32)"
            ]
          },
          "metadata": {},
          "execution_count": 148
        }
      ]
    },
    {
      "cell_type": "code",
      "metadata": {
        "colab": {
          "base_uri": "https://localhost:8080/"
        },
        "id": "r2-sCKJVfCYn",
        "outputId": "8d8b340b-2594-423d-acd9-a7a4f777464e"
      },
      "source": [
        "print(type(train_images))\n",
        "train_image_label.shape"
      ],
      "execution_count": 149,
      "outputs": [
        {
          "output_type": "stream",
          "name": "stdout",
          "text": [
            "<class 'numpy.ndarray'>\n"
          ]
        },
        {
          "output_type": "execute_result",
          "data": {
            "text/plain": [
              "(1104,)"
            ]
          },
          "metadata": {},
          "execution_count": 149
        }
      ]
    },
    {
      "cell_type": "code",
      "metadata": {
        "id": "HUIEe1t5fIBZ"
      },
      "source": [
        "train_labels = train_image_label\n",
        "val_labels = val_image_label\n",
        "test_labels = test_image_label"
      ],
      "execution_count": 150,
      "outputs": []
    },
    {
      "cell_type": "code",
      "metadata": {
        "colab": {
          "base_uri": "https://localhost:8080/"
        },
        "id": "tMqUi2qnp1vv",
        "outputId": "996f32c5-82ca-46dc-d5a1-d6268e332277"
      },
      "source": [
        "test_labels"
      ],
      "execution_count": 151,
      "outputs": [
        {
          "output_type": "execute_result",
          "data": {
            "text/plain": [
              "array([0, 1, 1, 1, 0, 0, 1, 0, 0, 0, 0, 0, 0, 1, 1, 1, 0, 1, 0, 0, 1, 0,\n",
              "       0, 1, 1, 1, 0, 0, 1, 1, 0, 1, 0, 0, 1, 0, 0, 1, 0, 0, 1, 1, 0, 0,\n",
              "       1, 0, 0, 0, 0, 1, 1, 1, 1, 0, 0, 0, 1, 0, 1, 1, 1, 1, 1, 0, 1, 1,\n",
              "       0, 1, 0, 1, 0, 0, 1, 1, 0, 0, 0, 1, 0, 0, 0, 0, 1, 1, 0, 1, 1, 1,\n",
              "       1, 1, 0, 0, 0, 1, 1, 0, 0, 1, 1, 1, 0, 1, 0, 1, 0, 0, 1, 1, 0, 0,\n",
              "       0, 0, 1, 1, 0, 0, 1, 0, 0, 0, 0, 0, 1, 0, 1, 1, 1, 0, 0, 0, 1, 0,\n",
              "       0, 0, 1, 1, 0, 0, 1, 0, 0, 1, 0, 1, 0, 0, 0, 1, 0, 1, 1, 0, 0, 0,\n",
              "       1, 1, 0, 0, 0, 0, 0, 0, 1, 1, 1, 0, 1, 0, 0, 1, 1, 0, 0, 1, 1, 0,\n",
              "       0, 0, 1, 0, 1, 1, 1, 1, 1, 1, 1, 1, 1, 1, 1, 1, 0, 1, 0, 1, 1, 1,\n",
              "       1, 0, 1, 0, 1, 0, 1, 0, 0, 1, 0, 0, 0, 0, 0, 0, 0, 1, 1, 0, 1, 1])"
            ]
          },
          "metadata": {},
          "execution_count": 151
        }
      ]
    },
    {
      "cell_type": "code",
      "metadata": {
        "id": "fDupzfQVfZZd"
      },
      "source": [
        "#Convert to tensor\n",
        "train_images = torch.from_numpy(train_images)\n",
        "train_labels = torch.from_numpy(train_labels)\n",
        "val_images = torch.from_numpy(val_images)\n",
        "val_labels = torch.from_numpy(val_labels)\n",
        "test_images = torch.from_numpy(test_images)\n",
        "test_labels = torch.from_numpy(test_labels)"
      ],
      "execution_count": 152,
      "outputs": []
    },
    {
      "cell_type": "code",
      "metadata": {
        "colab": {
          "base_uri": "https://localhost:8080/"
        },
        "id": "p6lfsTAHfjXb",
        "outputId": "a80b9f7a-9c65-49ca-ddea-e893ead392cb"
      },
      "source": [
        "#type(train_images)\n",
        "#train_labels[1]\n",
        "train_labels"
      ],
      "execution_count": 153,
      "outputs": [
        {
          "output_type": "execute_result",
          "data": {
            "text/plain": [
              "tensor([0, 1, 1,  ..., 0, 0, 1])"
            ]
          },
          "metadata": {},
          "execution_count": 153
        }
      ]
    },
    {
      "cell_type": "code",
      "metadata": {
        "id": "rr94-PdbgeUa"
      },
      "source": [
        "# to dataset\n",
        "dataset_train = TensorDataset(train_images, train_labels)\n",
        "dataset_val = TensorDataset(val_images, val_labels)\n",
        "dataset_test = TensorDataset(test_images, test_labels)"
      ],
      "execution_count": 154,
      "outputs": []
    },
    {
      "cell_type": "code",
      "metadata": {
        "colab": {
          "base_uri": "https://localhost:8080/"
        },
        "id": "na-im5dzglTD",
        "outputId": "4fe5c238-7f28-48cb-c51b-bcfc0db7866b"
      },
      "source": [
        "type(dataset_train)"
      ],
      "execution_count": 155,
      "outputs": [
        {
          "output_type": "execute_result",
          "data": {
            "text/plain": [
              "torch.utils.data.dataset.TensorDataset"
            ]
          },
          "metadata": {},
          "execution_count": 155
        }
      ]
    },
    {
      "cell_type": "code",
      "metadata": {
        "id": "hk6KaxE1gqp7"
      },
      "source": [
        "train_loader = torch.utils.data.DataLoader(dataset_train, batch_size=args[\"batch_size\"], shuffle=True)\n",
        "test_loader = torch.utils.data.DataLoader(dataset_test, batch_size=args[\"batch_size\"], shuffle=True)\n",
        "val_loader = torch.utils.data.DataLoader(dataset_val, batch_size=args[\"batch_size\"], shuffle=True)"
      ],
      "execution_count": 156,
      "outputs": []
    },
    {
      "cell_type": "code",
      "metadata": {
        "colab": {
          "base_uri": "https://localhost:8080/"
        },
        "id": "zPnRU8_cg7RQ",
        "outputId": "c63574b2-e5f8-483c-e68c-e098cfc03c77"
      },
      "source": [
        "print(train_loader)"
      ],
      "execution_count": 157,
      "outputs": [
        {
          "output_type": "stream",
          "name": "stdout",
          "text": [
            "<torch.utils.data.dataloader.DataLoader object at 0x7fa644474790>\n"
          ]
        }
      ]
    },
    {
      "cell_type": "code",
      "metadata": {
        "colab": {
          "base_uri": "https://localhost:8080/"
        },
        "id": "7Ks4JpHKhJi8",
        "outputId": "0b539863-5dab-43e1-c514-33a2d3a19846"
      },
      "source": [
        "c=0\n",
        "i=1\n",
        "for x, y in train_loader:\n",
        "    print(i,x.shape, y.shape)\n",
        "    c+=64\n",
        "    i+=1\n",
        "print(c)"
      ],
      "execution_count": 158,
      "outputs": [
        {
          "output_type": "stream",
          "name": "stdout",
          "text": [
            "1 torch.Size([64, 1, 100, 100]) torch.Size([64])\n",
            "2 torch.Size([64, 1, 100, 100]) torch.Size([64])\n",
            "3 torch.Size([64, 1, 100, 100]) torch.Size([64])\n",
            "4 torch.Size([64, 1, 100, 100]) torch.Size([64])\n",
            "5 torch.Size([64, 1, 100, 100]) torch.Size([64])\n",
            "6 torch.Size([64, 1, 100, 100]) torch.Size([64])\n",
            "7 torch.Size([64, 1, 100, 100]) torch.Size([64])\n",
            "8 torch.Size([64, 1, 100, 100]) torch.Size([64])\n",
            "9 torch.Size([64, 1, 100, 100]) torch.Size([64])\n",
            "10 torch.Size([64, 1, 100, 100]) torch.Size([64])\n",
            "11 torch.Size([64, 1, 100, 100]) torch.Size([64])\n",
            "12 torch.Size([64, 1, 100, 100]) torch.Size([64])\n",
            "13 torch.Size([64, 1, 100, 100]) torch.Size([64])\n",
            "14 torch.Size([64, 1, 100, 100]) torch.Size([64])\n",
            "15 torch.Size([64, 1, 100, 100]) torch.Size([64])\n",
            "16 torch.Size([64, 1, 100, 100]) torch.Size([64])\n",
            "17 torch.Size([64, 1, 100, 100]) torch.Size([64])\n",
            "18 torch.Size([16, 1, 100, 100]) torch.Size([16])\n",
            "1152\n"
          ]
        }
      ]
    },
    {
      "cell_type": "code",
      "metadata": {
        "id": "dwfSlxRGjnBv"
      },
      "source": [
        "# Model\n",
        "class Net(nn.Module):\n",
        "    def __init__(self):\n",
        "        super(Net, self).__init__()\n",
        "        self.conv1 = nn.Conv2d(1, 32, 3, 1)\n",
        "        self.conv2 = nn.Conv2d(32, 64, 3, 1)\n",
        "        self.fc1 = nn.Linear(64*23*23, 64)\n",
        "        self.fc2 = nn.Linear(64, 2)\n",
        "\n",
        "    def forward(self, x):\n",
        "        x = self.conv1(x)\n",
        "        x = F.relu(x)\n",
        "        x = F.max_pool2d(x, 2)\n",
        "        x = self.conv2(x)\n",
        "        x = F.relu(x)\n",
        "        x = F.max_pool2d(x, 2)\n",
        "        x = torch.flatten(x, 1)\n",
        "        x = self.fc1(x)\n",
        "        x = F.relu(x)\n",
        "        x = self.fc2(x)\n",
        "        output = F.log_softmax(x, dim=1)\n",
        "        return output"
      ],
      "execution_count": 159,
      "outputs": []
    },
    {
      "cell_type": "code",
      "metadata": {
        "colab": {
          "base_uri": "https://localhost:8080/"
        },
        "id": "ZKYTSeBojtlI",
        "outputId": "a1d01da2-1ff5-4fd1-a3d6-9444ffa5f00a"
      },
      "source": [
        "for images, y in val_loader:\n",
        "    #print(x.shape, y.shape)\n",
        "    break\n",
        "conv1 = nn.Conv2d(1, 32, 3)             \n",
        "conv2 = nn.Conv2d(32, 64, 3)\n",
        "pool = nn.MaxPool2d(2, 2)\n",
        "print(images.shape)\n",
        "x = conv1(images)\n",
        "print(x.shape)\n",
        "x = pool(x)\n",
        "print(x.shape)\n",
        "x = conv2(x)\n",
        "print(x.shape)\n",
        "x = pool(x)\n",
        "print(x.shape)"
      ],
      "execution_count": 160,
      "outputs": [
        {
          "output_type": "stream",
          "name": "stdout",
          "text": [
            "torch.Size([64, 1, 100, 100])\n",
            "torch.Size([64, 32, 98, 98])\n",
            "torch.Size([64, 32, 49, 49])\n",
            "torch.Size([64, 64, 47, 47])\n",
            "torch.Size([64, 64, 23, 23])\n"
          ]
        }
      ]
    },
    {
      "cell_type": "code",
      "metadata": {
        "colab": {
          "base_uri": "https://localhost:8080/"
        },
        "id": "Zhs7SE6t2Ybh",
        "outputId": "81d674e1-24f0-4007-e162-5a6ee7863d73"
      },
      "source": [
        "print(images.shape)                 #10x33856 and 6400x64)\n",
        "#torch.Size([64, 1, 100, 100]) batch size, color channel, size"
      ],
      "execution_count": 161,
      "outputs": [
        {
          "output_type": "stream",
          "name": "stdout",
          "text": [
            "torch.Size([64, 1, 100, 100])\n"
          ]
        }
      ]
    },
    {
      "cell_type": "code",
      "metadata": {
        "id": "4ahcIVO5q1FN"
      },
      "source": [
        "class DatasetSplit(Dataset):\n",
        "    def __init__(self, dataset_train, idxs):\n",
        "        self.dataset_train = dataset_train\n",
        "        self.idxs = list(idxs)\n",
        "\n",
        "    def __len__(self):\n",
        "        return len(self.idxs)\n",
        "\n",
        "    def __getitem__(self, item):\n",
        "        image, label = self.dataset_train[self.idxs[item]]\n",
        "        return image, label"
      ],
      "execution_count": 162,
      "outputs": []
    },
    {
      "cell_type": "code",
      "metadata": {
        "id": "MBK92R7Yq4rH"
      },
      "source": [
        "# Distribute data - IID\n",
        "num_items = int(len(dataset_train)/args[\"num_clients\"])\n",
        "dict_users, all_idxs = {}, [i for i in range(len(dataset_train))]\n",
        "for i in range(args[\"num_clients\"]):\n",
        "    dict_users[i] = set(np.random.choice(all_idxs, num_items, replace=False))\n",
        "    all_idxs = list(set(all_idxs) - dict_users[i])\n",
        "\n",
        "local_datasets = []\n",
        "for i in range(args[\"num_clients\"]):\n",
        "    local_datasets.append(DataLoader(DatasetSplit(dataset_train, dict_users[i]),\n",
        "                                 batch_size=args[\"bs_local\"], shuffle=True))"
      ],
      "execution_count": 163,
      "outputs": []
    },
    {
      "cell_type": "code",
      "metadata": {
        "colab": {
          "base_uri": "https://localhost:8080/"
        },
        "id": "WJQYtmAurDnT",
        "outputId": "2e6caea7-2f42-4687-ec77-369dacdb2096"
      },
      "source": [
        "len(local_datasets[0])"
      ],
      "execution_count": 164,
      "outputs": [
        {
          "output_type": "execute_result",
          "data": {
            "text/plain": [
              "56"
            ]
          },
          "metadata": {},
          "execution_count": 164
        }
      ]
    },
    {
      "cell_type": "code",
      "metadata": {
        "id": "gipB41gzrbCQ"
      },
      "source": [
        "class Client:\n",
        "    num_clients = 0\n",
        "    def __init__(self, data):\n",
        "        self.id = Client.num_clients\n",
        "        self.dataloader = data\n",
        "        self.__model = None\n",
        "        self.model_record = []\n",
        "        self.device = device\n",
        "        self.unlearned = False\n",
        "        Client.num_clients += 1\n",
        "        \n",
        "        \n",
        "    def setup(self, args):\n",
        "        self.local_epoch = args[\"ep_local\"]\n",
        "        \n",
        "        \n",
        "    @property\n",
        "    def unlearned(self):\n",
        "        return self.__unlearned\n",
        "    \n",
        "    \n",
        "    @unlearned.setter\n",
        "    def unlearned(self, unlearned):\n",
        "        self.__unlearned = unlearned\n",
        "        \n",
        "        \n",
        "    @property\n",
        "    def model(self):\n",
        "        return self.__model\n",
        "    \n",
        "    \n",
        "    @model.setter\n",
        "    def model(self, model):\n",
        "        self.__model = model\n",
        "        \n",
        "        \n",
        "    def client_update(self):\n",
        "        self.model.train()\n",
        "        self.model.to(self.device)\n",
        "\n",
        "        optimizer = optim.SGD(self.model.parameters(), lr=0.01)\n",
        "        epoch_loss = []\n",
        "        \n",
        "        for epoch in range(self.local_epoch):\n",
        "            batch_loss = []\n",
        "            \n",
        "            for batch_idx, (data, labels) in enumerate(self.dataloader):\n",
        "                data, labels = data.to(self.device), labels.long().to(self.device)\n",
        "                 \n",
        "                self.model.zero_grad()\n",
        "                outputs = self.model(data)\n",
        "                loss = F.nll_loss(outputs, labels)\n",
        "\n",
        "                loss.backward()\n",
        "                optimizer.step() \n",
        "\n",
        "                batch_loss.append(loss.item())\n",
        "            \n",
        "            #print(f\"Train Epoch: {epoch} \\tLoss: {loss.item():.6f}\")\n",
        "            epoch_loss.append(sum(batch_loss)/len(batch_loss))\n",
        "\n",
        "        #return self.model.state_dict(), sum(epoch_loss) / len(epoch_loss)\n",
        "        return self.model, sum(epoch_loss) / len(epoch_loss)\n",
        "    \n",
        "    \n",
        "    def client_test(self):\n",
        "        self.model.eval()\n",
        "        self.model.to(self.device)\n",
        "        test_loss, correct = 0, 0\n",
        "        with torch.no_grad():\n",
        "            for data, labels in self.dataloader:\n",
        "                data, labels = data.to(self.device), labels.to(self.device)\n",
        "                outputs = self.model(data)\n",
        "                test_loss += F.nll_loss(outputs, labels, reduction='sum').item()\n",
        "                predicted = outputs.argmax(dim=1, keepdim=True)\n",
        "                correct += predicted.eq(labels.data.view_as(predicted)).long().cpu().sum()\n",
        "\n",
        "\n",
        "        test_loss /= len(self.dataloader.dataset)\n",
        "        test_accuracy = correct / len(self.dataloader.dataset)\n",
        "\n",
        "        print(f\"Average loss: {test_loss:.4f}, Accuracy: {100. * test_accuracy:.2f}%\")\n",
        "\n",
        "        return test_accuracy, test_loss"
      ],
      "execution_count": 165,
      "outputs": []
    },
    {
      "cell_type": "code",
      "metadata": {
        "id": "6a3pdut6rlBE"
      },
      "source": [
        "class Server:\n",
        "    def __init__(self):\n",
        "        self.round = 0\n",
        "        self.model = Net().to(device)\n",
        "        self.w_glob = None\n",
        "        self.device = device\n",
        "        \n",
        "        self.history = {\n",
        "            \"train_loss\": [], \n",
        "            \"test_loss\": [], \n",
        "            \"train_acc\": [],\n",
        "            \"test_acc\": []\n",
        "        }\n",
        "        \n",
        "        \n",
        "    def setup(self, args):\n",
        "        self.train_loader = train_loader\n",
        "        self.test_loader = test_loader\n",
        "        \n",
        "        self.num_clients = args[\"num_clients\"]\n",
        "        self.num_rounds = args[\"epochs\"]\n",
        "        self.local_epochs = args[\"ep_local\"]\n",
        "        self.batch_size = args[\"batch_size\"]\n",
        "        self.clients = args[\"clients\"]\n",
        "        self.unlearned_clients = args[\"unlearned_clients\"]\n",
        "        \n",
        "        self.local_model_record = [[] for i in range(self.num_clients)]\n",
        "        self.global_model_record = []\n",
        "        \n",
        "        \n",
        "    def fedAvg(self, w):\n",
        "        w_avg = copy.deepcopy(w[0])\n",
        "        for k in w_avg.keys():\n",
        "            for i in range(1, len(w)):\n",
        "                w_avg[k] += w[i][k]\n",
        "            w_avg[k] = torch.div(w_avg[k], len(w))\n",
        "        self.model\n",
        "        return w_avg\n",
        "    \n",
        "    \n",
        "    def send_global_model(self):\n",
        "        for client in self.clients:\n",
        "            #client.w_local = copy.deepcopy(self.w_glob)\n",
        "            client.model = copy.deepcopy(self.model)\n",
        "            client.model_record.append(client.model)\n",
        "        \n",
        "        \n",
        "    def train_global_model(self):\n",
        "        w_locals = [self.w_glob for i in range(self.num_clients)]\n",
        "        loss_locals = [0 for i in range(self.num_clients)]\n",
        "        \n",
        "        # Send global model to clients\n",
        "        self.send_global_model()\n",
        "        print(\"Send global model to all clients...\")\n",
        "        \n",
        "        # Train local model\n",
        "        acc_test_clients, loss_test_clients = [], []\n",
        "        for id, client in enumerate(self.clients):\n",
        "            print(f\"\\nUpdating client {id}...\")\n",
        "            local_model, loss_train_client = client.client_update()\n",
        "            \n",
        "            # Save local models\n",
        "            self.local_model_record[id].append(local_model)\n",
        "            w_locals.append(local_model.state_dict())\n",
        "            #print(w_locals)\n",
        "            loss_locals.append(loss_train_client)\n",
        "            \n",
        "            print(f\"Evaluating client {id}...\")\n",
        "            acc_test_client, loss_test_client = client.client_test()\n",
        "            acc_test_clients.append(acc_test_client)\n",
        "            loss_test_clients.append(loss_test_client)\n",
        "            \n",
        "            \n",
        "        # Fed Aggregation\n",
        "        w_glob = self.fedAvg(w_locals)\n",
        "            \n",
        "        # Update global model\n",
        "        self.model.load_state_dict(w_glob)\n",
        "            \n",
        "        return acc_test_clients, loss_locals\n",
        "    \n",
        "    \n",
        "    def federated_learning(self):\n",
        "        self.model.train()\n",
        "        self.w_glob = self.model.state_dict()\n",
        "        \n",
        "        print(\"\\tFederated Learning:\")\n",
        "        for round in tqdm(range(self.num_rounds)):\n",
        "            self.round = round + 1\n",
        "            print(f\"\\nRound {self.round}/{self.num_rounds}: Starting...\")\n",
        "            acc_train_clients, loss_train_clients = self.train_global_model()\n",
        "            self.history[\"train_acc\"].append(100*sum(acc_train_clients)/len(acc_train_clients))\n",
        "            self.history[\"train_loss\"].append(sum(loss_train_clients)/len(loss_train_clients))\n",
        "            \n",
        "            print(f\"\\nRound {self.round}: Evaluating...\")\n",
        "            # Save test accuracy and loss\n",
        "            acc_test_server, loss_test_server = self.test_global_model()\n",
        "            self.history[\"test_acc\"].append(acc_test_server)\n",
        "            self.history[\"test_loss\"].append(loss_test_server)\n",
        "            \n",
        "            print(f\"|---- Average Clients Loss: {sum(loss_train_clients) / len(loss_train_clients)}\")\n",
        "            print(f\"|---- Average Clients Accuracy: {100*sum(acc_train_clients)/len(acc_train_clients):.2f}%\")\n",
        "            print(f\"|---- Server Testing Accuracy: {acc_test_server:.2f}%\")\n",
        "            \n",
        "            print(f\"\\nRound {self.round}: Finished!\\n\")\n",
        "            print(f\"---------------------------------\")\n",
        "            \n",
        "        self.show_result()\n",
        "        self.plot(self.history)\n",
        "        \n",
        "        \n",
        "    def show_result(self):\n",
        "        # Testing data\n",
        "        acc_test_server, loss_test_server = self.test_global_model()\n",
        "        print(f' \\n Results after {self.num_rounds} global rounds of training:')\n",
        "        print(f\"|---- Testing Accuracy: {acc_test_server:.2f}%\")\n",
        "\n",
        "        # Unlearned client\n",
        "        print(f\"\\nUnlearned Clients:\")\n",
        "        for i in self.unlearned_clients:\n",
        "            acc_test, loss_test = self.clients[i].client_test()\n",
        "            print(f\"|---- Unlearned Client - {i} Accuracy: {100*acc_test:.2f}%\")\n",
        "            \n",
        "            \n",
        "    def plot(self, history):\n",
        "        fig, axs = plt.subplots(2, 1)\n",
        "        axs[0].plot(history[\"train_loss\"], color=\"b\", label=\"Training Loss\")\n",
        "        axs[0].plot(history[\"test_loss\"], color='r', label=\"Testing Loss\")\n",
        "        legend = axs[0].legend(loc=\"best\", shadow=True)\n",
        "        axs[0].set_xlabel(\"Communication Rounds\")\n",
        "        axs[0].set_ylabel(\"Loss\")\n",
        "        \n",
        "        axs[1].plot(history[\"train_acc\"], color=\"b\", label=\"Training Accuracy\")\n",
        "        axs[1].plot(history[\"test_acc\"], color='r', label=\"Testing Accuracy\")\n",
        "        legend = axs[1].legend(loc=\"best\", shadow=True)\n",
        "        axs[1].set_xlabel(\"Communication Rounds\")\n",
        "        axs[1].set_ylabel(\"Accuracy\")\n",
        "        \n",
        "        \n",
        "    def test_global_model(self):\n",
        "        self.model.eval()\n",
        "        \n",
        "        test_loss = 0\n",
        "        correct = 0\n",
        "        with torch.no_grad():\n",
        "            for data, labels in self.test_loader:\n",
        "                data, labels = data.to(self.device), labels.to(self.device)\n",
        "                output = self.model(data)\n",
        "                test_loss += F.nll_loss(output, labels, reduction='sum').item()  \n",
        "                pred = output.argmax(dim=1, keepdim=True)  \n",
        "                #correct += pred.eq(target.view_as(pred)).sum().item()\n",
        "                correct += pred.eq(labels.data.view_as(pred)).long().cpu().sum()\n",
        "\n",
        "\n",
        "        test_loss /= len(self.test_loader.dataset)\n",
        "        accuracy = 100. * correct / len(self.test_loader.dataset)\n",
        "\n",
        "        print(f'\\nTest set: Average loss: {test_loss:.4f}, Accuracy: {correct}/{len(test_loader.dataset)} ({ 100. * correct / len(test_loader.dataset):.2f}%)\\n')\n",
        "\n",
        "        return accuracy, test_loss\n",
        "    "
      ],
      "execution_count": 166,
      "outputs": []
    },
    {
      "cell_type": "code",
      "metadata": {
        "id": "-80XmKTur1f8"
      },
      "source": [
        "# Create clients and distribute the dataset \n",
        "# All clients are stored in list clients\n",
        "args[\"clients\"] = []\n",
        "for i in range(args[\"num_clients\"]):\n",
        "    client = Client(local_datasets[i])\n",
        "    client.setup(args)\n",
        "    args[\"clients\"].append(client)\n",
        "    \n",
        "for unlearned in args[\"unlearned_clients\"]:\n",
        "    args[\"clients\"][unlearned].unlearned = True"
      ],
      "execution_count": 167,
      "outputs": []
    },
    {
      "cell_type": "code",
      "metadata": {
        "id": "u1YSgtSLr5rA"
      },
      "source": [
        "# Create a server\n",
        "server = Server()\n",
        "server.setup(args)"
      ],
      "execution_count": 168,
      "outputs": []
    },
    {
      "cell_type": "code",
      "metadata": {
        "colab": {
          "base_uri": "https://localhost:8080/",
          "height": 1000
        },
        "id": "hIYPZrQrr7v8",
        "outputId": "b9ec229f-e951-478a-b854-091135d0c7b9"
      },
      "source": [
        "server.federated_learning()"
      ],
      "execution_count": 169,
      "outputs": [
        {
          "metadata": {
            "tags": null
          },
          "name": "stdout",
          "output_type": "stream",
          "text": [
            "\tFederated Learning:\n"
          ]
        },
        {
          "metadata": {
            "tags": null
          },
          "name": "stderr",
          "output_type": "stream",
          "text": [
            "\r  0%|          | 0/100 [00:00<?, ?it/s]"
          ]
        },
        {
          "metadata": {
            "tags": null
          },
          "name": "stdout",
          "output_type": "stream",
          "text": [
            "\n",
            "Round 1/100: Starting...\n",
            "Send global model to all clients...\n",
            "\n",
            "Updating client 0...\n",
            "Evaluating client 0...\n",
            "Average loss: 0.6775, Accuracy: 49.82%\n",
            "\n",
            "Updating client 1...\n",
            "Evaluating client 1...\n",
            "Average loss: 0.6566, Accuracy: 71.38%\n",
            "\n",
            "Round 1: Evaluating...\n"
          ]
        },
        {
          "metadata": {
            "tags": null
          },
          "name": "stderr",
          "output_type": "stream",
          "text": [
            "\r  1%|          | 1/100 [00:36<59:25, 36.01s/it]"
          ]
        },
        {
          "metadata": {
            "tags": null
          },
          "name": "stdout",
          "output_type": "stream",
          "text": [
            "\n",
            "Test set: Average loss: 0.6779, Accuracy: 125/220 (56.82%)\n",
            "\n",
            "|---- Average Clients Loss: 0.3429437580385378\n",
            "|---- Average Clients Accuracy: 60.60%\n",
            "|---- Server Testing Accuracy: 56.82%\n",
            "\n",
            "Round 1: Finished!\n",
            "\n",
            "---------------------------------\n",
            "\n",
            "Round 2/100: Starting...\n",
            "Send global model to all clients...\n",
            "\n",
            "Updating client 0...\n",
            "Evaluating client 0...\n",
            "Average loss: 0.7300, Accuracy: 49.82%\n",
            "\n",
            "Updating client 1...\n",
            "Evaluating client 1...\n",
            "Average loss: 0.6156, Accuracy: 71.74%\n",
            "\n",
            "Round 2: Evaluating...\n"
          ]
        },
        {
          "metadata": {
            "tags": null
          },
          "name": "stderr",
          "output_type": "stream",
          "text": [
            "\r  2%|▏         | 2/100 [01:11<58:16, 35.68s/it]"
          ]
        },
        {
          "metadata": {
            "tags": null
          },
          "name": "stdout",
          "output_type": "stream",
          "text": [
            "\n",
            "Test set: Average loss: 0.6594, Accuracy: 130/220 (59.09%)\n",
            "\n",
            "|---- Average Clients Loss: 0.3336932685758386\n",
            "|---- Average Clients Accuracy: 60.78%\n",
            "|---- Server Testing Accuracy: 59.09%\n",
            "\n",
            "Round 2: Finished!\n",
            "\n",
            "---------------------------------\n",
            "\n",
            "Round 3/100: Starting...\n",
            "Send global model to all clients...\n",
            "\n",
            "Updating client 0...\n",
            "Evaluating client 0...\n",
            "Average loss: 0.5792, Accuracy: 73.37%\n",
            "\n",
            "Updating client 1...\n",
            "Evaluating client 1...\n",
            "Average loss: 0.8126, Accuracy: 48.91%\n",
            "\n",
            "Round 3: Evaluating...\n"
          ]
        },
        {
          "metadata": {
            "tags": null
          },
          "name": "stderr",
          "output_type": "stream",
          "text": [
            "\r  3%|▎         | 3/100 [01:47<58:06, 35.94s/it]"
          ]
        },
        {
          "metadata": {
            "tags": null
          },
          "name": "stdout",
          "output_type": "stream",
          "text": [
            "\n",
            "Test set: Average loss: 0.6205, Accuracy: 146/220 (66.36%)\n",
            "\n",
            "|---- Average Clients Loss: 0.31927425420976113\n",
            "|---- Average Clients Accuracy: 61.14%\n",
            "|---- Server Testing Accuracy: 66.36%\n",
            "\n",
            "Round 3: Finished!\n",
            "\n",
            "---------------------------------\n",
            "\n",
            "Round 4/100: Starting...\n",
            "Send global model to all clients...\n",
            "\n",
            "Updating client 0...\n",
            "Evaluating client 0...\n",
            "Average loss: 0.5650, Accuracy: 71.20%\n",
            "\n",
            "Updating client 1...\n",
            "Evaluating client 1...\n",
            "Average loss: 0.6460, Accuracy: 61.59%\n",
            "\n",
            "Round 4: Evaluating...\n"
          ]
        },
        {
          "metadata": {
            "tags": null
          },
          "name": "stderr",
          "output_type": "stream",
          "text": [
            "\r  4%|▍         | 4/100 [02:23<57:43, 36.07s/it]"
          ]
        },
        {
          "metadata": {
            "tags": null
          },
          "name": "stdout",
          "output_type": "stream",
          "text": [
            "\n",
            "Test set: Average loss: 0.5893, Accuracy: 153/220 (69.55%)\n",
            "\n",
            "|---- Average Clients Loss: 0.3025837561248669\n",
            "|---- Average Clients Accuracy: 66.39%\n",
            "|---- Server Testing Accuracy: 69.55%\n",
            "\n",
            "Round 4: Finished!\n",
            "\n",
            "---------------------------------\n",
            "\n",
            "Round 5/100: Starting...\n",
            "Send global model to all clients...\n",
            "\n",
            "Updating client 0...\n",
            "Evaluating client 0...\n",
            "Average loss: 0.6746, Accuracy: 61.59%\n",
            "\n",
            "Updating client 1...\n",
            "Evaluating client 1...\n",
            "Average loss: 0.7947, Accuracy: 52.72%\n",
            "\n",
            "Round 5: Evaluating...\n"
          ]
        },
        {
          "metadata": {
            "tags": null
          },
          "name": "stderr",
          "output_type": "stream",
          "text": [
            "\r  5%|▌         | 5/100 [03:00<57:09, 36.10s/it]"
          ]
        },
        {
          "metadata": {
            "tags": null
          },
          "name": "stdout",
          "output_type": "stream",
          "text": [
            "\n",
            "Test set: Average loss: 0.6244, Accuracy: 143/220 (65.00%)\n",
            "\n",
            "|---- Average Clients Loss: 0.2900616547891072\n",
            "|---- Average Clients Accuracy: 57.16%\n",
            "|---- Server Testing Accuracy: 65.00%\n",
            "\n",
            "Round 5: Finished!\n",
            "\n",
            "---------------------------------\n",
            "\n",
            "Round 6/100: Starting...\n",
            "Send global model to all clients...\n",
            "\n",
            "Updating client 0...\n",
            "Evaluating client 0...\n",
            "Average loss: 0.8006, Accuracy: 53.08%\n",
            "\n",
            "Updating client 1...\n",
            "Evaluating client 1...\n",
            "Average loss: 0.5267, Accuracy: 73.19%\n",
            "\n",
            "Round 6: Evaluating...\n"
          ]
        },
        {
          "metadata": {
            "tags": null
          },
          "name": "stderr",
          "output_type": "stream",
          "text": [
            "\r  6%|▌         | 6/100 [03:36<56:34, 36.11s/it]"
          ]
        },
        {
          "metadata": {
            "tags": null
          },
          "name": "stdout",
          "output_type": "stream",
          "text": [
            "\n",
            "Test set: Average loss: 0.6400, Accuracy: 141/220 (64.09%)\n",
            "\n",
            "|---- Average Clients Loss: 0.27727289461264654\n",
            "|---- Average Clients Accuracy: 63.13%\n",
            "|---- Server Testing Accuracy: 64.09%\n",
            "\n",
            "Round 6: Finished!\n",
            "\n",
            "---------------------------------\n",
            "\n",
            "Round 7/100: Starting...\n",
            "Send global model to all clients...\n",
            "\n",
            "Updating client 0...\n",
            "Evaluating client 0...\n",
            "Average loss: 0.4739, Accuracy: 76.45%\n",
            "\n",
            "Updating client 1...\n",
            "Evaluating client 1...\n",
            "Average loss: 0.6058, Accuracy: 65.58%\n",
            "\n",
            "Round 7: Evaluating...\n"
          ]
        },
        {
          "metadata": {
            "tags": null
          },
          "name": "stderr",
          "output_type": "stream",
          "text": [
            "\r  7%|▋         | 7/100 [04:12<56:06, 36.19s/it]"
          ]
        },
        {
          "metadata": {
            "tags": null
          },
          "name": "stdout",
          "output_type": "stream",
          "text": [
            "\n",
            "Test set: Average loss: 0.5381, Accuracy: 160/220 (72.73%)\n",
            "\n",
            "|---- Average Clients Loss: 0.2655475176870823\n",
            "|---- Average Clients Accuracy: 71.01%\n",
            "|---- Server Testing Accuracy: 72.73%\n",
            "\n",
            "Round 7: Finished!\n",
            "\n",
            "---------------------------------\n",
            "\n",
            "Round 8/100: Starting...\n",
            "Send global model to all clients...\n",
            "\n",
            "Updating client 0...\n",
            "Evaluating client 0...\n",
            "Average loss: 0.4800, Accuracy: 78.44%\n",
            "\n",
            "Updating client 1...\n",
            "Evaluating client 1...\n",
            "Average loss: 0.6043, Accuracy: 67.39%\n",
            "\n",
            "Round 8: Evaluating...\n"
          ]
        },
        {
          "metadata": {
            "tags": null
          },
          "name": "stderr",
          "output_type": "stream",
          "text": [
            "\r  8%|▊         | 8/100 [04:49<55:35, 36.25s/it]"
          ]
        },
        {
          "metadata": {
            "tags": null
          },
          "name": "stdout",
          "output_type": "stream",
          "text": [
            "\n",
            "Test set: Average loss: 0.5354, Accuracy: 170/220 (77.27%)\n",
            "\n",
            "|---- Average Clients Loss: 0.2529909003060311\n",
            "|---- Average Clients Accuracy: 72.92%\n",
            "|---- Server Testing Accuracy: 77.27%\n",
            "\n",
            "Round 8: Finished!\n",
            "\n",
            "---------------------------------\n",
            "\n",
            "Round 9/100: Starting...\n",
            "Send global model to all clients...\n",
            "\n",
            "Updating client 0...\n",
            "Evaluating client 0...\n",
            "Average loss: 0.6556, Accuracy: 59.42%\n",
            "\n",
            "Updating client 1...\n",
            "Evaluating client 1...\n",
            "Average loss: 1.0178, Accuracy: 54.53%\n",
            "\n",
            "Round 9: Evaluating...\n"
          ]
        },
        {
          "metadata": {
            "tags": null
          },
          "name": "stderr",
          "output_type": "stream",
          "text": [
            "\r  9%|▉         | 9/100 [05:25<54:59, 36.26s/it]"
          ]
        },
        {
          "metadata": {
            "tags": null
          },
          "name": "stdout",
          "output_type": "stream",
          "text": [
            "\n",
            "Test set: Average loss: 0.5135, Accuracy: 169/220 (76.82%)\n",
            "\n",
            "|---- Average Clients Loss: 0.24593867996840607\n",
            "|---- Average Clients Accuracy: 56.97%\n",
            "|---- Server Testing Accuracy: 76.82%\n",
            "\n",
            "Round 9: Finished!\n",
            "\n",
            "---------------------------------\n",
            "\n",
            "Round 10/100: Starting...\n",
            "Send global model to all clients...\n",
            "\n",
            "Updating client 0...\n",
            "Evaluating client 0...\n",
            "Average loss: 0.4924, Accuracy: 74.82%\n",
            "\n",
            "Updating client 1...\n",
            "Evaluating client 1...\n",
            "Average loss: 0.9206, Accuracy: 56.16%\n",
            "\n",
            "Round 10: Evaluating...\n"
          ]
        },
        {
          "metadata": {
            "tags": null
          },
          "name": "stderr",
          "output_type": "stream",
          "text": [
            "\r 10%|█         | 10/100 [06:01<54:26, 36.30s/it]"
          ]
        },
        {
          "metadata": {
            "tags": null
          },
          "name": "stdout",
          "output_type": "stream",
          "text": [
            "\n",
            "Test set: Average loss: 0.5538, Accuracy: 163/220 (74.09%)\n",
            "\n",
            "|---- Average Clients Loss: 0.23594058943646293\n",
            "|---- Average Clients Accuracy: 65.49%\n",
            "|---- Server Testing Accuracy: 74.09%\n",
            "\n",
            "Round 10: Finished!\n",
            "\n",
            "---------------------------------\n",
            "\n",
            "Round 11/100: Starting...\n",
            "Send global model to all clients...\n",
            "\n",
            "Updating client 0...\n",
            "Evaluating client 0...\n",
            "Average loss: 0.5097, Accuracy: 71.92%\n",
            "\n",
            "Updating client 1...\n",
            "Evaluating client 1...\n",
            "Average loss: 0.4644, Accuracy: 77.90%\n",
            "\n",
            "Round 11: Evaluating...\n"
          ]
        },
        {
          "metadata": {
            "tags": null
          },
          "name": "stderr",
          "output_type": "stream",
          "text": [
            "\r 11%|█         | 11/100 [06:37<53:45, 36.24s/it]"
          ]
        },
        {
          "metadata": {
            "tags": null
          },
          "name": "stdout",
          "output_type": "stream",
          "text": [
            "\n",
            "Test set: Average loss: 0.4952, Accuracy: 169/220 (76.82%)\n",
            "\n",
            "|---- Average Clients Loss: 0.23001699851426696\n",
            "|---- Average Clients Accuracy: 74.91%\n",
            "|---- Server Testing Accuracy: 76.82%\n",
            "\n",
            "Round 11: Finished!\n",
            "\n",
            "---------------------------------\n",
            "\n",
            "Round 12/100: Starting...\n",
            "Send global model to all clients...\n",
            "\n",
            "Updating client 0...\n",
            "Evaluating client 0...\n",
            "Average loss: 0.8867, Accuracy: 53.44%\n",
            "\n",
            "Updating client 1...\n",
            "Evaluating client 1...\n",
            "Average loss: 0.4267, Accuracy: 79.71%\n",
            "\n",
            "Round 12: Evaluating...\n"
          ]
        },
        {
          "metadata": {
            "tags": null
          },
          "name": "stderr",
          "output_type": "stream",
          "text": [
            "\r 12%|█▏        | 12/100 [07:14<53:17, 36.33s/it]"
          ]
        },
        {
          "metadata": {
            "tags": null
          },
          "name": "stdout",
          "output_type": "stream",
          "text": [
            "\n",
            "Test set: Average loss: 0.4955, Accuracy: 180/220 (81.82%)\n",
            "\n",
            "|---- Average Clients Loss: 0.22334263839625887\n",
            "|---- Average Clients Accuracy: 66.58%\n",
            "|---- Server Testing Accuracy: 81.82%\n",
            "\n",
            "Round 12: Finished!\n",
            "\n",
            "---------------------------------\n",
            "\n",
            "Round 13/100: Starting...\n",
            "Send global model to all clients...\n",
            "\n",
            "Updating client 0...\n",
            "Evaluating client 0...\n",
            "Average loss: 0.6230, Accuracy: 61.78%\n",
            "\n",
            "Updating client 1...\n",
            "Evaluating client 1...\n",
            "Average loss: 0.4895, Accuracy: 76.81%\n",
            "\n",
            "Round 13: Evaluating...\n"
          ]
        },
        {
          "metadata": {
            "tags": null
          },
          "name": "stderr",
          "output_type": "stream",
          "text": [
            "\r 13%|█▎        | 13/100 [07:50<52:35, 36.27s/it]"
          ]
        },
        {
          "metadata": {
            "tags": null
          },
          "name": "stdout",
          "output_type": "stream",
          "text": [
            "\n",
            "Test set: Average loss: 0.5133, Accuracy: 168/220 (76.36%)\n",
            "\n",
            "|---- Average Clients Loss: 0.21835717326030135\n",
            "|---- Average Clients Accuracy: 69.29%\n",
            "|---- Server Testing Accuracy: 76.36%\n",
            "\n",
            "Round 13: Finished!\n",
            "\n",
            "---------------------------------\n",
            "\n",
            "Round 14/100: Starting...\n",
            "Send global model to all clients...\n",
            "\n",
            "Updating client 0...\n",
            "Evaluating client 0...\n",
            "Average loss: 0.4584, Accuracy: 76.63%\n",
            "\n",
            "Updating client 1...\n",
            "Evaluating client 1...\n",
            "Average loss: 0.3617, Accuracy: 85.69%\n",
            "\n",
            "Round 14: Evaluating...\n"
          ]
        },
        {
          "metadata": {
            "tags": null
          },
          "name": "stderr",
          "output_type": "stream",
          "text": [
            "\r 14%|█▍        | 14/100 [08:27<52:19, 36.50s/it]"
          ]
        },
        {
          "metadata": {
            "tags": null
          },
          "name": "stdout",
          "output_type": "stream",
          "text": [
            "\n",
            "Test set: Average loss: 0.4942, Accuracy: 174/220 (79.09%)\n",
            "\n",
            "|---- Average Clients Loss: 0.21097158436064742\n",
            "|---- Average Clients Accuracy: 81.16%\n",
            "|---- Server Testing Accuracy: 79.09%\n",
            "\n",
            "Round 14: Finished!\n",
            "\n",
            "---------------------------------\n",
            "\n",
            "Round 15/100: Starting...\n",
            "Send global model to all clients...\n",
            "\n",
            "Updating client 0...\n",
            "Evaluating client 0...\n",
            "Average loss: 0.3947, Accuracy: 81.16%\n",
            "\n",
            "Updating client 1...\n",
            "Evaluating client 1...\n",
            "Average loss: 0.9424, Accuracy: 52.54%\n",
            "\n",
            "Round 15: Evaluating...\n"
          ]
        },
        {
          "metadata": {
            "tags": null
          },
          "name": "stderr",
          "output_type": "stream",
          "text": [
            "\r 15%|█▌        | 15/100 [09:04<51:53, 36.63s/it]"
          ]
        },
        {
          "metadata": {
            "tags": null
          },
          "name": "stdout",
          "output_type": "stream",
          "text": [
            "\n",
            "Test set: Average loss: 0.5356, Accuracy: 158/220 (71.82%)\n",
            "\n",
            "|---- Average Clients Loss: 0.21338069548697342\n",
            "|---- Average Clients Accuracy: 66.85%\n",
            "|---- Server Testing Accuracy: 71.82%\n",
            "\n",
            "Round 15: Finished!\n",
            "\n",
            "---------------------------------\n",
            "\n",
            "Round 16/100: Starting...\n",
            "Send global model to all clients...\n",
            "\n",
            "Updating client 0...\n",
            "Evaluating client 0...\n",
            "Average loss: 0.3351, Accuracy: 88.77%\n",
            "\n",
            "Updating client 1...\n",
            "Evaluating client 1...\n",
            "Average loss: 0.3422, Accuracy: 85.33%\n",
            "\n",
            "Round 16: Evaluating...\n"
          ]
        },
        {
          "metadata": {
            "tags": null
          },
          "name": "stderr",
          "output_type": "stream",
          "text": [
            "\r 16%|█▌        | 16/100 [09:41<51:23, 36.71s/it]"
          ]
        },
        {
          "metadata": {
            "tags": null
          },
          "name": "stdout",
          "output_type": "stream",
          "text": [
            "\n",
            "Test set: Average loss: 0.4830, Accuracy: 171/220 (77.73%)\n",
            "\n",
            "|---- Average Clients Loss: 0.20056180948657648\n",
            "|---- Average Clients Accuracy: 87.05%\n",
            "|---- Server Testing Accuracy: 77.73%\n",
            "\n",
            "Round 16: Finished!\n",
            "\n",
            "---------------------------------\n",
            "\n",
            "Round 17/100: Starting...\n",
            "Send global model to all clients...\n",
            "\n",
            "Updating client 0...\n",
            "Evaluating client 0...\n",
            "Average loss: 0.5220, Accuracy: 70.47%\n",
            "\n",
            "Updating client 1...\n",
            "Evaluating client 1...\n",
            "Average loss: 0.3349, Accuracy: 85.87%\n",
            "\n",
            "Round 17: Evaluating...\n"
          ]
        },
        {
          "metadata": {
            "tags": null
          },
          "name": "stderr",
          "output_type": "stream",
          "text": [
            "\r 17%|█▋        | 17/100 [10:18<50:52, 36.78s/it]"
          ]
        },
        {
          "metadata": {
            "tags": null
          },
          "name": "stdout",
          "output_type": "stream",
          "text": [
            "\n",
            "Test set: Average loss: 0.4646, Accuracy: 176/220 (80.00%)\n",
            "\n",
            "|---- Average Clients Loss: 0.20205627671176835\n",
            "|---- Average Clients Accuracy: 78.17%\n",
            "|---- Server Testing Accuracy: 80.00%\n",
            "\n",
            "Round 17: Finished!\n",
            "\n",
            "---------------------------------\n",
            "\n",
            "Round 18/100: Starting...\n",
            "Send global model to all clients...\n",
            "\n",
            "Updating client 0...\n",
            "Evaluating client 0...\n",
            "Average loss: 0.5675, Accuracy: 70.29%\n",
            "\n",
            "Updating client 1...\n",
            "Evaluating client 1...\n",
            "Average loss: 0.3191, Accuracy: 87.14%\n",
            "\n",
            "Round 18: Evaluating...\n"
          ]
        },
        {
          "metadata": {
            "tags": null
          },
          "name": "stderr",
          "output_type": "stream",
          "text": [
            "\r 18%|█▊        | 18/100 [10:54<50:11, 36.72s/it]"
          ]
        },
        {
          "metadata": {
            "tags": null
          },
          "name": "stdout",
          "output_type": "stream",
          "text": [
            "\n",
            "Test set: Average loss: 0.4188, Accuracy: 180/220 (81.82%)\n",
            "\n",
            "|---- Average Clients Loss: 0.19384658616036177\n",
            "|---- Average Clients Accuracy: 78.71%\n",
            "|---- Server Testing Accuracy: 81.82%\n",
            "\n",
            "Round 18: Finished!\n",
            "\n",
            "---------------------------------\n",
            "\n",
            "Round 19/100: Starting...\n",
            "Send global model to all clients...\n",
            "\n",
            "Updating client 0...\n",
            "Evaluating client 0...\n",
            "Average loss: 0.8406, Accuracy: 57.61%\n",
            "\n",
            "Updating client 1...\n",
            "Evaluating client 1...\n",
            "Average loss: 1.0066, Accuracy: 55.62%\n",
            "\n",
            "Round 19: Evaluating...\n"
          ]
        },
        {
          "metadata": {
            "tags": null
          },
          "name": "stderr",
          "output_type": "stream",
          "text": [
            "\r 19%|█▉        | 19/100 [11:31<49:26, 36.62s/it]"
          ]
        },
        {
          "metadata": {
            "tags": null
          },
          "name": "stdout",
          "output_type": "stream",
          "text": [
            "\n",
            "Test set: Average loss: 0.4172, Accuracy: 183/220 (83.18%)\n",
            "\n",
            "|---- Average Clients Loss: 0.18064801077291903\n",
            "|---- Average Clients Accuracy: 56.61%\n",
            "|---- Server Testing Accuracy: 83.18%\n",
            "\n",
            "Round 19: Finished!\n",
            "\n",
            "---------------------------------\n",
            "\n",
            "Round 20/100: Starting...\n",
            "Send global model to all clients...\n",
            "\n",
            "Updating client 0...\n",
            "Evaluating client 0...\n",
            "Average loss: 0.2763, Accuracy: 89.67%\n",
            "\n",
            "Updating client 1...\n",
            "Evaluating client 1...\n",
            "Average loss: 0.6593, Accuracy: 67.21%\n",
            "\n",
            "Round 20: Evaluating...\n"
          ]
        },
        {
          "metadata": {
            "tags": null
          },
          "name": "stderr",
          "output_type": "stream",
          "text": [
            "\r 20%|██        | 20/100 [12:07<48:42, 36.53s/it]"
          ]
        },
        {
          "metadata": {
            "tags": null
          },
          "name": "stdout",
          "output_type": "stream",
          "text": [
            "\n",
            "Test set: Average loss: 0.4332, Accuracy: 178/220 (80.91%)\n",
            "\n",
            "|---- Average Clients Loss: 0.17435919232541763\n",
            "|---- Average Clients Accuracy: 78.44%\n",
            "|---- Server Testing Accuracy: 80.91%\n",
            "\n",
            "Round 20: Finished!\n",
            "\n",
            "---------------------------------\n",
            "\n",
            "Round 21/100: Starting...\n",
            "Send global model to all clients...\n",
            "\n",
            "Updating client 0...\n",
            "Evaluating client 0...\n",
            "Average loss: 0.2551, Accuracy: 92.03%\n",
            "\n",
            "Updating client 1...\n",
            "Evaluating client 1...\n",
            "Average loss: 0.3903, Accuracy: 82.07%\n",
            "\n",
            "Round 21: Evaluating...\n"
          ]
        },
        {
          "metadata": {
            "tags": null
          },
          "name": "stderr",
          "output_type": "stream",
          "text": [
            "\r 21%|██        | 21/100 [12:43<47:52, 36.36s/it]"
          ]
        },
        {
          "metadata": {
            "tags": null
          },
          "name": "stdout",
          "output_type": "stream",
          "text": [
            "\n",
            "Test set: Average loss: 0.3886, Accuracy: 186/220 (84.55%)\n",
            "\n",
            "|---- Average Clients Loss: 0.16848760878201574\n",
            "|---- Average Clients Accuracy: 87.05%\n",
            "|---- Server Testing Accuracy: 84.55%\n",
            "\n",
            "Round 21: Finished!\n",
            "\n",
            "---------------------------------\n",
            "\n",
            "Round 22/100: Starting...\n",
            "Send global model to all clients...\n",
            "\n",
            "Updating client 0...\n",
            "Evaluating client 0...\n",
            "Average loss: 0.7069, Accuracy: 67.93%\n",
            "\n",
            "Updating client 1...\n",
            "Evaluating client 1...\n",
            "Average loss: 0.2822, Accuracy: 88.04%\n",
            "\n",
            "Round 22: Evaluating...\n"
          ]
        },
        {
          "metadata": {
            "tags": null
          },
          "name": "stderr",
          "output_type": "stream",
          "text": [
            "\r 22%|██▏       | 22/100 [13:19<47:16, 36.36s/it]"
          ]
        },
        {
          "metadata": {
            "tags": null
          },
          "name": "stdout",
          "output_type": "stream",
          "text": [
            "\n",
            "Test set: Average loss: 0.4069, Accuracy: 182/220 (82.73%)\n",
            "\n",
            "|---- Average Clients Loss: 0.16449428232486496\n",
            "|---- Average Clients Accuracy: 77.99%\n",
            "|---- Server Testing Accuracy: 82.73%\n",
            "\n",
            "Round 22: Finished!\n",
            "\n",
            "---------------------------------\n",
            "\n",
            "Round 23/100: Starting...\n",
            "Send global model to all clients...\n",
            "\n",
            "Updating client 0...\n",
            "Evaluating client 0...\n",
            "Average loss: 0.2408, Accuracy: 91.49%\n",
            "\n",
            "Updating client 1...\n",
            "Evaluating client 1...\n",
            "Average loss: 0.3618, Accuracy: 82.25%\n",
            "\n",
            "Round 23: Evaluating...\n"
          ]
        },
        {
          "metadata": {
            "tags": null
          },
          "name": "stderr",
          "output_type": "stream",
          "text": [
            "\r 23%|██▎       | 23/100 [13:56<46:45, 36.43s/it]"
          ]
        },
        {
          "metadata": {
            "tags": null
          },
          "name": "stdout",
          "output_type": "stream",
          "text": [
            "\n",
            "Test set: Average loss: 0.3952, Accuracy: 186/220 (84.55%)\n",
            "\n",
            "|---- Average Clients Loss: 0.1614842015135634\n",
            "|---- Average Clients Accuracy: 86.87%\n",
            "|---- Server Testing Accuracy: 84.55%\n",
            "\n",
            "Round 23: Finished!\n",
            "\n",
            "---------------------------------\n",
            "\n",
            "Round 24/100: Starting...\n",
            "Send global model to all clients...\n",
            "\n",
            "Updating client 0...\n",
            "Evaluating client 0...\n",
            "Average loss: 0.2592, Accuracy: 88.04%\n",
            "\n",
            "Updating client 1...\n",
            "Evaluating client 1...\n",
            "Average loss: 0.2802, Accuracy: 90.40%\n",
            "\n",
            "Round 24: Evaluating...\n"
          ]
        },
        {
          "metadata": {
            "tags": null
          },
          "name": "stderr",
          "output_type": "stream",
          "text": [
            "\r 24%|██▍       | 24/100 [14:33<46:12, 36.48s/it]"
          ]
        },
        {
          "metadata": {
            "tags": null
          },
          "name": "stdout",
          "output_type": "stream",
          "text": [
            "\n",
            "Test set: Average loss: 0.3645, Accuracy: 191/220 (86.82%)\n",
            "\n",
            "|---- Average Clients Loss: 0.15072369740145014\n",
            "|---- Average Clients Accuracy: 89.22%\n",
            "|---- Server Testing Accuracy: 86.82%\n",
            "\n",
            "Round 24: Finished!\n",
            "\n",
            "---------------------------------\n",
            "\n",
            "Round 25/100: Starting...\n",
            "Send global model to all clients...\n",
            "\n",
            "Updating client 0...\n",
            "Evaluating client 0...\n",
            "Average loss: 0.2768, Accuracy: 88.95%\n",
            "\n",
            "Updating client 1...\n",
            "Evaluating client 1...\n",
            "Average loss: 0.3132, Accuracy: 87.50%\n",
            "\n",
            "Round 25: Evaluating...\n"
          ]
        },
        {
          "metadata": {
            "tags": null
          },
          "name": "stderr",
          "output_type": "stream",
          "text": [
            "\r 25%|██▌       | 25/100 [15:09<45:36, 36.48s/it]"
          ]
        },
        {
          "metadata": {
            "tags": null
          },
          "name": "stdout",
          "output_type": "stream",
          "text": [
            "\n",
            "Test set: Average loss: 0.3527, Accuracy: 188/220 (85.45%)\n",
            "\n",
            "|---- Average Clients Loss: 0.1519212734253545\n",
            "|---- Average Clients Accuracy: 88.22%\n",
            "|---- Server Testing Accuracy: 85.45%\n",
            "\n",
            "Round 25: Finished!\n",
            "\n",
            "---------------------------------\n",
            "\n",
            "Round 26/100: Starting...\n",
            "Send global model to all clients...\n",
            "\n",
            "Updating client 0...\n",
            "Evaluating client 0...\n",
            "Average loss: 0.4702, Accuracy: 76.81%\n",
            "\n",
            "Updating client 1...\n",
            "Evaluating client 1...\n",
            "Average loss: 0.5346, Accuracy: 75.91%\n",
            "\n",
            "Round 26: Evaluating...\n"
          ]
        },
        {
          "metadata": {
            "tags": null
          },
          "name": "stderr",
          "output_type": "stream",
          "text": [
            "\r 26%|██▌       | 26/100 [15:45<44:58, 36.47s/it]"
          ]
        },
        {
          "metadata": {
            "tags": null
          },
          "name": "stdout",
          "output_type": "stream",
          "text": [
            "\n",
            "Test set: Average loss: 0.3949, Accuracy: 184/220 (83.64%)\n",
            "\n",
            "|---- Average Clients Loss: 0.1386315438929679\n",
            "|---- Average Clients Accuracy: 76.36%\n",
            "|---- Server Testing Accuracy: 83.64%\n",
            "\n",
            "Round 26: Finished!\n",
            "\n",
            "---------------------------------\n",
            "\n",
            "Round 27/100: Starting...\n",
            "Send global model to all clients...\n",
            "\n",
            "Updating client 0...\n",
            "Evaluating client 0...\n",
            "Average loss: 0.7372, Accuracy: 59.78%\n",
            "\n",
            "Updating client 1...\n",
            "Evaluating client 1...\n",
            "Average loss: 0.3994, Accuracy: 80.07%\n",
            "\n",
            "Round 27: Evaluating...\n"
          ]
        },
        {
          "metadata": {
            "tags": null
          },
          "name": "stderr",
          "output_type": "stream",
          "text": [
            "\r 27%|██▋       | 27/100 [16:22<44:24, 36.50s/it]"
          ]
        },
        {
          "metadata": {
            "tags": null
          },
          "name": "stdout",
          "output_type": "stream",
          "text": [
            "\n",
            "Test set: Average loss: 0.3352, Accuracy: 190/220 (86.36%)\n",
            "\n",
            "|---- Average Clients Loss: 0.14106370510333882\n",
            "|---- Average Clients Accuracy: 69.93%\n",
            "|---- Server Testing Accuracy: 86.36%\n",
            "\n",
            "Round 27: Finished!\n",
            "\n",
            "---------------------------------\n",
            "\n",
            "Round 28/100: Starting...\n",
            "Send global model to all clients...\n",
            "\n",
            "Updating client 0...\n",
            "Evaluating client 0...\n",
            "Average loss: 0.6709, Accuracy: 70.83%\n",
            "\n",
            "Updating client 1...\n",
            "Evaluating client 1...\n",
            "Average loss: 0.1920, Accuracy: 91.85%\n",
            "\n",
            "Round 28: Evaluating...\n"
          ]
        },
        {
          "metadata": {
            "tags": null
          },
          "name": "stderr",
          "output_type": "stream",
          "text": [
            "\r 28%|██▊       | 28/100 [17:00<44:17, 36.90s/it]"
          ]
        },
        {
          "metadata": {
            "tags": null
          },
          "name": "stdout",
          "output_type": "stream",
          "text": [
            "\n",
            "Test set: Average loss: 0.3486, Accuracy: 194/220 (88.18%)\n",
            "\n",
            "|---- Average Clients Loss: 0.13931367746512738\n",
            "|---- Average Clients Accuracy: 81.34%\n",
            "|---- Server Testing Accuracy: 88.18%\n",
            "\n",
            "Round 28: Finished!\n",
            "\n",
            "---------------------------------\n",
            "\n",
            "Round 29/100: Starting...\n",
            "Send global model to all clients...\n",
            "\n",
            "Updating client 0...\n",
            "Evaluating client 0...\n",
            "Average loss: 0.1937, Accuracy: 92.57%\n",
            "\n",
            "Updating client 1...\n",
            "Evaluating client 1...\n",
            "Average loss: 0.2621, Accuracy: 89.67%\n",
            "\n",
            "Round 29: Evaluating...\n"
          ]
        },
        {
          "metadata": {
            "tags": null
          },
          "name": "stderr",
          "output_type": "stream",
          "text": [
            "\r 29%|██▉       | 29/100 [17:37<43:38, 36.88s/it]"
          ]
        },
        {
          "metadata": {
            "tags": null
          },
          "name": "stdout",
          "output_type": "stream",
          "text": [
            "\n",
            "Test set: Average loss: 0.3599, Accuracy: 192/220 (87.27%)\n",
            "\n",
            "|---- Average Clients Loss: 0.12411713685807106\n",
            "|---- Average Clients Accuracy: 91.12%\n",
            "|---- Server Testing Accuracy: 87.27%\n",
            "\n",
            "Round 29: Finished!\n",
            "\n",
            "---------------------------------\n",
            "\n",
            "Round 30/100: Starting...\n",
            "Send global model to all clients...\n",
            "\n",
            "Updating client 0...\n",
            "Evaluating client 0...\n",
            "Average loss: 1.0974, Accuracy: 63.59%\n",
            "\n",
            "Updating client 1...\n",
            "Evaluating client 1...\n",
            "Average loss: 0.1885, Accuracy: 92.21%\n",
            "\n",
            "Round 30: Evaluating...\n"
          ]
        },
        {
          "metadata": {
            "tags": null
          },
          "name": "stderr",
          "output_type": "stream",
          "text": [
            "\r 30%|███       | 30/100 [18:14<43:11, 37.03s/it]"
          ]
        },
        {
          "metadata": {
            "tags": null
          },
          "name": "stdout",
          "output_type": "stream",
          "text": [
            "\n",
            "Test set: Average loss: 0.3513, Accuracy: 190/220 (86.36%)\n",
            "\n",
            "|---- Average Clients Loss: 0.11368089206475165\n",
            "|---- Average Clients Accuracy: 77.90%\n",
            "|---- Server Testing Accuracy: 86.36%\n",
            "\n",
            "Round 30: Finished!\n",
            "\n",
            "---------------------------------\n",
            "\n",
            "Round 31/100: Starting...\n",
            "Send global model to all clients...\n",
            "\n",
            "Updating client 0...\n",
            "Evaluating client 0...\n",
            "Average loss: 0.6196, Accuracy: 60.51%\n",
            "\n",
            "Updating client 1...\n",
            "Evaluating client 1...\n",
            "Average loss: 1.6503, Accuracy: 53.08%\n",
            "\n",
            "Round 31: Evaluating...\n"
          ]
        },
        {
          "metadata": {
            "tags": null
          },
          "name": "stderr",
          "output_type": "stream",
          "text": [
            "\r 31%|███       | 31/100 [18:52<42:47, 37.20s/it]"
          ]
        },
        {
          "metadata": {
            "tags": null
          },
          "name": "stdout",
          "output_type": "stream",
          "text": [
            "\n",
            "Test set: Average loss: 0.5869, Accuracy: 160/220 (72.73%)\n",
            "\n",
            "|---- Average Clients Loss: 0.11575514309723595\n",
            "|---- Average Clients Accuracy: 56.79%\n",
            "|---- Server Testing Accuracy: 72.73%\n",
            "\n",
            "Round 31: Finished!\n",
            "\n",
            "---------------------------------\n",
            "\n",
            "Round 32/100: Starting...\n",
            "Send global model to all clients...\n",
            "\n",
            "Updating client 0...\n",
            "Evaluating client 0...\n",
            "Average loss: 0.1406, Accuracy: 96.01%\n",
            "\n",
            "Updating client 1...\n",
            "Evaluating client 1...\n",
            "Average loss: 0.1656, Accuracy: 94.20%\n",
            "\n",
            "Round 32: Evaluating...\n"
          ]
        },
        {
          "metadata": {
            "tags": null
          },
          "name": "stderr",
          "output_type": "stream",
          "text": [
            "\r 32%|███▏      | 32/100 [19:30<42:28, 37.48s/it]"
          ]
        },
        {
          "metadata": {
            "tags": null
          },
          "name": "stdout",
          "output_type": "stream",
          "text": [
            "\n",
            "Test set: Average loss: 0.3676, Accuracy: 191/220 (86.82%)\n",
            "\n",
            "|---- Average Clients Loss: 0.1302403380562152\n",
            "|---- Average Clients Accuracy: 95.11%\n",
            "|---- Server Testing Accuracy: 86.82%\n",
            "\n",
            "Round 32: Finished!\n",
            "\n",
            "---------------------------------\n",
            "\n",
            "Round 33/100: Starting...\n",
            "Send global model to all clients...\n",
            "\n",
            "Updating client 0...\n",
            "Evaluating client 0...\n",
            "Average loss: 0.1231, Accuracy: 96.38%\n",
            "\n",
            "Updating client 1...\n",
            "Evaluating client 1...\n",
            "Average loss: 0.4505, Accuracy: 81.16%\n",
            "\n",
            "Round 33: Evaluating...\n"
          ]
        },
        {
          "metadata": {
            "tags": null
          },
          "name": "stderr",
          "output_type": "stream",
          "text": [
            "\r 33%|███▎      | 33/100 [20:08<42:09, 37.76s/it]"
          ]
        },
        {
          "metadata": {
            "tags": null
          },
          "name": "stdout",
          "output_type": "stream",
          "text": [
            "\n",
            "Test set: Average loss: 0.3382, Accuracy: 195/220 (88.64%)\n",
            "\n",
            "|---- Average Clients Loss: 0.09962101064073588\n",
            "|---- Average Clients Accuracy: 88.77%\n",
            "|---- Server Testing Accuracy: 88.64%\n",
            "\n",
            "Round 33: Finished!\n",
            "\n",
            "---------------------------------\n",
            "\n",
            "Round 34/100: Starting...\n",
            "Send global model to all clients...\n",
            "\n",
            "Updating client 0...\n",
            "Evaluating client 0...\n",
            "Average loss: 0.7447, Accuracy: 69.20%\n",
            "\n",
            "Updating client 1...\n",
            "Evaluating client 1...\n",
            "Average loss: 0.2013, Accuracy: 91.67%\n",
            "\n",
            "Round 34: Evaluating...\n"
          ]
        },
        {
          "metadata": {
            "tags": null
          },
          "name": "stderr",
          "output_type": "stream",
          "text": [
            "\r 34%|███▍      | 34/100 [20:47<41:43, 37.93s/it]"
          ]
        },
        {
          "metadata": {
            "tags": null
          },
          "name": "stdout",
          "output_type": "stream",
          "text": [
            "\n",
            "Test set: Average loss: 0.2978, Accuracy: 193/220 (87.73%)\n",
            "\n",
            "|---- Average Clients Loss: 0.10030720718454436\n",
            "|---- Average Clients Accuracy: 80.43%\n",
            "|---- Server Testing Accuracy: 87.73%\n",
            "\n",
            "Round 34: Finished!\n",
            "\n",
            "---------------------------------\n",
            "\n",
            "Round 35/100: Starting...\n",
            "Send global model to all clients...\n",
            "\n",
            "Updating client 0...\n",
            "Evaluating client 0...\n",
            "Average loss: 0.1140, Accuracy: 97.10%\n",
            "\n",
            "Updating client 1...\n",
            "Evaluating client 1...\n",
            "Average loss: 1.3924, Accuracy: 55.07%\n",
            "\n",
            "Round 35: Evaluating...\n"
          ]
        },
        {
          "metadata": {
            "tags": null
          },
          "name": "stderr",
          "output_type": "stream",
          "text": [
            "\r 35%|███▌      | 35/100 [21:24<41:04, 37.91s/it]"
          ]
        },
        {
          "metadata": {
            "tags": null
          },
          "name": "stdout",
          "output_type": "stream",
          "text": [
            "\n",
            "Test set: Average loss: 0.3890, Accuracy: 192/220 (87.27%)\n",
            "\n",
            "|---- Average Clients Loss: 0.10840645454923756\n",
            "|---- Average Clients Accuracy: 76.09%\n",
            "|---- Server Testing Accuracy: 87.27%\n",
            "\n",
            "Round 35: Finished!\n",
            "\n",
            "---------------------------------\n",
            "\n",
            "Round 36/100: Starting...\n",
            "Send global model to all clients...\n",
            "\n",
            "Updating client 0...\n",
            "Evaluating client 0...\n",
            "Average loss: 0.5454, Accuracy: 65.76%\n",
            "\n",
            "Updating client 1...\n",
            "Evaluating client 1...\n",
            "Average loss: 0.5080, Accuracy: 76.27%\n",
            "\n",
            "Round 36: Evaluating...\n"
          ]
        },
        {
          "metadata": {
            "tags": null
          },
          "name": "stderr",
          "output_type": "stream",
          "text": [
            "\r 36%|███▌      | 36/100 [22:02<40:20, 37.82s/it]"
          ]
        },
        {
          "metadata": {
            "tags": null
          },
          "name": "stdout",
          "output_type": "stream",
          "text": [
            "\n",
            "Test set: Average loss: 0.3171, Accuracy: 189/220 (85.91%)\n",
            "\n",
            "|---- Average Clients Loss: 0.1057937302310685\n",
            "|---- Average Clients Accuracy: 71.01%\n",
            "|---- Server Testing Accuracy: 85.91%\n",
            "\n",
            "Round 36: Finished!\n",
            "\n",
            "---------------------------------\n",
            "\n",
            "Round 37/100: Starting...\n",
            "Send global model to all clients...\n",
            "\n",
            "Updating client 0...\n",
            "Evaluating client 0...\n",
            "Average loss: 0.1150, Accuracy: 96.38%\n",
            "\n",
            "Updating client 1...\n",
            "Evaluating client 1...\n",
            "Average loss: 0.1437, Accuracy: 94.57%\n",
            "\n",
            "Round 37: Evaluating...\n"
          ]
        },
        {
          "metadata": {
            "tags": null
          },
          "name": "stderr",
          "output_type": "stream",
          "text": [
            "\r 37%|███▋      | 37/100 [22:40<39:45, 37.86s/it]"
          ]
        },
        {
          "metadata": {
            "tags": null
          },
          "name": "stdout",
          "output_type": "stream",
          "text": [
            "\n",
            "Test set: Average loss: 0.2983, Accuracy: 191/220 (86.82%)\n",
            "\n",
            "|---- Average Clients Loss: 0.08713107544671012\n",
            "|---- Average Clients Accuracy: 95.47%\n",
            "|---- Server Testing Accuracy: 86.82%\n",
            "\n",
            "Round 37: Finished!\n",
            "\n",
            "---------------------------------\n",
            "\n",
            "Round 38/100: Starting...\n",
            "Send global model to all clients...\n",
            "\n",
            "Updating client 0...\n",
            "Evaluating client 0...\n",
            "Average loss: 0.4128, Accuracy: 80.98%\n",
            "\n",
            "Updating client 1...\n",
            "Evaluating client 1...\n",
            "Average loss: 0.1255, Accuracy: 95.65%\n",
            "\n",
            "Round 38: Evaluating...\n"
          ]
        },
        {
          "metadata": {
            "tags": null
          },
          "name": "stderr",
          "output_type": "stream",
          "text": [
            "\r 38%|███▊      | 38/100 [23:18<39:07, 37.87s/it]"
          ]
        },
        {
          "metadata": {
            "tags": null
          },
          "name": "stdout",
          "output_type": "stream",
          "text": [
            "\n",
            "Test set: Average loss: 0.2897, Accuracy: 195/220 (88.64%)\n",
            "\n",
            "|---- Average Clients Loss: 0.08128975356105782\n",
            "|---- Average Clients Accuracy: 88.32%\n",
            "|---- Server Testing Accuracy: 88.64%\n",
            "\n",
            "Round 38: Finished!\n",
            "\n",
            "---------------------------------\n",
            "\n",
            "Round 39/100: Starting...\n",
            "Send global model to all clients...\n",
            "\n",
            "Updating client 0...\n",
            "Evaluating client 0...\n",
            "Average loss: 0.0842, Accuracy: 97.64%\n",
            "\n",
            "Updating client 1...\n",
            "Evaluating client 1...\n",
            "Average loss: 0.2127, Accuracy: 91.12%\n",
            "\n",
            "Round 39: Evaluating...\n"
          ]
        },
        {
          "metadata": {
            "tags": null
          },
          "name": "stderr",
          "output_type": "stream",
          "text": [
            "\r 39%|███▉      | 39/100 [23:55<38:24, 37.78s/it]"
          ]
        },
        {
          "metadata": {
            "tags": null
          },
          "name": "stdout",
          "output_type": "stream",
          "text": [
            "\n",
            "Test set: Average loss: 0.2976, Accuracy: 193/220 (87.73%)\n",
            "\n",
            "|---- Average Clients Loss: 0.08663319536260264\n",
            "|---- Average Clients Accuracy: 94.38%\n",
            "|---- Server Testing Accuracy: 87.73%\n",
            "\n",
            "Round 39: Finished!\n",
            "\n",
            "---------------------------------\n",
            "\n",
            "Round 40/100: Starting...\n",
            "Send global model to all clients...\n",
            "\n",
            "Updating client 0...\n",
            "Evaluating client 0...\n",
            "Average loss: 0.1408, Accuracy: 93.48%\n",
            "\n",
            "Updating client 1...\n",
            "Evaluating client 1...\n",
            "Average loss: 0.0852, Accuracy: 98.01%\n",
            "\n",
            "Round 40: Evaluating...\n"
          ]
        },
        {
          "metadata": {
            "tags": null
          },
          "name": "stderr",
          "output_type": "stream",
          "text": [
            "\r 40%|████      | 40/100 [24:33<37:44, 37.75s/it]"
          ]
        },
        {
          "metadata": {
            "tags": null
          },
          "name": "stdout",
          "output_type": "stream",
          "text": [
            "\n",
            "Test set: Average loss: 0.3066, Accuracy: 193/220 (87.73%)\n",
            "\n",
            "|---- Average Clients Loss: 0.0707367172456413\n",
            "|---- Average Clients Accuracy: 95.74%\n",
            "|---- Server Testing Accuracy: 87.73%\n",
            "\n",
            "Round 40: Finished!\n",
            "\n",
            "---------------------------------\n",
            "\n",
            "Round 41/100: Starting...\n",
            "Send global model to all clients...\n",
            "\n",
            "Updating client 0...\n",
            "Evaluating client 0...\n",
            "Average loss: 0.0709, Accuracy: 98.91%\n",
            "\n",
            "Updating client 1...\n",
            "Evaluating client 1...\n",
            "Average loss: 0.1483, Accuracy: 93.48%\n",
            "\n",
            "Round 41: Evaluating...\n"
          ]
        },
        {
          "metadata": {
            "tags": null
          },
          "name": "stderr",
          "output_type": "stream",
          "text": [
            "\r 41%|████      | 41/100 [25:11<37:05, 37.72s/it]"
          ]
        },
        {
          "metadata": {
            "tags": null
          },
          "name": "stdout",
          "output_type": "stream",
          "text": [
            "\n",
            "Test set: Average loss: 0.3024, Accuracy: 194/220 (88.18%)\n",
            "\n",
            "|---- Average Clients Loss: 0.0705406970623049\n",
            "|---- Average Clients Accuracy: 96.20%\n",
            "|---- Server Testing Accuracy: 88.18%\n",
            "\n",
            "Round 41: Finished!\n",
            "\n",
            "---------------------------------\n",
            "\n",
            "Round 42/100: Starting...\n",
            "Send global model to all clients...\n",
            "\n",
            "Updating client 0...\n",
            "Evaluating client 0...\n",
            "Average loss: 0.1015, Accuracy: 96.38%\n",
            "\n",
            "Updating client 1...\n",
            "Evaluating client 1...\n",
            "Average loss: 0.1331, Accuracy: 93.66%\n",
            "\n",
            "Round 42: Evaluating...\n"
          ]
        },
        {
          "metadata": {
            "tags": null
          },
          "name": "stderr",
          "output_type": "stream",
          "text": [
            "\r 42%|████▏     | 42/100 [25:48<36:24, 37.66s/it]"
          ]
        },
        {
          "metadata": {
            "tags": null
          },
          "name": "stdout",
          "output_type": "stream",
          "text": [
            "\n",
            "Test set: Average loss: 0.3092, Accuracy: 194/220 (88.18%)\n",
            "\n",
            "|---- Average Clients Loss: 0.0763682855384624\n",
            "|---- Average Clients Accuracy: 95.02%\n",
            "|---- Server Testing Accuracy: 88.18%\n",
            "\n",
            "Round 42: Finished!\n",
            "\n",
            "---------------------------------\n",
            "\n",
            "Round 43/100: Starting...\n",
            "Send global model to all clients...\n",
            "\n",
            "Updating client 0...\n",
            "Evaluating client 0...\n",
            "Average loss: 0.0863, Accuracy: 97.83%\n",
            "\n",
            "Updating client 1...\n",
            "Evaluating client 1...\n",
            "Average loss: 0.1622, Accuracy: 91.85%\n",
            "\n",
            "Round 43: Evaluating...\n"
          ]
        },
        {
          "metadata": {
            "tags": null
          },
          "name": "stderr",
          "output_type": "stream",
          "text": [
            "\r 43%|████▎     | 43/100 [26:26<35:41, 37.57s/it]"
          ]
        },
        {
          "metadata": {
            "tags": null
          },
          "name": "stdout",
          "output_type": "stream",
          "text": [
            "\n",
            "Test set: Average loss: 0.2916, Accuracy: 196/220 (89.09%)\n",
            "\n",
            "|---- Average Clients Loss: 0.05957753706232844\n",
            "|---- Average Clients Accuracy: 94.84%\n",
            "|---- Server Testing Accuracy: 89.09%\n",
            "\n",
            "Round 43: Finished!\n",
            "\n",
            "---------------------------------\n",
            "\n",
            "Round 44/100: Starting...\n",
            "Send global model to all clients...\n",
            "\n",
            "Updating client 0...\n",
            "Evaluating client 0...\n",
            "Average loss: 0.0622, Accuracy: 99.09%\n",
            "\n",
            "Updating client 1...\n",
            "Evaluating client 1...\n",
            "Average loss: 0.1074, Accuracy: 96.38%\n",
            "\n",
            "Round 44: Evaluating...\n"
          ]
        },
        {
          "metadata": {
            "tags": null
          },
          "name": "stderr",
          "output_type": "stream",
          "text": [
            "\r 44%|████▍     | 44/100 [27:03<35:01, 37.53s/it]"
          ]
        },
        {
          "metadata": {
            "tags": null
          },
          "name": "stdout",
          "output_type": "stream",
          "text": [
            "\n",
            "Test set: Average loss: 0.2866, Accuracy: 196/220 (89.09%)\n",
            "\n",
            "|---- Average Clients Loss: 0.05471698324877902\n",
            "|---- Average Clients Accuracy: 97.74%\n",
            "|---- Server Testing Accuracy: 89.09%\n",
            "\n",
            "Round 44: Finished!\n",
            "\n",
            "---------------------------------\n",
            "\n",
            "Round 45/100: Starting...\n",
            "Send global model to all clients...\n",
            "\n",
            "Updating client 0...\n",
            "Evaluating client 0...\n",
            "Average loss: 0.2305, Accuracy: 89.67%\n",
            "\n",
            "Updating client 1...\n",
            "Evaluating client 1...\n",
            "Average loss: 0.8541, Accuracy: 66.49%\n",
            "\n",
            "Round 45: Evaluating...\n"
          ]
        },
        {
          "metadata": {
            "tags": null
          },
          "name": "stderr",
          "output_type": "stream",
          "text": [
            "\r 45%|████▌     | 45/100 [27:41<34:21, 37.49s/it]"
          ]
        },
        {
          "metadata": {
            "tags": null
          },
          "name": "stdout",
          "output_type": "stream",
          "text": [
            "\n",
            "Test set: Average loss: 0.3603, Accuracy: 194/220 (88.18%)\n",
            "\n",
            "|---- Average Clients Loss: 0.05605789436335076\n",
            "|---- Average Clients Accuracy: 78.08%\n",
            "|---- Server Testing Accuracy: 88.18%\n",
            "\n",
            "Round 45: Finished!\n",
            "\n",
            "---------------------------------\n",
            "\n",
            "Round 46/100: Starting...\n",
            "Send global model to all clients...\n",
            "\n",
            "Updating client 0...\n",
            "Evaluating client 0...\n",
            "Average loss: 0.2893, Accuracy: 86.05%\n",
            "\n",
            "Updating client 1...\n",
            "Evaluating client 1...\n",
            "Average loss: 0.0717, Accuracy: 98.73%\n",
            "\n",
            "Round 46: Evaluating...\n"
          ]
        },
        {
          "metadata": {
            "tags": null
          },
          "name": "stderr",
          "output_type": "stream",
          "text": [
            "\r 46%|████▌     | 46/100 [28:18<33:42, 37.45s/it]"
          ]
        },
        {
          "metadata": {
            "tags": null
          },
          "name": "stdout",
          "output_type": "stream",
          "text": [
            "\n",
            "Test set: Average loss: 0.3286, Accuracy: 196/220 (89.09%)\n",
            "\n",
            "|---- Average Clients Loss: 0.06074543697364529\n",
            "|---- Average Clients Accuracy: 92.39%\n",
            "|---- Server Testing Accuracy: 89.09%\n",
            "\n",
            "Round 46: Finished!\n",
            "\n",
            "---------------------------------\n",
            "\n",
            "Round 47/100: Starting...\n",
            "Send global model to all clients...\n",
            "\n",
            "Updating client 0...\n",
            "Evaluating client 0...\n",
            "Average loss: 0.0667, Accuracy: 99.46%\n",
            "\n",
            "Updating client 1...\n",
            "Evaluating client 1...\n",
            "Average loss: 0.0440, Accuracy: 99.28%\n",
            "\n",
            "Round 47: Evaluating...\n"
          ]
        },
        {
          "metadata": {
            "tags": null
          },
          "name": "stderr",
          "output_type": "stream",
          "text": [
            "\r 47%|████▋     | 47/100 [28:55<33:01, 37.39s/it]"
          ]
        },
        {
          "metadata": {
            "tags": null
          },
          "name": "stdout",
          "output_type": "stream",
          "text": [
            "\n",
            "Test set: Average loss: 0.2905, Accuracy: 197/220 (89.55%)\n",
            "\n",
            "|---- Average Clients Loss: 0.04323305156607862\n",
            "|---- Average Clients Accuracy: 99.37%\n",
            "|---- Server Testing Accuracy: 89.55%\n",
            "\n",
            "Round 47: Finished!\n",
            "\n",
            "---------------------------------\n",
            "\n",
            "Round 48/100: Starting...\n",
            "Send global model to all clients...\n",
            "\n",
            "Updating client 0...\n",
            "Evaluating client 0...\n",
            "Average loss: 0.0932, Accuracy: 98.19%\n",
            "\n",
            "Updating client 1...\n",
            "Evaluating client 1...\n",
            "Average loss: 0.0411, Accuracy: 99.46%\n",
            "\n",
            "Round 48: Evaluating...\n"
          ]
        },
        {
          "metadata": {
            "tags": null
          },
          "name": "stderr",
          "output_type": "stream",
          "text": [
            "\r 48%|████▊     | 48/100 [29:32<32:17, 37.26s/it]"
          ]
        },
        {
          "metadata": {
            "tags": null
          },
          "name": "stdout",
          "output_type": "stream",
          "text": [
            "\n",
            "Test set: Average loss: 0.2912, Accuracy: 195/220 (88.64%)\n",
            "\n",
            "|---- Average Clients Loss: 0.06027454522700282\n",
            "|---- Average Clients Accuracy: 98.82%\n",
            "|---- Server Testing Accuracy: 88.64%\n",
            "\n",
            "Round 48: Finished!\n",
            "\n",
            "---------------------------------\n",
            "\n",
            "Round 49/100: Starting...\n",
            "Send global model to all clients...\n",
            "\n",
            "Updating client 0...\n",
            "Evaluating client 0...\n",
            "Average loss: 0.0484, Accuracy: 99.82%\n",
            "\n",
            "Updating client 1...\n",
            "Evaluating client 1...\n",
            "Average loss: 0.0351, Accuracy: 99.64%\n",
            "\n",
            "Round 49: Evaluating...\n"
          ]
        },
        {
          "metadata": {
            "tags": null
          },
          "name": "stderr",
          "output_type": "stream",
          "text": [
            "\r 49%|████▉     | 49/100 [30:09<31:35, 37.18s/it]"
          ]
        },
        {
          "metadata": {
            "tags": null
          },
          "name": "stdout",
          "output_type": "stream",
          "text": [
            "\n",
            "Test set: Average loss: 0.2868, Accuracy: 196/220 (89.09%)\n",
            "\n",
            "|---- Average Clients Loss: 0.044414989180430506\n",
            "|---- Average Clients Accuracy: 99.73%\n",
            "|---- Server Testing Accuracy: 89.09%\n",
            "\n",
            "Round 49: Finished!\n",
            "\n",
            "---------------------------------\n",
            "\n",
            "Round 50/100: Starting...\n",
            "Send global model to all clients...\n",
            "\n",
            "Updating client 0...\n",
            "Evaluating client 0...\n",
            "Average loss: 0.0482, Accuracy: 98.73%\n",
            "\n",
            "Updating client 1...\n",
            "Evaluating client 1...\n",
            "Average loss: 0.0415, Accuracy: 100.00%\n",
            "\n",
            "Round 50: Evaluating...\n"
          ]
        },
        {
          "metadata": {
            "tags": null
          },
          "name": "stderr",
          "output_type": "stream",
          "text": [
            "\r 50%|█████     | 50/100 [30:46<30:54, 37.09s/it]"
          ]
        },
        {
          "metadata": {
            "tags": null
          },
          "name": "stdout",
          "output_type": "stream",
          "text": [
            "\n",
            "Test set: Average loss: 0.2973, Accuracy: 198/220 (90.00%)\n",
            "\n",
            "|---- Average Clients Loss: 0.044118483570595605\n",
            "|---- Average Clients Accuracy: 99.37%\n",
            "|---- Server Testing Accuracy: 90.00%\n",
            "\n",
            "Round 50: Finished!\n",
            "\n",
            "---------------------------------\n",
            "\n",
            "Round 51/100: Starting...\n",
            "Send global model to all clients...\n",
            "\n",
            "Updating client 0...\n",
            "Evaluating client 0...\n",
            "Average loss: 0.0508, Accuracy: 98.19%\n",
            "\n",
            "Updating client 1...\n",
            "Evaluating client 1...\n",
            "Average loss: 0.0418, Accuracy: 99.28%\n",
            "\n",
            "Round 51: Evaluating...\n"
          ]
        },
        {
          "metadata": {
            "tags": null
          },
          "name": "stderr",
          "output_type": "stream",
          "text": [
            "\r 51%|█████     | 51/100 [31:23<30:13, 37.02s/it]"
          ]
        },
        {
          "metadata": {
            "tags": null
          },
          "name": "stdout",
          "output_type": "stream",
          "text": [
            "\n",
            "Test set: Average loss: 0.3045, Accuracy: 198/220 (90.00%)\n",
            "\n",
            "|---- Average Clients Loss: 0.03946723276749253\n",
            "|---- Average Clients Accuracy: 98.73%\n",
            "|---- Server Testing Accuracy: 90.00%\n",
            "\n",
            "Round 51: Finished!\n",
            "\n",
            "---------------------------------\n",
            "\n",
            "Round 52/100: Starting...\n",
            "Send global model to all clients...\n",
            "\n",
            "Updating client 0...\n",
            "Evaluating client 0...\n",
            "Average loss: 0.0329, Accuracy: 100.00%\n",
            "\n",
            "Updating client 1...\n",
            "Evaluating client 1...\n",
            "Average loss: 0.0350, Accuracy: 99.64%\n",
            "\n",
            "Round 52: Evaluating...\n"
          ]
        },
        {
          "metadata": {
            "tags": null
          },
          "name": "stderr",
          "output_type": "stream",
          "text": [
            "\r 52%|█████▏    | 52/100 [32:00<29:36, 37.01s/it]"
          ]
        },
        {
          "metadata": {
            "tags": null
          },
          "name": "stdout",
          "output_type": "stream",
          "text": [
            "\n",
            "Test set: Average loss: 0.3037, Accuracy: 196/220 (89.09%)\n",
            "\n",
            "|---- Average Clients Loss: 0.037590854300235926\n",
            "|---- Average Clients Accuracy: 99.82%\n",
            "|---- Server Testing Accuracy: 89.09%\n",
            "\n",
            "Round 52: Finished!\n",
            "\n",
            "---------------------------------\n",
            "\n",
            "Round 53/100: Starting...\n",
            "Send global model to all clients...\n",
            "\n",
            "Updating client 0...\n",
            "Evaluating client 0...\n",
            "Average loss: 0.1048, Accuracy: 95.29%\n",
            "\n",
            "Updating client 1...\n",
            "Evaluating client 1...\n",
            "Average loss: 0.0380, Accuracy: 99.82%\n",
            "\n",
            "Round 53: Evaluating...\n"
          ]
        },
        {
          "metadata": {
            "tags": null
          },
          "name": "stderr",
          "output_type": "stream",
          "text": [
            "\r 53%|█████▎    | 53/100 [32:37<28:59, 37.02s/it]"
          ]
        },
        {
          "metadata": {
            "tags": null
          },
          "name": "stdout",
          "output_type": "stream",
          "text": [
            "\n",
            "Test set: Average loss: 0.3206, Accuracy: 198/220 (90.00%)\n",
            "\n",
            "|---- Average Clients Loss: 0.03741914305750729\n",
            "|---- Average Clients Accuracy: 97.55%\n",
            "|---- Server Testing Accuracy: 90.00%\n",
            "\n",
            "Round 53: Finished!\n",
            "\n",
            "---------------------------------\n",
            "\n",
            "Round 54/100: Starting...\n",
            "Send global model to all clients...\n",
            "\n",
            "Updating client 0...\n",
            "Evaluating client 0...\n",
            "Average loss: 0.0323, Accuracy: 99.46%\n",
            "\n",
            "Updating client 1...\n",
            "Evaluating client 1...\n",
            "Average loss: 0.0269, Accuracy: 99.64%\n",
            "\n",
            "Round 54: Evaluating...\n"
          ]
        },
        {
          "metadata": {
            "tags": null
          },
          "name": "stderr",
          "output_type": "stream",
          "text": [
            "\r 54%|█████▍    | 54/100 [33:14<28:22, 37.01s/it]"
          ]
        },
        {
          "metadata": {
            "tags": null
          },
          "name": "stdout",
          "output_type": "stream",
          "text": [
            "\n",
            "Test set: Average loss: 0.3132, Accuracy: 198/220 (90.00%)\n",
            "\n",
            "|---- Average Clients Loss: 0.023119004715876405\n",
            "|---- Average Clients Accuracy: 99.55%\n",
            "|---- Server Testing Accuracy: 90.00%\n",
            "\n",
            "Round 54: Finished!\n",
            "\n",
            "---------------------------------\n",
            "\n",
            "Round 55/100: Starting...\n",
            "Send global model to all clients...\n",
            "\n",
            "Updating client 0...\n",
            "Evaluating client 0...\n",
            "Average loss: 0.0222, Accuracy: 99.82%\n",
            "\n",
            "Updating client 1...\n",
            "Evaluating client 1...\n",
            "Average loss: 0.0265, Accuracy: 99.46%\n",
            "\n",
            "Round 55: Evaluating...\n"
          ]
        },
        {
          "metadata": {
            "tags": null
          },
          "name": "stderr",
          "output_type": "stream",
          "text": [
            "\r 55%|█████▌    | 55/100 [33:51<27:43, 36.97s/it]"
          ]
        },
        {
          "metadata": {
            "tags": null
          },
          "name": "stdout",
          "output_type": "stream",
          "text": [
            "\n",
            "Test set: Average loss: 0.3206, Accuracy: 200/220 (90.91%)\n",
            "\n",
            "|---- Average Clients Loss: 0.02476334802466746\n",
            "|---- Average Clients Accuracy: 99.64%\n",
            "|---- Server Testing Accuracy: 90.91%\n",
            "\n",
            "Round 55: Finished!\n",
            "\n",
            "---------------------------------\n",
            "\n",
            "Round 56/100: Starting...\n",
            "Send global model to all clients...\n",
            "\n",
            "Updating client 0...\n",
            "Evaluating client 0...\n",
            "Average loss: 0.1427, Accuracy: 93.12%\n",
            "\n",
            "Updating client 1...\n",
            "Evaluating client 1...\n",
            "Average loss: 0.0187, Accuracy: 100.00%\n",
            "\n",
            "Round 56: Evaluating...\n"
          ]
        },
        {
          "metadata": {
            "tags": null
          },
          "name": "stderr",
          "output_type": "stream",
          "text": [
            "\r 56%|█████▌    | 56/100 [34:28<27:04, 36.93s/it]"
          ]
        },
        {
          "metadata": {
            "tags": null
          },
          "name": "stdout",
          "output_type": "stream",
          "text": [
            "\n",
            "Test set: Average loss: 0.3317, Accuracy: 199/220 (90.45%)\n",
            "\n",
            "|---- Average Clients Loss: 0.01915253760619505\n",
            "|---- Average Clients Accuracy: 96.56%\n",
            "|---- Server Testing Accuracy: 90.45%\n",
            "\n",
            "Round 56: Finished!\n",
            "\n",
            "---------------------------------\n",
            "\n",
            "Round 57/100: Starting...\n",
            "Send global model to all clients...\n",
            "\n",
            "Updating client 0...\n",
            "Evaluating client 0...\n",
            "Average loss: 0.0194, Accuracy: 100.00%\n",
            "\n",
            "Updating client 1...\n",
            "Evaluating client 1...\n",
            "Average loss: 0.2585, Accuracy: 87.32%\n",
            "\n",
            "Round 57: Evaluating...\n"
          ]
        },
        {
          "metadata": {
            "tags": null
          },
          "name": "stderr",
          "output_type": "stream",
          "text": [
            "\r 57%|█████▋    | 57/100 [35:04<26:26, 36.89s/it]"
          ]
        },
        {
          "metadata": {
            "tags": null
          },
          "name": "stdout",
          "output_type": "stream",
          "text": [
            "\n",
            "Test set: Average loss: 0.3581, Accuracy: 197/220 (89.55%)\n",
            "\n",
            "|---- Average Clients Loss: 0.02675027094872868\n",
            "|---- Average Clients Accuracy: 93.66%\n",
            "|---- Server Testing Accuracy: 89.55%\n",
            "\n",
            "Round 57: Finished!\n",
            "\n",
            "---------------------------------\n",
            "\n",
            "Round 58/100: Starting...\n",
            "Send global model to all clients...\n",
            "\n",
            "Updating client 0...\n",
            "Evaluating client 0...\n",
            "Average loss: 0.0155, Accuracy: 100.00%\n",
            "\n",
            "Updating client 1...\n",
            "Evaluating client 1...\n",
            "Average loss: 0.0169, Accuracy: 100.00%\n",
            "\n",
            "Round 58: Evaluating...\n"
          ]
        },
        {
          "metadata": {
            "tags": null
          },
          "name": "stderr",
          "output_type": "stream",
          "text": [
            "\r 58%|█████▊    | 58/100 [35:43<26:12, 37.44s/it]"
          ]
        },
        {
          "metadata": {
            "tags": null
          },
          "name": "stdout",
          "output_type": "stream",
          "text": [
            "\n",
            "Test set: Average loss: 0.3344, Accuracy: 200/220 (90.91%)\n",
            "\n",
            "|---- Average Clients Loss: 0.020644239421276973\n",
            "|---- Average Clients Accuracy: 100.00%\n",
            "|---- Server Testing Accuracy: 90.91%\n",
            "\n",
            "Round 58: Finished!\n",
            "\n",
            "---------------------------------\n",
            "\n",
            "Round 59/100: Starting...\n",
            "Send global model to all clients...\n",
            "\n",
            "Updating client 0...\n",
            "Evaluating client 0...\n",
            "Average loss: 0.0141, Accuracy: 100.00%\n",
            "\n",
            "Updating client 1...\n",
            "Evaluating client 1...\n",
            "Average loss: 0.0262, Accuracy: 99.82%\n",
            "\n",
            "Round 59: Evaluating...\n"
          ]
        },
        {
          "metadata": {
            "tags": null
          },
          "name": "stderr",
          "output_type": "stream",
          "text": [
            "\r 59%|█████▉    | 59/100 [36:22<25:47, 37.74s/it]"
          ]
        },
        {
          "metadata": {
            "tags": null
          },
          "name": "stdout",
          "output_type": "stream",
          "text": [
            "\n",
            "Test set: Average loss: 0.3248, Accuracy: 200/220 (90.91%)\n",
            "\n",
            "|---- Average Clients Loss: 0.017595849003555486\n",
            "|---- Average Clients Accuracy: 99.91%\n",
            "|---- Server Testing Accuracy: 90.91%\n",
            "\n",
            "Round 59: Finished!\n",
            "\n",
            "---------------------------------\n",
            "\n",
            "Round 60/100: Starting...\n",
            "Send global model to all clients...\n",
            "\n",
            "Updating client 0...\n",
            "Evaluating client 0...\n",
            "Average loss: 0.0616, Accuracy: 98.55%\n",
            "\n",
            "Updating client 1...\n",
            "Evaluating client 1...\n",
            "Average loss: 0.0212, Accuracy: 99.64%\n",
            "\n",
            "Round 60: Evaluating...\n"
          ]
        },
        {
          "metadata": {
            "tags": null
          },
          "name": "stderr",
          "output_type": "stream",
          "text": [
            "\r 60%|██████    | 60/100 [37:00<25:22, 38.05s/it]"
          ]
        },
        {
          "metadata": {
            "tags": null
          },
          "name": "stdout",
          "output_type": "stream",
          "text": [
            "\n",
            "Test set: Average loss: 0.3153, Accuracy: 200/220 (90.91%)\n",
            "\n",
            "|---- Average Clients Loss: 0.023313086685837855\n",
            "|---- Average Clients Accuracy: 99.09%\n",
            "|---- Server Testing Accuracy: 90.91%\n",
            "\n",
            "Round 60: Finished!\n",
            "\n",
            "---------------------------------\n",
            "\n",
            "Round 61/100: Starting...\n",
            "Send global model to all clients...\n",
            "\n",
            "Updating client 0...\n",
            "Evaluating client 0...\n",
            "Average loss: 0.0262, Accuracy: 99.82%\n",
            "\n",
            "Updating client 1...\n",
            "Evaluating client 1...\n",
            "Average loss: 0.0177, Accuracy: 100.00%\n",
            "\n",
            "Round 61: Evaluating...\n"
          ]
        },
        {
          "metadata": {
            "tags": null
          },
          "name": "stderr",
          "output_type": "stream",
          "text": [
            "\r 61%|██████    | 61/100 [37:39<24:54, 38.32s/it]"
          ]
        },
        {
          "metadata": {
            "tags": null
          },
          "name": "stdout",
          "output_type": "stream",
          "text": [
            "\n",
            "Test set: Average loss: 0.3219, Accuracy: 198/220 (90.00%)\n",
            "\n",
            "|---- Average Clients Loss: 0.016026910522279128\n",
            "|---- Average Clients Accuracy: 99.91%\n",
            "|---- Server Testing Accuracy: 90.00%\n",
            "\n",
            "Round 61: Finished!\n",
            "\n",
            "---------------------------------\n",
            "\n",
            "Round 62/100: Starting...\n",
            "Send global model to all clients...\n",
            "\n",
            "Updating client 0...\n",
            "Evaluating client 0...\n",
            "Average loss: 0.0245, Accuracy: 100.00%\n",
            "\n",
            "Updating client 1...\n",
            "Evaluating client 1...\n",
            "Average loss: 0.0513, Accuracy: 98.55%\n",
            "\n",
            "Round 62: Evaluating...\n"
          ]
        },
        {
          "metadata": {
            "tags": null
          },
          "name": "stderr",
          "output_type": "stream",
          "text": [
            "\r 62%|██████▏   | 62/100 [38:18<24:25, 38.56s/it]"
          ]
        },
        {
          "metadata": {
            "tags": null
          },
          "name": "stdout",
          "output_type": "stream",
          "text": [
            "\n",
            "Test set: Average loss: 0.3297, Accuracy: 197/220 (89.55%)\n",
            "\n",
            "|---- Average Clients Loss: 0.01428305864205218\n",
            "|---- Average Clients Accuracy: 99.28%\n",
            "|---- Server Testing Accuracy: 89.55%\n",
            "\n",
            "Round 62: Finished!\n",
            "\n",
            "---------------------------------\n",
            "\n",
            "Round 63/100: Starting...\n",
            "Send global model to all clients...\n",
            "\n",
            "Updating client 0...\n",
            "Evaluating client 0...\n",
            "Average loss: 0.0095, Accuracy: 100.00%\n",
            "\n",
            "Updating client 1...\n",
            "Evaluating client 1...\n",
            "Average loss: 0.0111, Accuracy: 100.00%\n",
            "\n",
            "Round 63: Evaluating...\n"
          ]
        },
        {
          "metadata": {
            "tags": null
          },
          "name": "stderr",
          "output_type": "stream",
          "text": [
            "\r 63%|██████▎   | 63/100 [38:57<23:47, 38.58s/it]"
          ]
        },
        {
          "metadata": {
            "tags": null
          },
          "name": "stdout",
          "output_type": "stream",
          "text": [
            "\n",
            "Test set: Average loss: 0.3330, Accuracy: 199/220 (90.45%)\n",
            "\n",
            "|---- Average Clients Loss: 0.009118432290888125\n",
            "|---- Average Clients Accuracy: 100.00%\n",
            "|---- Server Testing Accuracy: 90.45%\n",
            "\n",
            "Round 63: Finished!\n",
            "\n",
            "---------------------------------\n",
            "\n",
            "Round 64/100: Starting...\n",
            "Send global model to all clients...\n",
            "\n",
            "Updating client 0...\n",
            "Evaluating client 0...\n",
            "Average loss: 0.0091, Accuracy: 100.00%\n",
            "\n",
            "Updating client 1...\n",
            "Evaluating client 1...\n",
            "Average loss: 0.0116, Accuracy: 100.00%\n",
            "\n",
            "Round 64: Evaluating...\n"
          ]
        },
        {
          "metadata": {
            "tags": null
          },
          "name": "stderr",
          "output_type": "stream",
          "text": [
            "\r 64%|██████▍   | 64/100 [39:35<23:05, 38.48s/it]"
          ]
        },
        {
          "metadata": {
            "tags": null
          },
          "name": "stdout",
          "output_type": "stream",
          "text": [
            "\n",
            "Test set: Average loss: 0.3395, Accuracy: 199/220 (90.45%)\n",
            "\n",
            "|---- Average Clients Loss: 0.009066428328018057\n",
            "|---- Average Clients Accuracy: 100.00%\n",
            "|---- Server Testing Accuracy: 90.45%\n",
            "\n",
            "Round 64: Finished!\n",
            "\n",
            "---------------------------------\n",
            "\n",
            "Round 65/100: Starting...\n",
            "Send global model to all clients...\n",
            "\n",
            "Updating client 0...\n",
            "Evaluating client 0...\n",
            "Average loss: 0.1358, Accuracy: 93.66%\n",
            "\n",
            "Updating client 1...\n",
            "Evaluating client 1...\n",
            "Average loss: 0.0106, Accuracy: 100.00%\n",
            "\n",
            "Round 65: Evaluating...\n"
          ]
        },
        {
          "metadata": {
            "tags": null
          },
          "name": "stderr",
          "output_type": "stream",
          "text": [
            "\r 65%|██████▌   | 65/100 [40:13<22:22, 38.34s/it]"
          ]
        },
        {
          "metadata": {
            "tags": null
          },
          "name": "stdout",
          "output_type": "stream",
          "text": [
            "\n",
            "Test set: Average loss: 0.3616, Accuracy: 199/220 (90.45%)\n",
            "\n",
            "|---- Average Clients Loss: 0.007507953025716623\n",
            "|---- Average Clients Accuracy: 96.83%\n",
            "|---- Server Testing Accuracy: 90.45%\n",
            "\n",
            "Round 65: Finished!\n",
            "\n",
            "---------------------------------\n",
            "\n",
            "Round 66/100: Starting...\n",
            "Send global model to all clients...\n",
            "\n",
            "Updating client 0...\n",
            "Evaluating client 0...\n",
            "Average loss: 0.0093, Accuracy: 100.00%\n",
            "\n",
            "Updating client 1...\n",
            "Evaluating client 1...\n",
            "Average loss: 0.0265, Accuracy: 99.46%\n",
            "\n",
            "Round 66: Evaluating...\n"
          ]
        },
        {
          "metadata": {
            "tags": null
          },
          "name": "stderr",
          "output_type": "stream",
          "text": [
            "\r 66%|██████▌   | 66/100 [40:51<21:36, 38.13s/it]"
          ]
        },
        {
          "metadata": {
            "tags": null
          },
          "name": "stdout",
          "output_type": "stream",
          "text": [
            "\n",
            "Test set: Average loss: 0.3425, Accuracy: 198/220 (90.00%)\n",
            "\n",
            "|---- Average Clients Loss: 0.01444279591493926\n",
            "|---- Average Clients Accuracy: 99.73%\n",
            "|---- Server Testing Accuracy: 90.00%\n",
            "\n",
            "Round 66: Finished!\n",
            "\n",
            "---------------------------------\n",
            "\n",
            "Round 67/100: Starting...\n",
            "Send global model to all clients...\n",
            "\n",
            "Updating client 0...\n",
            "Evaluating client 0...\n",
            "Average loss: 0.0078, Accuracy: 100.00%\n",
            "\n",
            "Updating client 1...\n",
            "Evaluating client 1...\n",
            "Average loss: 0.0097, Accuracy: 100.00%\n",
            "\n",
            "Round 67: Evaluating...\n"
          ]
        },
        {
          "metadata": {
            "tags": null
          },
          "name": "stderr",
          "output_type": "stream",
          "text": [
            "\r 67%|██████▋   | 67/100 [41:29<20:54, 38.02s/it]"
          ]
        },
        {
          "metadata": {
            "tags": null
          },
          "name": "stdout",
          "output_type": "stream",
          "text": [
            "\n",
            "Test set: Average loss: 0.3438, Accuracy: 198/220 (90.00%)\n",
            "\n",
            "|---- Average Clients Loss: 0.00808306875499706\n",
            "|---- Average Clients Accuracy: 100.00%\n",
            "|---- Server Testing Accuracy: 90.00%\n",
            "\n",
            "Round 67: Finished!\n",
            "\n",
            "---------------------------------\n",
            "\n",
            "Round 68/100: Starting...\n",
            "Send global model to all clients...\n",
            "\n",
            "Updating client 0...\n",
            "Evaluating client 0...\n",
            "Average loss: 0.0107, Accuracy: 100.00%\n",
            "\n",
            "Updating client 1...\n",
            "Evaluating client 1...\n",
            "Average loss: 0.0081, Accuracy: 100.00%\n",
            "\n",
            "Round 68: Evaluating...\n"
          ]
        },
        {
          "metadata": {
            "tags": null
          },
          "name": "stderr",
          "output_type": "stream",
          "text": [
            "\r 68%|██████▊   | 68/100 [42:06<20:13, 37.92s/it]"
          ]
        },
        {
          "metadata": {
            "tags": null
          },
          "name": "stdout",
          "output_type": "stream",
          "text": [
            "\n",
            "Test set: Average loss: 0.3476, Accuracy: 198/220 (90.00%)\n",
            "\n",
            "|---- Average Clients Loss: 0.012796002143951617\n",
            "|---- Average Clients Accuracy: 100.00%\n",
            "|---- Server Testing Accuracy: 90.00%\n",
            "\n",
            "Round 68: Finished!\n",
            "\n",
            "---------------------------------\n",
            "\n",
            "Round 69/100: Starting...\n",
            "Send global model to all clients...\n",
            "\n",
            "Updating client 0...\n",
            "Evaluating client 0...\n",
            "Average loss: 0.0071, Accuracy: 100.00%\n",
            "\n",
            "Updating client 1...\n",
            "Evaluating client 1...\n",
            "Average loss: 0.0206, Accuracy: 100.00%\n",
            "\n",
            "Round 69: Evaluating...\n"
          ]
        },
        {
          "metadata": {
            "tags": null
          },
          "name": "stderr",
          "output_type": "stream",
          "text": [
            "\r 69%|██████▉   | 69/100 [42:44<19:32, 37.83s/it]"
          ]
        },
        {
          "metadata": {
            "tags": null
          },
          "name": "stdout",
          "output_type": "stream",
          "text": [
            "\n",
            "Test set: Average loss: 0.3440, Accuracy: 197/220 (89.55%)\n",
            "\n",
            "|---- Average Clients Loss: 0.02491930634239127\n",
            "|---- Average Clients Accuracy: 100.00%\n",
            "|---- Server Testing Accuracy: 89.55%\n",
            "\n",
            "Round 69: Finished!\n",
            "\n",
            "---------------------------------\n",
            "\n",
            "Round 70/100: Starting...\n",
            "Send global model to all clients...\n",
            "\n",
            "Updating client 0...\n",
            "Evaluating client 0...\n",
            "Average loss: 0.0064, Accuracy: 100.00%\n",
            "\n",
            "Updating client 1...\n",
            "Evaluating client 1...\n",
            "Average loss: 0.0079, Accuracy: 100.00%\n",
            "\n",
            "Round 70: Evaluating...\n"
          ]
        },
        {
          "metadata": {
            "tags": null
          },
          "name": "stderr",
          "output_type": "stream",
          "text": [
            "\r 70%|███████   | 70/100 [43:22<18:54, 37.82s/it]"
          ]
        },
        {
          "metadata": {
            "tags": null
          },
          "name": "stdout",
          "output_type": "stream",
          "text": [
            "\n",
            "Test set: Average loss: 0.3416, Accuracy: 199/220 (90.45%)\n",
            "\n",
            "|---- Average Clients Loss: 0.007546859243640419\n",
            "|---- Average Clients Accuracy: 100.00%\n",
            "|---- Server Testing Accuracy: 90.45%\n",
            "\n",
            "Round 70: Finished!\n",
            "\n",
            "---------------------------------\n",
            "\n",
            "Round 71/100: Starting...\n",
            "Send global model to all clients...\n",
            "\n",
            "Updating client 0...\n",
            "Evaluating client 0...\n",
            "Average loss: 0.0059, Accuracy: 100.00%\n",
            "\n",
            "Updating client 1...\n",
            "Evaluating client 1...\n",
            "Average loss: 0.0070, Accuracy: 100.00%\n",
            "\n",
            "Round 71: Evaluating...\n"
          ]
        },
        {
          "metadata": {
            "tags": null
          },
          "name": "stderr",
          "output_type": "stream",
          "text": [
            "\r 71%|███████   | 71/100 [43:59<18:15, 37.78s/it]"
          ]
        },
        {
          "metadata": {
            "tags": null
          },
          "name": "stdout",
          "output_type": "stream",
          "text": [
            "\n",
            "Test set: Average loss: 0.3489, Accuracy: 200/220 (90.91%)\n",
            "\n",
            "|---- Average Clients Loss: 0.004630751976386753\n",
            "|---- Average Clients Accuracy: 100.00%\n",
            "|---- Server Testing Accuracy: 90.91%\n",
            "\n",
            "Round 71: Finished!\n",
            "\n",
            "---------------------------------\n",
            "\n",
            "Round 72/100: Starting...\n",
            "Send global model to all clients...\n",
            "\n",
            "Updating client 0...\n",
            "Evaluating client 0...\n",
            "Average loss: 0.0095, Accuracy: 100.00%\n",
            "\n",
            "Updating client 1...\n",
            "Evaluating client 1...\n",
            "Average loss: 0.0066, Accuracy: 100.00%\n",
            "\n",
            "Round 72: Evaluating...\n"
          ]
        },
        {
          "metadata": {
            "tags": null
          },
          "name": "stderr",
          "output_type": "stream",
          "text": [
            "\r 72%|███████▏  | 72/100 [44:37<17:36, 37.75s/it]"
          ]
        },
        {
          "metadata": {
            "tags": null
          },
          "name": "stdout",
          "output_type": "stream",
          "text": [
            "\n",
            "Test set: Average loss: 0.3581, Accuracy: 202/220 (91.82%)\n",
            "\n",
            "|---- Average Clients Loss: 0.004409694455785841\n",
            "|---- Average Clients Accuracy: 100.00%\n",
            "|---- Server Testing Accuracy: 91.82%\n",
            "\n",
            "Round 72: Finished!\n",
            "\n",
            "---------------------------------\n",
            "\n",
            "Round 73/100: Starting...\n",
            "Send global model to all clients...\n",
            "\n",
            "Updating client 0...\n",
            "Evaluating client 0...\n",
            "Average loss: 0.0538, Accuracy: 99.28%\n",
            "\n",
            "Updating client 1...\n",
            "Evaluating client 1...\n",
            "Average loss: 0.0075, Accuracy: 100.00%\n",
            "\n",
            "Round 73: Evaluating...\n"
          ]
        },
        {
          "metadata": {
            "tags": null
          },
          "name": "stderr",
          "output_type": "stream",
          "text": [
            "\r 73%|███████▎  | 73/100 [45:14<16:52, 37.50s/it]"
          ]
        },
        {
          "metadata": {
            "tags": null
          },
          "name": "stdout",
          "output_type": "stream",
          "text": [
            "\n",
            "Test set: Average loss: 0.3613, Accuracy: 196/220 (89.09%)\n",
            "\n",
            "|---- Average Clients Loss: 0.045730902774981326\n",
            "|---- Average Clients Accuracy: 99.64%\n",
            "|---- Server Testing Accuracy: 89.09%\n",
            "\n",
            "Round 73: Finished!\n",
            "\n",
            "---------------------------------\n",
            "\n",
            "Round 74/100: Starting...\n",
            "Send global model to all clients...\n",
            "\n",
            "Updating client 0...\n",
            "Evaluating client 0...\n",
            "Average loss: 0.0052, Accuracy: 100.00%\n",
            "\n",
            "Updating client 1...\n",
            "Evaluating client 1...\n",
            "Average loss: 0.0066, Accuracy: 100.00%\n",
            "\n",
            "Round 74: Evaluating...\n"
          ]
        },
        {
          "metadata": {
            "tags": null
          },
          "name": "stderr",
          "output_type": "stream",
          "text": [
            "\r 74%|███████▍  | 74/100 [45:53<16:23, 37.83s/it]"
          ]
        },
        {
          "metadata": {
            "tags": null
          },
          "name": "stdout",
          "output_type": "stream",
          "text": [
            "\n",
            "Test set: Average loss: 0.3537, Accuracy: 198/220 (90.00%)\n",
            "\n",
            "|---- Average Clients Loss: 0.0050028677391895015\n",
            "|---- Average Clients Accuracy: 100.00%\n",
            "|---- Server Testing Accuracy: 90.00%\n",
            "\n",
            "Round 74: Finished!\n",
            "\n",
            "---------------------------------\n",
            "\n",
            "Round 75/100: Starting...\n",
            "Send global model to all clients...\n",
            "\n",
            "Updating client 0...\n",
            "Evaluating client 0...\n",
            "Average loss: 0.0064, Accuracy: 100.00%\n",
            "\n",
            "Updating client 1...\n",
            "Evaluating client 1...\n",
            "Average loss: 0.0063, Accuracy: 100.00%\n",
            "\n",
            "Round 75: Evaluating...\n"
          ]
        },
        {
          "metadata": {
            "tags": null
          },
          "name": "stderr",
          "output_type": "stream",
          "text": [
            "\r 75%|███████▌  | 75/100 [46:30<15:43, 37.73s/it]"
          ]
        },
        {
          "metadata": {
            "tags": null
          },
          "name": "stdout",
          "output_type": "stream",
          "text": [
            "\n",
            "Test set: Average loss: 0.3603, Accuracy: 197/220 (89.55%)\n",
            "\n",
            "|---- Average Clients Loss: 0.004018992201898592\n",
            "|---- Average Clients Accuracy: 100.00%\n",
            "|---- Server Testing Accuracy: 89.55%\n",
            "\n",
            "Round 75: Finished!\n",
            "\n",
            "---------------------------------\n",
            "\n",
            "Round 76/100: Starting...\n",
            "Send global model to all clients...\n",
            "\n",
            "Updating client 0...\n",
            "Evaluating client 0...\n",
            "Average loss: 0.0048, Accuracy: 100.00%\n",
            "\n",
            "Updating client 1...\n",
            "Evaluating client 1...\n",
            "Average loss: 0.0060, Accuracy: 100.00%\n",
            "\n",
            "Round 76: Evaluating...\n"
          ]
        },
        {
          "metadata": {
            "tags": null
          },
          "name": "stderr",
          "output_type": "stream",
          "text": [
            "\r 76%|███████▌  | 76/100 [47:08<15:04, 37.70s/it]"
          ]
        },
        {
          "metadata": {
            "tags": null
          },
          "name": "stdout",
          "output_type": "stream",
          "text": [
            "\n",
            "Test set: Average loss: 0.3660, Accuracy: 200/220 (90.91%)\n",
            "\n",
            "|---- Average Clients Loss: 0.0036665752325331724\n",
            "|---- Average Clients Accuracy: 100.00%\n",
            "|---- Server Testing Accuracy: 90.91%\n",
            "\n",
            "Round 76: Finished!\n",
            "\n",
            "---------------------------------\n",
            "\n",
            "Round 77/100: Starting...\n",
            "Send global model to all clients...\n",
            "\n",
            "Updating client 0...\n",
            "Evaluating client 0...\n",
            "Average loss: 0.0063, Accuracy: 100.00%\n",
            "\n",
            "Updating client 1...\n",
            "Evaluating client 1...\n",
            "Average loss: 0.0060, Accuracy: 100.00%\n",
            "\n",
            "Round 77: Evaluating...\n"
          ]
        },
        {
          "metadata": {
            "tags": null
          },
          "name": "stderr",
          "output_type": "stream",
          "text": [
            "\r 77%|███████▋  | 77/100 [47:46<14:28, 37.74s/it]"
          ]
        },
        {
          "metadata": {
            "tags": null
          },
          "name": "stdout",
          "output_type": "stream",
          "text": [
            "\n",
            "Test set: Average loss: 0.3752, Accuracy: 201/220 (91.36%)\n",
            "\n",
            "|---- Average Clients Loss: 0.003373547351722144\n",
            "|---- Average Clients Accuracy: 100.00%\n",
            "|---- Server Testing Accuracy: 91.36%\n",
            "\n",
            "Round 77: Finished!\n",
            "\n",
            "---------------------------------\n",
            "\n",
            "Round 78/100: Starting...\n",
            "Send global model to all clients...\n",
            "\n",
            "Updating client 0...\n",
            "Evaluating client 0...\n",
            "Average loss: 0.0042, Accuracy: 100.00%\n",
            "\n",
            "Updating client 1...\n",
            "Evaluating client 1...\n",
            "Average loss: 0.0060, Accuracy: 100.00%\n",
            "\n",
            "Round 78: Evaluating...\n"
          ]
        },
        {
          "metadata": {
            "tags": null
          },
          "name": "stderr",
          "output_type": "stream",
          "text": [
            "\r 78%|███████▊  | 78/100 [48:24<13:54, 37.91s/it]"
          ]
        },
        {
          "metadata": {
            "tags": null
          },
          "name": "stdout",
          "output_type": "stream",
          "text": [
            "\n",
            "Test set: Average loss: 0.3779, Accuracy: 201/220 (91.36%)\n",
            "\n",
            "|---- Average Clients Loss: 0.0031493080586122756\n",
            "|---- Average Clients Accuracy: 100.00%\n",
            "|---- Server Testing Accuracy: 91.36%\n",
            "\n",
            "Round 78: Finished!\n",
            "\n",
            "---------------------------------\n",
            "\n",
            "Round 79/100: Starting...\n",
            "Send global model to all clients...\n",
            "\n",
            "Updating client 0...\n",
            "Evaluating client 0...\n",
            "Average loss: 0.0075, Accuracy: 100.00%\n",
            "\n",
            "Updating client 1...\n",
            "Evaluating client 1...\n",
            "Average loss: 0.0132, Accuracy: 100.00%\n",
            "\n",
            "Round 79: Evaluating...\n"
          ]
        },
        {
          "metadata": {
            "tags": null
          },
          "name": "stderr",
          "output_type": "stream",
          "text": [
            "\r 79%|███████▉  | 79/100 [49:02<13:16, 37.92s/it]"
          ]
        },
        {
          "metadata": {
            "tags": null
          },
          "name": "stdout",
          "output_type": "stream",
          "text": [
            "\n",
            "Test set: Average loss: 0.3785, Accuracy: 200/220 (90.91%)\n",
            "\n",
            "|---- Average Clients Loss: 0.0030957087279667966\n",
            "|---- Average Clients Accuracy: 100.00%\n",
            "|---- Server Testing Accuracy: 90.91%\n",
            "\n",
            "Round 79: Finished!\n",
            "\n",
            "---------------------------------\n",
            "\n",
            "Round 80/100: Starting...\n",
            "Send global model to all clients...\n",
            "\n",
            "Updating client 0...\n",
            "Evaluating client 0...\n",
            "Average loss: 0.0041, Accuracy: 100.00%\n",
            "\n",
            "Updating client 1...\n",
            "Evaluating client 1...\n",
            "Average loss: 0.0072, Accuracy: 100.00%\n",
            "\n",
            "Round 80: Evaluating...\n"
          ]
        },
        {
          "metadata": {
            "tags": null
          },
          "name": "stderr",
          "output_type": "stream",
          "text": [
            "\r 80%|████████  | 80/100 [49:39<12:35, 37.77s/it]"
          ]
        },
        {
          "metadata": {
            "tags": null
          },
          "name": "stdout",
          "output_type": "stream",
          "text": [
            "\n",
            "Test set: Average loss: 0.3801, Accuracy: 200/220 (90.91%)\n",
            "\n",
            "|---- Average Clients Loss: 0.0028081089323482695\n",
            "|---- Average Clients Accuracy: 100.00%\n",
            "|---- Server Testing Accuracy: 90.91%\n",
            "\n",
            "Round 80: Finished!\n",
            "\n",
            "---------------------------------\n",
            "\n",
            "Round 81/100: Starting...\n",
            "Send global model to all clients...\n",
            "\n",
            "Updating client 0...\n",
            "Evaluating client 0...\n",
            "Average loss: 0.0034, Accuracy: 100.00%\n",
            "\n",
            "Updating client 1...\n",
            "Evaluating client 1...\n",
            "Average loss: 0.0092, Accuracy: 100.00%\n",
            "\n",
            "Round 81: Evaluating...\n"
          ]
        },
        {
          "metadata": {
            "tags": null
          },
          "name": "stderr",
          "output_type": "stream",
          "text": [
            "\r 81%|████████  | 81/100 [50:17<11:54, 37.62s/it]"
          ]
        },
        {
          "metadata": {
            "tags": null
          },
          "name": "stdout",
          "output_type": "stream",
          "text": [
            "\n",
            "Test set: Average loss: 0.3820, Accuracy: 201/220 (91.36%)\n",
            "\n",
            "|---- Average Clients Loss: 0.002645134519454473\n",
            "|---- Average Clients Accuracy: 100.00%\n",
            "|---- Server Testing Accuracy: 91.36%\n",
            "\n",
            "Round 81: Finished!\n",
            "\n",
            "---------------------------------\n",
            "\n",
            "Round 82/100: Starting...\n",
            "Send global model to all clients...\n",
            "\n",
            "Updating client 0...\n",
            "Evaluating client 0...\n",
            "Average loss: 0.0044, Accuracy: 100.00%\n",
            "\n",
            "Updating client 1...\n",
            "Evaluating client 1...\n",
            "Average loss: 0.0044, Accuracy: 100.00%\n",
            "\n",
            "Round 82: Evaluating...\n"
          ]
        },
        {
          "metadata": {
            "tags": null
          },
          "name": "stderr",
          "output_type": "stream",
          "text": [
            "\r 82%|████████▏ | 82/100 [50:54<11:15, 37.56s/it]"
          ]
        },
        {
          "metadata": {
            "tags": null
          },
          "name": "stdout",
          "output_type": "stream",
          "text": [
            "\n",
            "Test set: Average loss: 0.3883, Accuracy: 200/220 (90.91%)\n",
            "\n",
            "|---- Average Clients Loss: 0.0024450326557671686\n",
            "|---- Average Clients Accuracy: 100.00%\n",
            "|---- Server Testing Accuracy: 90.91%\n",
            "\n",
            "Round 82: Finished!\n",
            "\n",
            "---------------------------------\n",
            "\n",
            "Round 83/100: Starting...\n",
            "Send global model to all clients...\n",
            "\n",
            "Updating client 0...\n",
            "Evaluating client 0...\n",
            "Average loss: 0.0220, Accuracy: 99.82%\n",
            "\n",
            "Updating client 1...\n",
            "Evaluating client 1...\n",
            "Average loss: 0.0043, Accuracy: 100.00%\n",
            "\n",
            "Round 83: Evaluating...\n"
          ]
        },
        {
          "metadata": {
            "tags": null
          },
          "name": "stderr",
          "output_type": "stream",
          "text": [
            "\r 83%|████████▎ | 83/100 [51:31<10:37, 37.53s/it]"
          ]
        },
        {
          "metadata": {
            "tags": null
          },
          "name": "stdout",
          "output_type": "stream",
          "text": [
            "\n",
            "Test set: Average loss: 0.3915, Accuracy: 199/220 (90.45%)\n",
            "\n",
            "|---- Average Clients Loss: 0.0024573447556710854\n",
            "|---- Average Clients Accuracy: 99.91%\n",
            "|---- Server Testing Accuracy: 90.45%\n",
            "\n",
            "Round 83: Finished!\n",
            "\n",
            "---------------------------------\n",
            "\n",
            "Round 84/100: Starting...\n",
            "Send global model to all clients...\n",
            "\n",
            "Updating client 0...\n",
            "Evaluating client 0...\n",
            "Average loss: 0.0032, Accuracy: 100.00%\n",
            "\n",
            "Updating client 1...\n",
            "Evaluating client 1...\n",
            "Average loss: 0.0056, Accuracy: 100.00%\n",
            "\n",
            "Round 84: Evaluating...\n"
          ]
        },
        {
          "metadata": {
            "tags": null
          },
          "name": "stderr",
          "output_type": "stream",
          "text": [
            "\r 84%|████████▍ | 84/100 [52:09<10:00, 37.52s/it]"
          ]
        },
        {
          "metadata": {
            "tags": null
          },
          "name": "stdout",
          "output_type": "stream",
          "text": [
            "\n",
            "Test set: Average loss: 0.3913, Accuracy: 201/220 (91.36%)\n",
            "\n",
            "|---- Average Clients Loss: 0.0022378745098389375\n",
            "|---- Average Clients Accuracy: 100.00%\n",
            "|---- Server Testing Accuracy: 91.36%\n",
            "\n",
            "Round 84: Finished!\n",
            "\n",
            "---------------------------------\n",
            "\n",
            "Round 85/100: Starting...\n",
            "Send global model to all clients...\n",
            "\n",
            "Updating client 0...\n",
            "Evaluating client 0...\n",
            "Average loss: 0.0043, Accuracy: 100.00%\n",
            "\n",
            "Updating client 1...\n",
            "Evaluating client 1...\n",
            "Average loss: 0.0047, Accuracy: 100.00%\n",
            "\n",
            "Round 85: Evaluating...\n"
          ]
        },
        {
          "metadata": {
            "tags": null
          },
          "name": "stderr",
          "output_type": "stream",
          "text": [
            "\r 85%|████████▌ | 85/100 [52:46<09:21, 37.42s/it]"
          ]
        },
        {
          "metadata": {
            "tags": null
          },
          "name": "stdout",
          "output_type": "stream",
          "text": [
            "\n",
            "Test set: Average loss: 0.3950, Accuracy: 200/220 (90.91%)\n",
            "\n",
            "|---- Average Clients Loss: 0.0021772532098387793\n",
            "|---- Average Clients Accuracy: 100.00%\n",
            "|---- Server Testing Accuracy: 90.91%\n",
            "\n",
            "Round 85: Finished!\n",
            "\n",
            "---------------------------------\n",
            "\n",
            "Round 86/100: Starting...\n",
            "Send global model to all clients...\n",
            "\n",
            "Updating client 0...\n",
            "Evaluating client 0...\n",
            "Average loss: 0.0039, Accuracy: 100.00%\n",
            "\n",
            "Updating client 1...\n",
            "Evaluating client 1...\n",
            "Average loss: 0.0045, Accuracy: 100.00%\n",
            "\n",
            "Round 86: Evaluating...\n"
          ]
        },
        {
          "metadata": {
            "tags": null
          },
          "name": "stderr",
          "output_type": "stream",
          "text": [
            "\r 86%|████████▌ | 86/100 [53:23<08:42, 37.30s/it]"
          ]
        },
        {
          "metadata": {
            "tags": null
          },
          "name": "stdout",
          "output_type": "stream",
          "text": [
            "\n",
            "Test set: Average loss: 0.3988, Accuracy: 199/220 (90.45%)\n",
            "\n",
            "|---- Average Clients Loss: 0.002129752986255491\n",
            "|---- Average Clients Accuracy: 100.00%\n",
            "|---- Server Testing Accuracy: 90.45%\n",
            "\n",
            "Round 86: Finished!\n",
            "\n",
            "---------------------------------\n",
            "\n",
            "Round 87/100: Starting...\n",
            "Send global model to all clients...\n",
            "\n",
            "Updating client 0...\n",
            "Evaluating client 0...\n",
            "Average loss: 0.0052, Accuracy: 100.00%\n",
            "\n",
            "Updating client 1...\n",
            "Evaluating client 1...\n",
            "Average loss: 0.0034, Accuracy: 100.00%\n",
            "\n",
            "Round 87: Evaluating...\n"
          ]
        },
        {
          "metadata": {
            "tags": null
          },
          "name": "stderr",
          "output_type": "stream",
          "text": [
            "\r 87%|████████▋ | 87/100 [54:00<08:04, 37.26s/it]"
          ]
        },
        {
          "metadata": {
            "tags": null
          },
          "name": "stdout",
          "output_type": "stream",
          "text": [
            "\n",
            "Test set: Average loss: 0.3976, Accuracy: 202/220 (91.82%)\n",
            "\n",
            "|---- Average Clients Loss: 0.0020719664306138186\n",
            "|---- Average Clients Accuracy: 100.00%\n",
            "|---- Server Testing Accuracy: 91.82%\n",
            "\n",
            "Round 87: Finished!\n",
            "\n",
            "---------------------------------\n",
            "\n",
            "Round 88/100: Starting...\n",
            "Send global model to all clients...\n",
            "\n",
            "Updating client 0...\n",
            "Evaluating client 0...\n",
            "Average loss: 0.0034, Accuracy: 100.00%\n",
            "\n",
            "Updating client 1...\n",
            "Evaluating client 1...\n",
            "Average loss: 0.0034, Accuracy: 100.00%\n",
            "\n",
            "Round 88: Evaluating...\n"
          ]
        },
        {
          "metadata": {
            "tags": null
          },
          "name": "stderr",
          "output_type": "stream",
          "text": [
            "\r 88%|████████▊ | 88/100 [54:37<07:24, 37.07s/it]"
          ]
        },
        {
          "metadata": {
            "tags": null
          },
          "name": "stdout",
          "output_type": "stream",
          "text": [
            "\n",
            "Test set: Average loss: 0.3978, Accuracy: 201/220 (91.36%)\n",
            "\n",
            "|---- Average Clients Loss: 0.0019711701078303384\n",
            "|---- Average Clients Accuracy: 100.00%\n",
            "|---- Server Testing Accuracy: 91.36%\n",
            "\n",
            "Round 88: Finished!\n",
            "\n",
            "---------------------------------\n",
            "\n",
            "Round 89/100: Starting...\n",
            "Send global model to all clients...\n",
            "\n",
            "Updating client 0...\n",
            "Evaluating client 0...\n",
            "Average loss: 0.0026, Accuracy: 100.00%\n",
            "\n",
            "Updating client 1...\n",
            "Evaluating client 1...\n",
            "Average loss: 0.0032, Accuracy: 100.00%\n",
            "\n",
            "Round 89: Evaluating...\n"
          ]
        },
        {
          "metadata": {
            "tags": null
          },
          "name": "stderr",
          "output_type": "stream",
          "text": [
            "\r 89%|████████▉ | 89/100 [55:14<06:46, 36.98s/it]"
          ]
        },
        {
          "metadata": {
            "tags": null
          },
          "name": "stdout",
          "output_type": "stream",
          "text": [
            "\n",
            "Test set: Average loss: 0.3991, Accuracy: 202/220 (91.82%)\n",
            "\n",
            "|---- Average Clients Loss: 0.0018656074775630519\n",
            "|---- Average Clients Accuracy: 100.00%\n",
            "|---- Server Testing Accuracy: 91.82%\n",
            "\n",
            "Round 89: Finished!\n",
            "\n",
            "---------------------------------\n",
            "\n",
            "Round 90/100: Starting...\n",
            "Send global model to all clients...\n",
            "\n",
            "Updating client 0...\n",
            "Evaluating client 0...\n",
            "Average loss: 0.0026, Accuracy: 100.00%\n",
            "\n",
            "Updating client 1...\n",
            "Evaluating client 1...\n",
            "Average loss: 0.0032, Accuracy: 100.00%\n",
            "\n",
            "Round 90: Evaluating...\n"
          ]
        },
        {
          "metadata": {
            "tags": null
          },
          "name": "stderr",
          "output_type": "stream",
          "text": [
            "\r 90%|█████████ | 90/100 [55:50<06:09, 36.92s/it]"
          ]
        },
        {
          "metadata": {
            "tags": null
          },
          "name": "stdout",
          "output_type": "stream",
          "text": [
            "\n",
            "Test set: Average loss: 0.4013, Accuracy: 201/220 (91.36%)\n",
            "\n",
            "|---- Average Clients Loss: 0.001736480515303031\n",
            "|---- Average Clients Accuracy: 100.00%\n",
            "|---- Server Testing Accuracy: 91.36%\n",
            "\n",
            "Round 90: Finished!\n",
            "\n",
            "---------------------------------\n",
            "\n",
            "Round 91/100: Starting...\n",
            "Send global model to all clients...\n",
            "\n",
            "Updating client 0...\n",
            "Evaluating client 0...\n",
            "Average loss: 0.0024, Accuracy: 100.00%\n",
            "\n",
            "Updating client 1...\n",
            "Evaluating client 1...\n",
            "Average loss: 0.0030, Accuracy: 100.00%\n",
            "\n",
            "Round 91: Evaluating...\n"
          ]
        },
        {
          "metadata": {
            "tags": null
          },
          "name": "stderr",
          "output_type": "stream",
          "text": [
            "\r 91%|█████████ | 91/100 [56:27<05:32, 36.90s/it]"
          ]
        },
        {
          "metadata": {
            "tags": null
          },
          "name": "stdout",
          "output_type": "stream",
          "text": [
            "\n",
            "Test set: Average loss: 0.4041, Accuracy: 201/220 (91.36%)\n",
            "\n",
            "|---- Average Clients Loss: 0.001663745292652103\n",
            "|---- Average Clients Accuracy: 100.00%\n",
            "|---- Server Testing Accuracy: 91.36%\n",
            "\n",
            "Round 91: Finished!\n",
            "\n",
            "---------------------------------\n",
            "\n",
            "Round 92/100: Starting...\n",
            "Send global model to all clients...\n",
            "\n",
            "Updating client 0...\n",
            "Evaluating client 0...\n",
            "Average loss: 0.0025, Accuracy: 100.00%\n",
            "\n",
            "Updating client 1...\n",
            "Evaluating client 1...\n",
            "Average loss: 0.0029, Accuracy: 100.00%\n",
            "\n",
            "Round 92: Evaluating...\n"
          ]
        },
        {
          "metadata": {
            "tags": null
          },
          "name": "stderr",
          "output_type": "stream",
          "text": [
            "\r 92%|█████████▏| 92/100 [57:04<04:55, 36.92s/it]"
          ]
        },
        {
          "metadata": {
            "tags": null
          },
          "name": "stdout",
          "output_type": "stream",
          "text": [
            "\n",
            "Test set: Average loss: 0.4071, Accuracy: 202/220 (91.82%)\n",
            "\n",
            "|---- Average Clients Loss: 0.0016662205767676852\n",
            "|---- Average Clients Accuracy: 100.00%\n",
            "|---- Server Testing Accuracy: 91.82%\n",
            "\n",
            "Round 92: Finished!\n",
            "\n",
            "---------------------------------\n",
            "\n",
            "Round 93/100: Starting...\n",
            "Send global model to all clients...\n",
            "\n",
            "Updating client 0...\n",
            "Evaluating client 0...\n",
            "Average loss: 0.0133, Accuracy: 100.00%\n",
            "\n",
            "Updating client 1...\n",
            "Evaluating client 1...\n",
            "Average loss: 0.0029, Accuracy: 100.00%\n",
            "\n",
            "Round 93: Evaluating...\n"
          ]
        },
        {
          "metadata": {
            "tags": null
          },
          "name": "stderr",
          "output_type": "stream",
          "text": [
            "\r 93%|█████████▎| 93/100 [57:41<04:18, 36.95s/it]"
          ]
        },
        {
          "metadata": {
            "tags": null
          },
          "name": "stdout",
          "output_type": "stream",
          "text": [
            "\n",
            "Test set: Average loss: 0.4152, Accuracy: 201/220 (91.36%)\n",
            "\n",
            "|---- Average Clients Loss: 0.001603263541515584\n",
            "|---- Average Clients Accuracy: 100.00%\n",
            "|---- Server Testing Accuracy: 91.36%\n",
            "\n",
            "Round 93: Finished!\n",
            "\n",
            "---------------------------------\n",
            "\n",
            "Round 94/100: Starting...\n",
            "Send global model to all clients...\n",
            "\n",
            "Updating client 0...\n",
            "Evaluating client 0...\n",
            "Average loss: 0.0022, Accuracy: 100.00%\n",
            "\n",
            "Updating client 1...\n",
            "Evaluating client 1...\n",
            "Average loss: 0.0029, Accuracy: 100.00%\n",
            "\n",
            "Round 94: Evaluating...\n"
          ]
        },
        {
          "metadata": {
            "tags": null
          },
          "name": "stderr",
          "output_type": "stream",
          "text": [
            "\r 94%|█████████▍| 94/100 [58:18<03:41, 36.96s/it]"
          ]
        },
        {
          "metadata": {
            "tags": null
          },
          "name": "stdout",
          "output_type": "stream",
          "text": [
            "\n",
            "Test set: Average loss: 0.4118, Accuracy: 200/220 (90.91%)\n",
            "\n",
            "|---- Average Clients Loss: 0.001557037563299803\n",
            "|---- Average Clients Accuracy: 100.00%\n",
            "|---- Server Testing Accuracy: 90.91%\n",
            "\n",
            "Round 94: Finished!\n",
            "\n",
            "---------------------------------\n",
            "\n",
            "Round 95/100: Starting...\n",
            "Send global model to all clients...\n",
            "\n",
            "Updating client 0...\n",
            "Evaluating client 0...\n",
            "Average loss: 0.0021, Accuracy: 100.00%\n",
            "\n",
            "Updating client 1...\n",
            "Evaluating client 1...\n",
            "Average loss: 0.0052, Accuracy: 100.00%\n",
            "\n",
            "Round 95: Evaluating...\n"
          ]
        },
        {
          "metadata": {
            "tags": null
          },
          "name": "stderr",
          "output_type": "stream",
          "text": [
            "\r 95%|█████████▌| 95/100 [58:55<03:04, 36.90s/it]"
          ]
        },
        {
          "metadata": {
            "tags": null
          },
          "name": "stdout",
          "output_type": "stream",
          "text": [
            "\n",
            "Test set: Average loss: 0.4167, Accuracy: 201/220 (91.36%)\n",
            "\n",
            "|---- Average Clients Loss: 0.0015153151944754689\n",
            "|---- Average Clients Accuracy: 100.00%\n",
            "|---- Server Testing Accuracy: 91.36%\n",
            "\n",
            "Round 95: Finished!\n",
            "\n",
            "---------------------------------\n",
            "\n",
            "Round 96/100: Starting...\n",
            "Send global model to all clients...\n",
            "\n",
            "Updating client 0...\n",
            "Evaluating client 0...\n",
            "Average loss: 0.0021, Accuracy: 100.00%\n",
            "\n",
            "Updating client 1...\n",
            "Evaluating client 1...\n",
            "Average loss: 0.0030, Accuracy: 100.00%\n",
            "\n",
            "Round 96: Evaluating...\n"
          ]
        },
        {
          "metadata": {
            "tags": null
          },
          "name": "stderr",
          "output_type": "stream",
          "text": [
            "\r 96%|█████████▌| 96/100 [59:32<02:27, 36.87s/it]"
          ]
        },
        {
          "metadata": {
            "tags": null
          },
          "name": "stdout",
          "output_type": "stream",
          "text": [
            "\n",
            "Test set: Average loss: 0.4180, Accuracy: 201/220 (91.36%)\n",
            "\n",
            "|---- Average Clients Loss: 0.001439146389137542\n",
            "|---- Average Clients Accuracy: 100.00%\n",
            "|---- Server Testing Accuracy: 91.36%\n",
            "\n",
            "Round 96: Finished!\n",
            "\n",
            "---------------------------------\n",
            "\n",
            "Round 97/100: Starting...\n",
            "Send global model to all clients...\n",
            "\n",
            "Updating client 0...\n",
            "Evaluating client 0...\n",
            "Average loss: 0.0112, Accuracy: 100.00%\n",
            "\n",
            "Updating client 1...\n",
            "Evaluating client 1...\n",
            "Average loss: 0.0027, Accuracy: 100.00%\n",
            "\n",
            "Round 97: Evaluating...\n"
          ]
        },
        {
          "metadata": {
            "tags": null
          },
          "name": "stderr",
          "output_type": "stream",
          "text": [
            "\r 97%|█████████▋| 97/100 [1:00:09<01:50, 36.83s/it]"
          ]
        },
        {
          "output_type": "stream",
          "name": "stdout",
          "text": [
            "\n",
            "Test set: Average loss: 0.4243, Accuracy: 203/220 (92.27%)\n",
            "\n",
            "|---- Average Clients Loss: 0.00140841220080899\n",
            "|---- Average Clients Accuracy: 100.00%\n",
            "|---- Server Testing Accuracy: 92.27%\n",
            "\n",
            "Round 97: Finished!\n",
            "\n",
            "---------------------------------\n",
            "\n",
            "Round 98/100: Starting...\n",
            "Send global model to all clients...\n",
            "\n",
            "Updating client 0...\n",
            "Evaluating client 0...\n",
            "Average loss: 0.0020, Accuracy: 100.00%\n",
            "\n",
            "Updating client 1...\n",
            "Evaluating client 1...\n",
            "Average loss: 0.0026, Accuracy: 100.00%\n",
            "\n",
            "Round 98: Evaluating...\n"
          ]
        },
        {
          "output_type": "stream",
          "name": "stderr",
          "text": [
            "\r 98%|█████████▊| 98/100 [1:00:46<01:13, 36.85s/it]"
          ]
        },
        {
          "output_type": "stream",
          "name": "stdout",
          "text": [
            "\n",
            "Test set: Average loss: 0.4167, Accuracy: 201/220 (91.36%)\n",
            "\n",
            "|---- Average Clients Loss: 0.001399370872954973\n",
            "|---- Average Clients Accuracy: 100.00%\n",
            "|---- Server Testing Accuracy: 91.36%\n",
            "\n",
            "Round 98: Finished!\n",
            "\n",
            "---------------------------------\n",
            "\n",
            "Round 99/100: Starting...\n",
            "Send global model to all clients...\n",
            "\n",
            "Updating client 0...\n",
            "Evaluating client 0...\n",
            "Average loss: 0.0019, Accuracy: 100.00%\n",
            "\n",
            "Updating client 1...\n",
            "Evaluating client 1...\n",
            "Average loss: 0.0024, Accuracy: 100.00%\n",
            "\n",
            "Round 99: Evaluating...\n"
          ]
        },
        {
          "output_type": "stream",
          "name": "stderr",
          "text": [
            "\r 99%|█████████▉| 99/100 [1:01:22<00:36, 36.82s/it]"
          ]
        },
        {
          "output_type": "stream",
          "name": "stdout",
          "text": [
            "\n",
            "Test set: Average loss: 0.4176, Accuracy: 202/220 (91.82%)\n",
            "\n",
            "|---- Average Clients Loss: 0.0013710256025787665\n",
            "|---- Average Clients Accuracy: 100.00%\n",
            "|---- Server Testing Accuracy: 91.82%\n",
            "\n",
            "Round 99: Finished!\n",
            "\n",
            "---------------------------------\n",
            "\n",
            "Round 100/100: Starting...\n",
            "Send global model to all clients...\n",
            "\n",
            "Updating client 0...\n",
            "Evaluating client 0...\n",
            "Average loss: 0.0020, Accuracy: 100.00%\n",
            "\n",
            "Updating client 1...\n",
            "Evaluating client 1...\n",
            "Average loss: 0.0025, Accuracy: 100.00%\n",
            "\n",
            "Round 100: Evaluating...\n"
          ]
        },
        {
          "output_type": "stream",
          "name": "stderr",
          "text": [
            "100%|██████████| 100/100 [1:01:59<00:00, 37.20s/it]"
          ]
        },
        {
          "output_type": "stream",
          "name": "stdout",
          "text": [
            "\n",
            "Test set: Average loss: 0.4181, Accuracy: 202/220 (91.82%)\n",
            "\n",
            "|---- Average Clients Loss: 0.0012424998153416514\n",
            "|---- Average Clients Accuracy: 100.00%\n",
            "|---- Server Testing Accuracy: 91.82%\n",
            "\n",
            "Round 100: Finished!\n",
            "\n",
            "---------------------------------\n"
          ]
        },
        {
          "output_type": "stream",
          "name": "stderr",
          "text": [
            "\n"
          ]
        },
        {
          "output_type": "stream",
          "name": "stdout",
          "text": [
            "\n",
            "Test set: Average loss: 0.4181, Accuracy: 202/220 (91.82%)\n",
            "\n",
            " \n",
            " Results after 100 global rounds of training:\n",
            "|---- Testing Accuracy: 91.82%\n",
            "\n",
            "Unlearned Clients:\n",
            "Average loss: 0.0020, Accuracy: 100.00%\n",
            "|---- Unlearned Client - 0 Accuracy: 100.00%\n"
          ]
        },
        {
          "output_type": "display_data",
          "data": {
            "image/png": "[encoded data removed]",
            "text/plain": [
              "<Figure size 432x288 with 2 Axes>"
            ]
          },
          "metadata": {
            "needs_background": "light"
          }
        }
      ]
    },
    {
      "cell_type": "code",
      "metadata": {
        "colab": {
          "base_uri": "https://localhost:8080/"
        },
        "id": "SVRRuF9_5akp",
        "outputId": "9462ce92-7ea1-48cd-a8ad-6332ac71d1a4"
      },
      "source": [
        "df.shape"
      ],
      "execution_count": 170,
      "outputs": [
        {
          "output_type": "execute_result",
          "data": {
            "text/plain": [
              "(1984, 2)"
            ]
          },
          "metadata": {},
          "execution_count": 170
        }
      ]
    }
  ]
}