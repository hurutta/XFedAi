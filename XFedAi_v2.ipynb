{
  "nbformat": 4,
  "nbformat_minor": 0,
  "metadata": {
    "colab": {
      "name": "XFedAi_v2.ipynb",
      "provenance": [],
      "mount_file_id": "1sx5ZpeRUW-HKJ2qP5HKG9JTMW0EHEX3P",
      "authorship_tag": "ABX9TyODEwBSOp2OB0VOXykYVU7P",
      "include_colab_link": true
    },
    "kernelspec": {
      "name": "python3",
      "display_name": "Python 3"
    },
    "language_info": {
      "name": "python"
    }
  },
  "cells": [
    {
      "cell_type": "markdown",
      "metadata": {
        "id": "view-in-github",
        "colab_type": "text"
      },
      "source": [
        "<a href=\"https://colab.research.google.com/github/hurutta/XFedAi/blob/main/XFedAi_v2.ipynb\" target=\"_parent\"><img src=\"https://colab.research.google.com/assets/colab-badge.svg\" alt=\"Open In Colab\"/></a>"
      ]
    },
    {
      "cell_type": "code",
      "metadata": {
        "id": "CcuWEWmLjMdh"
      },
      "source": [
        "import random\n",
        "import numpy as np\n",
        "from tqdm import tqdm\n",
        "import copy\n",
        "import matplotlib.pyplot as plt\n",
        "import time\n",
        "import timeit\n",
        "\n",
        "import torch, torchvision\n",
        "import torch.nn as nn\n",
        "import torch.nn.functional as F\n",
        "import torch.optim as optim\n",
        "from torchvision import datasets, transforms\n",
        "from torch.utils.data import DataLoader\n",
        "from torch.utils.data.dataset import Dataset  \n",
        "from torch.utils.data import TensorDataset"
      ],
      "execution_count": 553,
      "outputs": []
    },
    {
      "cell_type": "code",
      "metadata": {
        "colab": {
          "base_uri": "https://localhost:8080/"
        },
        "id": "L7iEzxw2myqr",
        "outputId": "f4e99507-3cf3-42ac-d76e-c2e309475783"
      },
      "source": [
        "from PIL import Image\n",
        "import numpy as np\n",
        "import sys\n",
        "import os\n",
        "import csv\n",
        "\n",
        "#Useful function\n",
        "def createFileList(myDir, format='.png'):\n",
        "    fileList = []\n",
        "    print(myDir)\n",
        "    for root, dirs, files in os.walk(myDir, topdown=False):\n",
        "        for name in files:\n",
        "            if name.endswith(format):\n",
        "                fullName = os.path.join(root, name)\n",
        "                fileList.append(fullName)\n",
        "    return fileList\n",
        "\n",
        "# load the original image\n",
        "myFileList = createFileList('/content/drive/MyDrive/ML/ct_data_clean/COVID')\n",
        "\n",
        "for file in myFileList:\n",
        "    #print(file)\n",
        "    img_file = Image.open(file)\n",
        "    # img_file.show()\n",
        "\n",
        "    # get original image parameters...\n",
        "    width, height = img_file.size\n",
        "    format = img_file.format\n",
        "    mode = img_file.mode\n",
        "\n",
        "    # Make image Greyscale\n",
        "    img_grey = img_file.convert('L')\n",
        "    #img_grey.save('result.png')\n",
        "    #img_grey.show()\n",
        "\n",
        "    # Save Greyscale values\n",
        "    value = np.asarray(img_grey.getdata(), dtype=np.int).reshape((img_grey.size[1], img_grey.size[0]))\n",
        "    value = value.flatten()\n",
        "    #print(value)\n",
        "    with open(\"img_pixels.csv\", 'a') as f:\n",
        "        writer = csv.writer(f)\n",
        "        writer.writerow(value)"
      ],
      "execution_count": 554,
      "outputs": [
        {
          "output_type": "stream",
          "name": "stdout",
          "text": [
            "/content/drive/MyDrive/ML/ct_data_clean/COVID\n"
          ]
        }
      ]
    },
    {
      "cell_type": "code",
      "metadata": {
        "colab": {
          "base_uri": "https://localhost:8080/"
        },
        "id": "xlNXmsJQopy4",
        "outputId": "74792c9e-e9eb-487f-81e8-b0e48a7ea4d4"
      },
      "source": [
        "import pandas as pd\n",
        "import numpy as np\n",
        "import matplotlib.pyplot as plt\n",
        "\n",
        "import io\n",
        "from google.colab import files\n",
        "img = pd.read_csv('/content/img_pixels.csv')\n",
        "img.shape"
      ],
      "execution_count": 555,
      "outputs": [
        {
          "output_type": "execute_result",
          "data": {
            "text/plain": [
              "(1001, 10000)"
            ]
          },
          "metadata": {},
          "execution_count": 555
        }
      ]
    },
    {
      "cell_type": "code",
      "metadata": {
        "id": "moYUeAbUteXf"
      },
      "source": [
        "x = np.array(img.iloc[0])\n",
        "df = pd.DataFrame({\"pixels\": [x],\"cvd\": 1})"
      ],
      "execution_count": 569,
      "outputs": []
    },
    {
      "cell_type": "code",
      "metadata": {
        "colab": {
          "base_uri": "https://localhost:8080/",
          "height": 80
        },
        "id": "VINCeJb6uhQG",
        "outputId": "194473eb-7b7d-45b6-83ea-1b5d7215a8bc"
      },
      "source": [
        "df"
      ],
      "execution_count": 570,
      "outputs": [
        {
          "output_type": "execute_result",
          "data": {
            "text/html": [
              "<div>\n",
              "<style scoped>\n",
              "    .dataframe tbody tr th:only-of-type {\n",
              "        vertical-align: middle;\n",
              "    }\n",
              "\n",
              "    .dataframe tbody tr th {\n",
              "        vertical-align: top;\n",
              "    }\n",
              "\n",
              "    .dataframe thead th {\n",
              "        text-align: right;\n",
              "    }\n",
              "</style>\n",
              "<table border=\"1\" class=\"dataframe\">\n",
              "  <thead>\n",
              "    <tr style=\"text-align: right;\">\n",
              "      <th></th>\n",
              "      <th>pixels</th>\n",
              "      <th>cvd</th>\n",
              "    </tr>\n",
              "  </thead>\n",
              "  <tbody>\n",
              "    <tr>\n",
              "      <th>0</th>\n",
              "      <td>[68, 68, 68, 68, 68, 69, 69, 68, 182, 200, 188...</td>\n",
              "      <td>1</td>\n",
              "    </tr>\n",
              "  </tbody>\n",
              "</table>\n",
              "</div>"
            ],
            "text/plain": [
              "                                              pixels  cvd\n",
              "0  [68, 68, 68, 68, 68, 69, 69, 68, 182, 200, 188...    1"
            ]
          },
          "metadata": {},
          "execution_count": 570
        }
      ]
    },
    {
      "cell_type": "code",
      "metadata": {
        "id": "xfG-bHF5qzLo"
      },
      "source": [
        "for i in range(1,len(img),1):\n",
        "    x = np.array(img.iloc[i])\n",
        "    dict = {'pixels': x,\"cvd\": 1}\n",
        "    df = df.append(dict, ignore_index = True)\n",
        "    #print(i,x)"
      ],
      "execution_count": 571,
      "outputs": []
    },
    {
      "cell_type": "code",
      "metadata": {
        "id": "9nBhL3ObvEOS"
      },
      "source": [
        "args = {\n",
        "    \"batch_size\" : 64,\n",
        "    \"num_clients\": 2,\n",
        "    \"frac\": 1,\n",
        "    \"ep_local\": 2,\n",
        "    \"bs_local\": 10,\n",
        "    \"epochs\": 2,\n",
        "    \"dataset\": \"CIFAR10\",\n",
        "    \"model\": \"CNN\",\n",
        "    \"iid\": \"iid\",\n",
        "    \n",
        "    # Unlearning params\n",
        "    \"unlearned_clients\": [0], \n",
        "    \"t\": 2, # calibration_interval,\n",
        "    \"r\": 0.5 # local_calibration_epoch_ratio r = Ecali/Eloc\n",
        "    \n",
        "}\n",
        "\n",
        "device = torch.device(\"cuda\" if torch.cuda.is_available() else \"cpu\")"
      ],
      "execution_count": 572,
      "outputs": []
    },
    {
      "cell_type": "code",
      "metadata": {
        "colab": {
          "base_uri": "https://localhost:8080/"
        },
        "id": "SydpXsswvmrU",
        "outputId": "5c4c04aa-0583-4c8d-c41d-d48756d70a94"
      },
      "source": [
        "print(device)"
      ],
      "execution_count": 573,
      "outputs": [
        {
          "output_type": "stream",
          "name": "stdout",
          "text": [
            "cpu\n"
          ]
        }
      ]
    },
    {
      "cell_type": "code",
      "metadata": {
        "colab": {
          "base_uri": "https://localhost:8080/",
          "height": 419
        },
        "id": "IAV-3nS6wXmN",
        "outputId": "3d110fa8-8118-4a5e-cd82-e7f4abd712dc"
      },
      "source": [
        "df"
      ],
      "execution_count": 574,
      "outputs": [
        {
          "output_type": "execute_result",
          "data": {
            "text/html": [
              "<div>\n",
              "<style scoped>\n",
              "    .dataframe tbody tr th:only-of-type {\n",
              "        vertical-align: middle;\n",
              "    }\n",
              "\n",
              "    .dataframe tbody tr th {\n",
              "        vertical-align: top;\n",
              "    }\n",
              "\n",
              "    .dataframe thead th {\n",
              "        text-align: right;\n",
              "    }\n",
              "</style>\n",
              "<table border=\"1\" class=\"dataframe\">\n",
              "  <thead>\n",
              "    <tr style=\"text-align: right;\">\n",
              "      <th></th>\n",
              "      <th>pixels</th>\n",
              "      <th>cvd</th>\n",
              "    </tr>\n",
              "  </thead>\n",
              "  <tbody>\n",
              "    <tr>\n",
              "      <th>0</th>\n",
              "      <td>[68, 68, 68, 68, 68, 69, 69, 68, 182, 200, 188...</td>\n",
              "      <td>1</td>\n",
              "    </tr>\n",
              "    <tr>\n",
              "      <th>1</th>\n",
              "      <td>[205, 205, 206, 204, 207, 207, 205, 204, 206, ...</td>\n",
              "      <td>1</td>\n",
              "    </tr>\n",
              "    <tr>\n",
              "      <th>2</th>\n",
              "      <td>[68, 70, 64, 86, 191, 212, 194, 195, 195, 194,...</td>\n",
              "      <td>1</td>\n",
              "    </tr>\n",
              "    <tr>\n",
              "      <th>3</th>\n",
              "      <td>[136, 202, 198, 190, 193, 194, 192, 192, 196, ...</td>\n",
              "      <td>1</td>\n",
              "    </tr>\n",
              "    <tr>\n",
              "      <th>4</th>\n",
              "      <td>[209, 211, 200, 199, 200, 206, 205, 200, 197, ...</td>\n",
              "      <td>1</td>\n",
              "    </tr>\n",
              "    <tr>\n",
              "      <th>...</th>\n",
              "      <td>...</td>\n",
              "      <td>...</td>\n",
              "    </tr>\n",
              "    <tr>\n",
              "      <th>996</th>\n",
              "      <td>[66, 70, 72, 70, 63, 80, 165, 216, 209, 206, 2...</td>\n",
              "      <td>1</td>\n",
              "    </tr>\n",
              "    <tr>\n",
              "      <th>997</th>\n",
              "      <td>[206, 207, 208, 208, 206, 209, 204, 205, 205, ...</td>\n",
              "      <td>1</td>\n",
              "    </tr>\n",
              "    <tr>\n",
              "      <th>998</th>\n",
              "      <td>[196, 194, 194, 195, 193, 193, 195, 199, 195, ...</td>\n",
              "      <td>1</td>\n",
              "    </tr>\n",
              "    <tr>\n",
              "      <th>999</th>\n",
              "      <td>[73, 66, 117, 209, 212, 204, 206, 205, 208, 21...</td>\n",
              "      <td>1</td>\n",
              "    </tr>\n",
              "    <tr>\n",
              "      <th>1000</th>\n",
              "      <td>[207, 208, 208, 205, 206, 206, 207, 204, 204, ...</td>\n",
              "      <td>1</td>\n",
              "    </tr>\n",
              "  </tbody>\n",
              "</table>\n",
              "<p>1001 rows × 2 columns</p>\n",
              "</div>"
            ],
            "text/plain": [
              "                                                 pixels  cvd\n",
              "0     [68, 68, 68, 68, 68, 69, 69, 68, 182, 200, 188...    1\n",
              "1     [205, 205, 206, 204, 207, 207, 205, 204, 206, ...    1\n",
              "2     [68, 70, 64, 86, 191, 212, 194, 195, 195, 194,...    1\n",
              "3     [136, 202, 198, 190, 193, 194, 192, 192, 196, ...    1\n",
              "4     [209, 211, 200, 199, 200, 206, 205, 200, 197, ...    1\n",
              "...                                                 ...  ...\n",
              "996   [66, 70, 72, 70, 63, 80, 165, 216, 209, 206, 2...    1\n",
              "997   [206, 207, 208, 208, 206, 209, 204, 205, 205, ...    1\n",
              "998   [196, 194, 194, 195, 193, 193, 195, 199, 195, ...    1\n",
              "999   [73, 66, 117, 209, 212, 204, 206, 205, 208, 21...    1\n",
              "1000  [207, 208, 208, 205, 206, 206, 207, 204, 204, ...    1\n",
              "\n",
              "[1001 rows x 2 columns]"
            ]
          },
          "metadata": {},
          "execution_count": 574
        }
      ]
    },
    {
      "cell_type": "code",
      "metadata": {
        "colab": {
          "base_uri": "https://localhost:8080/"
        },
        "id": "8eTZ7lgbw7qA",
        "outputId": "d63df11d-ed86-4b55-a8ce-bec1948d0a9f"
      },
      "source": [
        "from PIL import Image\n",
        "import numpy as np\n",
        "import sys\n",
        "import os\n",
        "import csv\n",
        "\n",
        "#Useful function\n",
        "def createFileList(myDir, format='.png'):\n",
        "    fileList = []\n",
        "    print(myDir)\n",
        "    for root, dirs, files in os.walk(myDir, topdown=False):\n",
        "        for name in files:\n",
        "            if name.endswith(format):\n",
        "                fullName = os.path.join(root, name)\n",
        "                fileList.append(fullName)\n",
        "    return fileList\n",
        "\n",
        "# load the original image\n",
        "myFileList = createFileList('/content/drive/MyDrive/ML/ct_data_clean/non-COVID')\n",
        "\n",
        "for file in myFileList:\n",
        "    #print(file)\n",
        "    img_file = Image.open(file)\n",
        "    # img_file.show()\n",
        "\n",
        "    # get original image parameters...\n",
        "    width, height = img_file.size\n",
        "    format = img_file.format\n",
        "    mode = img_file.mode\n",
        "\n",
        "    # Make image Greyscale\n",
        "    img_grey = img_file.convert('L')\n",
        "    #img_grey.save('result.png')\n",
        "    #img_grey.show()\n",
        "\n",
        "    # Save Greyscale values\n",
        "    value = np.asarray(img_grey.getdata(), dtype=np.int).reshape((img_grey.size[1], img_grey.size[0]))\n",
        "    value = value.flatten()\n",
        "    #print(value)\n",
        "    with open(\"img_pixels2.csv\", 'a') as f:\n",
        "        writer = csv.writer(f)\n",
        "        writer.writerow(value)"
      ],
      "execution_count": 562,
      "outputs": [
        {
          "output_type": "stream",
          "name": "stdout",
          "text": [
            "/content/drive/MyDrive/ML/ct_data_clean/non-COVID\n"
          ]
        }
      ]
    },
    {
      "cell_type": "code",
      "metadata": {
        "colab": {
          "base_uri": "https://localhost:8080/"
        },
        "id": "GcT5qr9GxHpw",
        "outputId": "f2bb62f8-912b-4b6a-fac2-a9c5588c8a8f"
      },
      "source": [
        "import pandas as pd\n",
        "import numpy as np\n",
        "import matplotlib.pyplot as plt\n",
        "\n",
        "import io\n",
        "from google.colab import files\n",
        "img2 = pd.read_csv('/content/img_pixels2.csv')\n",
        "img2.shape"
      ],
      "execution_count": 575,
      "outputs": [
        {
          "output_type": "execute_result",
          "data": {
            "text/plain": [
              "(983, 10000)"
            ]
          },
          "metadata": {},
          "execution_count": 575
        }
      ]
    },
    {
      "cell_type": "code",
      "metadata": {
        "colab": {
          "base_uri": "https://localhost:8080/",
          "height": 419
        },
        "id": "PXz4KW7wxlJ2",
        "outputId": "438a0d02-73d7-4f0f-8471-977e669ceae7"
      },
      "source": [
        "df"
      ],
      "execution_count": 576,
      "outputs": [
        {
          "output_type": "execute_result",
          "data": {
            "text/html": [
              "<div>\n",
              "<style scoped>\n",
              "    .dataframe tbody tr th:only-of-type {\n",
              "        vertical-align: middle;\n",
              "    }\n",
              "\n",
              "    .dataframe tbody tr th {\n",
              "        vertical-align: top;\n",
              "    }\n",
              "\n",
              "    .dataframe thead th {\n",
              "        text-align: right;\n",
              "    }\n",
              "</style>\n",
              "<table border=\"1\" class=\"dataframe\">\n",
              "  <thead>\n",
              "    <tr style=\"text-align: right;\">\n",
              "      <th></th>\n",
              "      <th>pixels</th>\n",
              "      <th>cvd</th>\n",
              "    </tr>\n",
              "  </thead>\n",
              "  <tbody>\n",
              "    <tr>\n",
              "      <th>0</th>\n",
              "      <td>[68, 68, 68, 68, 68, 69, 69, 68, 182, 200, 188...</td>\n",
              "      <td>1</td>\n",
              "    </tr>\n",
              "    <tr>\n",
              "      <th>1</th>\n",
              "      <td>[205, 205, 206, 204, 207, 207, 205, 204, 206, ...</td>\n",
              "      <td>1</td>\n",
              "    </tr>\n",
              "    <tr>\n",
              "      <th>2</th>\n",
              "      <td>[68, 70, 64, 86, 191, 212, 194, 195, 195, 194,...</td>\n",
              "      <td>1</td>\n",
              "    </tr>\n",
              "    <tr>\n",
              "      <th>3</th>\n",
              "      <td>[136, 202, 198, 190, 193, 194, 192, 192, 196, ...</td>\n",
              "      <td>1</td>\n",
              "    </tr>\n",
              "    <tr>\n",
              "      <th>4</th>\n",
              "      <td>[209, 211, 200, 199, 200, 206, 205, 200, 197, ...</td>\n",
              "      <td>1</td>\n",
              "    </tr>\n",
              "    <tr>\n",
              "      <th>...</th>\n",
              "      <td>...</td>\n",
              "      <td>...</td>\n",
              "    </tr>\n",
              "    <tr>\n",
              "      <th>996</th>\n",
              "      <td>[66, 70, 72, 70, 63, 80, 165, 216, 209, 206, 2...</td>\n",
              "      <td>1</td>\n",
              "    </tr>\n",
              "    <tr>\n",
              "      <th>997</th>\n",
              "      <td>[206, 207, 208, 208, 206, 209, 204, 205, 205, ...</td>\n",
              "      <td>1</td>\n",
              "    </tr>\n",
              "    <tr>\n",
              "      <th>998</th>\n",
              "      <td>[196, 194, 194, 195, 193, 193, 195, 199, 195, ...</td>\n",
              "      <td>1</td>\n",
              "    </tr>\n",
              "    <tr>\n",
              "      <th>999</th>\n",
              "      <td>[73, 66, 117, 209, 212, 204, 206, 205, 208, 21...</td>\n",
              "      <td>1</td>\n",
              "    </tr>\n",
              "    <tr>\n",
              "      <th>1000</th>\n",
              "      <td>[207, 208, 208, 205, 206, 206, 207, 204, 204, ...</td>\n",
              "      <td>1</td>\n",
              "    </tr>\n",
              "  </tbody>\n",
              "</table>\n",
              "<p>1001 rows × 2 columns</p>\n",
              "</div>"
            ],
            "text/plain": [
              "                                                 pixels  cvd\n",
              "0     [68, 68, 68, 68, 68, 69, 69, 68, 182, 200, 188...    1\n",
              "1     [205, 205, 206, 204, 207, 207, 205, 204, 206, ...    1\n",
              "2     [68, 70, 64, 86, 191, 212, 194, 195, 195, 194,...    1\n",
              "3     [136, 202, 198, 190, 193, 194, 192, 192, 196, ...    1\n",
              "4     [209, 211, 200, 199, 200, 206, 205, 200, 197, ...    1\n",
              "...                                                 ...  ...\n",
              "996   [66, 70, 72, 70, 63, 80, 165, 216, 209, 206, 2...    1\n",
              "997   [206, 207, 208, 208, 206, 209, 204, 205, 205, ...    1\n",
              "998   [196, 194, 194, 195, 193, 193, 195, 199, 195, ...    1\n",
              "999   [73, 66, 117, 209, 212, 204, 206, 205, 208, 21...    1\n",
              "1000  [207, 208, 208, 205, 206, 206, 207, 204, 204, ...    1\n",
              "\n",
              "[1001 rows x 2 columns]"
            ]
          },
          "metadata": {},
          "execution_count": 576
        }
      ]
    },
    {
      "cell_type": "code",
      "metadata": {
        "id": "9AA9rl5axUYq"
      },
      "source": [
        "for i in range(0,len(img2),1):\n",
        "    x = np.array(img2.iloc[i])\n",
        "    dict = {'pixels': x,\"cvd\": 0}\n",
        "    df = df.append(dict, ignore_index = True)\n",
        "    #print(i,x)"
      ],
      "execution_count": 577,
      "outputs": []
    },
    {
      "cell_type": "code",
      "metadata": {
        "colab": {
          "base_uri": "https://localhost:8080/"
        },
        "id": "X03l4sDlE_KA",
        "outputId": "8d228cdd-0850-409f-ba8d-b78f1bbdaa5b"
      },
      "source": [
        "df.shape"
      ],
      "execution_count": 578,
      "outputs": [
        {
          "output_type": "execute_result",
          "data": {
            "text/plain": [
              "(1984, 2)"
            ]
          },
          "metadata": {},
          "execution_count": 578
        }
      ]
    },
    {
      "cell_type": "code",
      "metadata": {
        "id": "OIHqrFRrzA3P"
      },
      "source": [
        "df = df.sample(frac=1).reset_index(drop=True)\n",
        "df1=df.iloc[0:1544]\n",
        "df2=df.iloc[1544:1764]\n",
        "df3=df.iloc[1764:1984]"
      ],
      "execution_count": 579,
      "outputs": []
    },
    {
      "cell_type": "code",
      "metadata": {
        "colab": {
          "base_uri": "https://localhost:8080/"
        },
        "id": "AioBE2nxn2KQ",
        "outputId": "171072e6-df02-47e8-a590-c8d7c187d139"
      },
      "source": [
        "df1.shape"
      ],
      "execution_count": 586,
      "outputs": [
        {
          "output_type": "execute_result",
          "data": {
            "text/plain": [
              "(1544, 2)"
            ]
          },
          "metadata": {},
          "execution_count": 586
        }
      ]
    },
    {
      "cell_type": "code",
      "metadata": {
        "id": "PPIBbkdvzGi1"
      },
      "source": [
        "def prepare_data(data):\n",
        "    \"\"\" Prepare data for modeling \n",
        "        input: data frame with labels und pixel data\n",
        "        output: image and label array \"\"\"\n",
        "    \n",
        "    image_array = np.zeros(shape=(len(data), 100, 100))\n",
        "    image_label = np.array(list(map(int, data['cvd'])))\n",
        "\n",
        "    for i, row in enumerate(data.index):\n",
        "        image = data.loc[row, 'pixels']\n",
        "        image = np.reshape(image, (100, 100))\n",
        "        image_array[i] = image\n",
        "        \n",
        "    return image_array, image_label"
      ],
      "execution_count": 587,
      "outputs": []
    },
    {
      "cell_type": "code",
      "metadata": {
        "colab": {
          "base_uri": "https://localhost:8080/"
        },
        "id": "VjGezdG-zXvL",
        "outputId": "c2e4c492-60f6-4f66-f9d9-956cc1c77391"
      },
      "source": [
        "df3['cvd'].value_counts()"
      ],
      "execution_count": 593,
      "outputs": [
        {
          "output_type": "execute_result",
          "data": {
            "text/plain": [
              "1    115\n",
              "0    105\n",
              "Name: cvd, dtype: int64"
            ]
          },
          "metadata": {},
          "execution_count": 593
        }
      ]
    },
    {
      "cell_type": "code",
      "metadata": {
        "colab": {
          "base_uri": "https://localhost:8080/"
        },
        "id": "nRsfamHdzegB",
        "outputId": "f2024983-8712-4468-94ac-0c9e2389700e"
      },
      "source": [
        "status = {0: 'no_covid', 1: 'covid'}\n",
        "print(df.shape)\n",
        "train_image_array, train_image_label = prepare_data(df1)\n",
        "val_image_array, val_image_label = prepare_data(df2)\n",
        "test_image_array, test_image_label = prepare_data(df3)"
      ],
      "execution_count": 594,
      "outputs": [
        {
          "output_type": "stream",
          "name": "stdout",
          "text": [
            "(1984, 2)\n"
          ]
        }
      ]
    },
    {
      "cell_type": "code",
      "metadata": {
        "colab": {
          "base_uri": "https://localhost:8080/"
        },
        "id": "TBp1Zz-Ba5EW",
        "outputId": "48437939-8b3e-481e-cf9d-7bafcc23b0e6"
      },
      "source": [
        "train_image_array[0]"
      ],
      "execution_count": 595,
      "outputs": [
        {
          "output_type": "execute_result",
          "data": {
            "text/plain": [
              "array([[202., 203., 206., ..., 204., 204., 204.],\n",
              "       [202., 203., 206., ..., 204., 204., 205.],\n",
              "       [205., 205., 207., ..., 204., 204., 205.],\n",
              "       ...,\n",
              "       [210., 206., 206., ..., 208., 208., 208.],\n",
              "       [217., 210., 207., ..., 207., 207., 206.],\n",
              "       [227., 223., 217., ..., 208., 208., 209.]])"
            ]
          },
          "metadata": {},
          "execution_count": 595
        }
      ]
    },
    {
      "cell_type": "code",
      "metadata": {
        "id": "G6PY68wFeOto"
      },
      "source": [
        "#reshape and scale\n",
        "train_images = train_image_array.reshape((train_image_array.shape[0], 1, 100, 100))\n",
        "train_images = train_images.astype('float32')/255\n",
        "val_images = val_image_array.reshape((val_image_array.shape[0], 1, 100, 100))\n",
        "val_images = val_images.astype('float32')/255\n",
        "test_images = test_image_array.reshape((test_image_array.shape[0], 1, 100, 100))\n",
        "test_images = test_images.astype('float32')/255"
      ],
      "execution_count": 596,
      "outputs": []
    },
    {
      "cell_type": "code",
      "metadata": {
        "colab": {
          "base_uri": "https://localhost:8080/"
        },
        "id": "T7pgCLyDeyCT",
        "outputId": "e5043a4d-54e8-44be-b358-f03c81c2ad90"
      },
      "source": [
        "train_images[0]"
      ],
      "execution_count": 597,
      "outputs": [
        {
          "output_type": "execute_result",
          "data": {
            "text/plain": [
              "array([[[0.7921569 , 0.79607844, 0.80784315, ..., 0.8       ,\n",
              "         0.8       , 0.8       ],\n",
              "        [0.7921569 , 0.79607844, 0.80784315, ..., 0.8       ,\n",
              "         0.8       , 0.8039216 ],\n",
              "        [0.8039216 , 0.8039216 , 0.8117647 , ..., 0.8       ,\n",
              "         0.8       , 0.8039216 ],\n",
              "        ...,\n",
              "        [0.8235294 , 0.80784315, 0.80784315, ..., 0.8156863 ,\n",
              "         0.8156863 , 0.8156863 ],\n",
              "        [0.8509804 , 0.8235294 , 0.8117647 , ..., 0.8117647 ,\n",
              "         0.8117647 , 0.80784315],\n",
              "        [0.8901961 , 0.8745098 , 0.8509804 , ..., 0.8156863 ,\n",
              "         0.8156863 , 0.81960785]]], dtype=float32)"
            ]
          },
          "metadata": {},
          "execution_count": 597
        }
      ]
    },
    {
      "cell_type": "code",
      "metadata": {
        "colab": {
          "base_uri": "https://localhost:8080/"
        },
        "id": "r2-sCKJVfCYn",
        "outputId": "d6a39fdc-988d-463a-855a-ed1c62f9a798"
      },
      "source": [
        "print(type(train_images))\n",
        "train_image_label.shape"
      ],
      "execution_count": 598,
      "outputs": [
        {
          "output_type": "stream",
          "name": "stdout",
          "text": [
            "<class 'numpy.ndarray'>\n"
          ]
        },
        {
          "output_type": "execute_result",
          "data": {
            "text/plain": [
              "(1544,)"
            ]
          },
          "metadata": {},
          "execution_count": 598
        }
      ]
    },
    {
      "cell_type": "code",
      "metadata": {
        "id": "HUIEe1t5fIBZ"
      },
      "source": [
        "train_labels = train_image_label\n",
        "val_labels = val_image_label\n",
        "test_labels = test_image_label"
      ],
      "execution_count": 599,
      "outputs": []
    },
    {
      "cell_type": "code",
      "metadata": {
        "colab": {
          "base_uri": "https://localhost:8080/"
        },
        "id": "tMqUi2qnp1vv",
        "outputId": "8a840130-2125-4d89-cd20-a255294ad022"
      },
      "source": [
        "test_labels"
      ],
      "execution_count": 600,
      "outputs": [
        {
          "output_type": "execute_result",
          "data": {
            "text/plain": [
              "array([0, 1, 1, 1, 0, 1, 1, 0, 0, 0, 0, 0, 0, 0, 1, 1, 0, 1, 0, 1, 1, 1,\n",
              "       0, 1, 0, 0, 0, 1, 1, 1, 0, 1, 0, 0, 0, 1, 0, 1, 1, 1, 1, 0, 0, 1,\n",
              "       1, 1, 0, 1, 0, 1, 0, 1, 0, 0, 1, 0, 0, 1, 0, 0, 1, 0, 1, 0, 1, 1,\n",
              "       1, 0, 1, 0, 1, 1, 0, 0, 0, 1, 1, 1, 0, 1, 0, 1, 0, 0, 0, 0, 1, 0,\n",
              "       0, 0, 1, 1, 1, 0, 1, 1, 0, 1, 0, 1, 0, 1, 1, 0, 1, 0, 0, 1, 1, 0,\n",
              "       1, 1, 1, 0, 1, 1, 1, 0, 0, 1, 1, 0, 1, 0, 0, 0, 1, 1, 0, 0, 1, 0,\n",
              "       1, 0, 1, 0, 0, 1, 1, 0, 0, 1, 1, 1, 0, 0, 0, 0, 0, 0, 1, 1, 1, 1,\n",
              "       1, 1, 1, 1, 0, 1, 0, 1, 1, 0, 1, 1, 0, 1, 1, 1, 0, 1, 1, 0, 0, 0,\n",
              "       1, 1, 1, 1, 0, 1, 0, 0, 1, 0, 1, 0, 0, 0, 0, 1, 0, 0, 1, 0, 1, 1,\n",
              "       1, 1, 1, 0, 0, 1, 0, 0, 1, 1, 1, 0, 0, 1, 1, 1, 0, 1, 0, 0, 0, 1])"
            ]
          },
          "metadata": {},
          "execution_count": 600
        }
      ]
    },
    {
      "cell_type": "code",
      "metadata": {
        "id": "fDupzfQVfZZd"
      },
      "source": [
        "#Convert to tensor\n",
        "train_images = torch.from_numpy(train_images)\n",
        "train_labels = torch.from_numpy(train_labels)\n",
        "val_images = torch.from_numpy(val_images)\n",
        "val_labels = torch.from_numpy(val_labels)\n",
        "test_images = torch.from_numpy(test_images)\n",
        "test_labels = torch.from_numpy(test_labels)"
      ],
      "execution_count": 601,
      "outputs": []
    },
    {
      "cell_type": "code",
      "metadata": {
        "colab": {
          "base_uri": "https://localhost:8080/"
        },
        "id": "p6lfsTAHfjXb",
        "outputId": "8a563de7-c29e-4619-8c1e-8d8ebfa6da7f"
      },
      "source": [
        "#type(train_images)\n",
        "#train_labels[1]\n",
        "train_labels"
      ],
      "execution_count": 602,
      "outputs": [
        {
          "output_type": "execute_result",
          "data": {
            "text/plain": [
              "tensor([1, 0, 1,  ..., 0, 1, 1])"
            ]
          },
          "metadata": {},
          "execution_count": 602
        }
      ]
    },
    {
      "cell_type": "code",
      "metadata": {
        "id": "rr94-PdbgeUa"
      },
      "source": [
        "# to dataset\n",
        "dataset_train = TensorDataset(train_images, train_labels)\n",
        "dataset_val = TensorDataset(val_images, val_labels)\n",
        "dataset_test = TensorDataset(test_images, test_labels)"
      ],
      "execution_count": 603,
      "outputs": []
    },
    {
      "cell_type": "code",
      "metadata": {
        "colab": {
          "base_uri": "https://localhost:8080/"
        },
        "id": "na-im5dzglTD",
        "outputId": "0056bfb8-ba27-405d-cde5-a5b9b422a910"
      },
      "source": [
        "type(dataset_train)"
      ],
      "execution_count": 604,
      "outputs": [
        {
          "output_type": "execute_result",
          "data": {
            "text/plain": [
              "torch.utils.data.dataset.TensorDataset"
            ]
          },
          "metadata": {},
          "execution_count": 604
        }
      ]
    },
    {
      "cell_type": "code",
      "metadata": {
        "id": "hk6KaxE1gqp7"
      },
      "source": [
        "train_loader = torch.utils.data.DataLoader(dataset_train, batch_size=args[\"batch_size\"], shuffle=True)\n",
        "test_loader = torch.utils.data.DataLoader(dataset_test, batch_size=args[\"batch_size\"], shuffle=True)\n",
        "val_loader = torch.utils.data.DataLoader(dataset_val, batch_size=args[\"batch_size\"], shuffle=True)"
      ],
      "execution_count": 605,
      "outputs": []
    },
    {
      "cell_type": "code",
      "metadata": {
        "colab": {
          "base_uri": "https://localhost:8080/"
        },
        "id": "zPnRU8_cg7RQ",
        "outputId": "d4b4ab66-8033-4933-e0d9-d0885e28ba31"
      },
      "source": [
        "print(train_loader)"
      ],
      "execution_count": 606,
      "outputs": [
        {
          "output_type": "stream",
          "name": "stdout",
          "text": [
            "<torch.utils.data.dataloader.DataLoader object at 0x7f0247c82a10>\n"
          ]
        }
      ]
    },
    {
      "cell_type": "code",
      "metadata": {
        "colab": {
          "base_uri": "https://localhost:8080/"
        },
        "id": "7Ks4JpHKhJi8",
        "outputId": "7d1ed78e-edb7-4022-cc00-68a8add34f80"
      },
      "source": [
        "c=0\n",
        "i=1\n",
        "for x, y in train_loader:\n",
        "    print(i,x.shape, y.shape)\n",
        "    c+=64\n",
        "    i+=1\n",
        "print(c)"
      ],
      "execution_count": 608,
      "outputs": [
        {
          "output_type": "stream",
          "name": "stdout",
          "text": [
            "1 torch.Size([64, 1, 100, 100]) torch.Size([64])\n",
            "2 torch.Size([64, 1, 100, 100]) torch.Size([64])\n",
            "3 torch.Size([64, 1, 100, 100]) torch.Size([64])\n",
            "4 torch.Size([64, 1, 100, 100]) torch.Size([64])\n",
            "5 torch.Size([64, 1, 100, 100]) torch.Size([64])\n",
            "6 torch.Size([64, 1, 100, 100]) torch.Size([64])\n",
            "7 torch.Size([64, 1, 100, 100]) torch.Size([64])\n",
            "8 torch.Size([64, 1, 100, 100]) torch.Size([64])\n",
            "9 torch.Size([64, 1, 100, 100]) torch.Size([64])\n",
            "10 torch.Size([64, 1, 100, 100]) torch.Size([64])\n",
            "11 torch.Size([64, 1, 100, 100]) torch.Size([64])\n",
            "12 torch.Size([64, 1, 100, 100]) torch.Size([64])\n",
            "13 torch.Size([64, 1, 100, 100]) torch.Size([64])\n",
            "14 torch.Size([64, 1, 100, 100]) torch.Size([64])\n",
            "15 torch.Size([64, 1, 100, 100]) torch.Size([64])\n",
            "16 torch.Size([64, 1, 100, 100]) torch.Size([64])\n",
            "17 torch.Size([64, 1, 100, 100]) torch.Size([64])\n",
            "18 torch.Size([64, 1, 100, 100]) torch.Size([64])\n",
            "19 torch.Size([64, 1, 100, 100]) torch.Size([64])\n",
            "20 torch.Size([64, 1, 100, 100]) torch.Size([64])\n",
            "21 torch.Size([64, 1, 100, 100]) torch.Size([64])\n",
            "22 torch.Size([64, 1, 100, 100]) torch.Size([64])\n",
            "23 torch.Size([64, 1, 100, 100]) torch.Size([64])\n",
            "24 torch.Size([64, 1, 100, 100]) torch.Size([64])\n",
            "25 torch.Size([8, 1, 100, 100]) torch.Size([8])\n",
            "1600\n"
          ]
        }
      ]
    },
    {
      "cell_type": "code",
      "metadata": {
        "id": "dwfSlxRGjnBv"
      },
      "source": [
        "# Model\n",
        "class Net(nn.Module):\n",
        "    def __init__(self):\n",
        "        super(Net, self).__init__()\n",
        "        self.conv1 = nn.Conv2d(1, 32, 3, 1)\n",
        "        self.conv2 = nn.Conv2d(32, 64, 3, 1)\n",
        "        self.fc1 = nn.Linear(64*23*23, 64)\n",
        "        self.fc2 = nn.Linear(64, 2)\n",
        "\n",
        "    def forward(self, x):\n",
        "        x = self.conv1(x)\n",
        "        x = F.relu(x)\n",
        "        x = F.max_pool2d(x, 2)\n",
        "        x = self.conv2(x)\n",
        "        x = F.relu(x)\n",
        "        x = F.max_pool2d(x, 2)\n",
        "        x = torch.flatten(x, 1)\n",
        "        x = self.fc1(x)\n",
        "        x = F.relu(x)\n",
        "        x = self.fc2(x)\n",
        "        output = F.log_softmax(x, dim=1)\n",
        "        return output"
      ],
      "execution_count": 611,
      "outputs": []
    },
    {
      "cell_type": "code",
      "metadata": {
        "colab": {
          "base_uri": "https://localhost:8080/"
        },
        "id": "ZKYTSeBojtlI",
        "outputId": "8f2443f7-856a-4c4a-ffaf-c3cdbf826cb2"
      },
      "source": [
        "for images, y in val_loader:\n",
        "    #print(x.shape, y.shape)\n",
        "    break\n",
        "conv1 = nn.Conv2d(1, 32, 3)             \n",
        "conv2 = nn.Conv2d(32, 64, 3)\n",
        "pool = nn.MaxPool2d(2, 2)\n",
        "print(images.shape)\n",
        "x = conv1(images)\n",
        "print(x.shape)\n",
        "x = pool(x)\n",
        "print(x.shape)\n",
        "x = conv2(x)\n",
        "print(x.shape)\n",
        "x = pool(x)\n",
        "print(x.shape)"
      ],
      "execution_count": 612,
      "outputs": [
        {
          "output_type": "stream",
          "name": "stdout",
          "text": [
            "torch.Size([64, 1, 100, 100])\n",
            "torch.Size([64, 32, 98, 98])\n",
            "torch.Size([64, 32, 49, 49])\n",
            "torch.Size([64, 64, 47, 47])\n",
            "torch.Size([64, 64, 23, 23])\n"
          ]
        }
      ]
    },
    {
      "cell_type": "code",
      "metadata": {
        "colab": {
          "base_uri": "https://localhost:8080/"
        },
        "id": "Zhs7SE6t2Ybh",
        "outputId": "2756ed70-4a4e-466a-b526-d93ee32ed7a6"
      },
      "source": [
        "print(images.shape)                 #10x33856 and 6400x64)\n",
        "#torch.Size([64, 1, 100, 100]) batch size, color channel, size"
      ],
      "execution_count": 613,
      "outputs": [
        {
          "output_type": "stream",
          "name": "stdout",
          "text": [
            "torch.Size([64, 1, 100, 100])\n"
          ]
        }
      ]
    },
    {
      "cell_type": "code",
      "metadata": {
        "id": "4ahcIVO5q1FN"
      },
      "source": [
        "class DatasetSplit(Dataset):\n",
        "    def __init__(self, dataset_train, idxs):\n",
        "        self.dataset_train = dataset_train\n",
        "        self.idxs = list(idxs)\n",
        "\n",
        "    def __len__(self):\n",
        "        return len(self.idxs)\n",
        "\n",
        "    def __getitem__(self, item):\n",
        "        image, label = self.dataset_train[self.idxs[item]]\n",
        "        return image, label"
      ],
      "execution_count": 614,
      "outputs": []
    },
    {
      "cell_type": "code",
      "metadata": {
        "id": "MBK92R7Yq4rH"
      },
      "source": [
        "# Distribute data - IID\n",
        "num_items = int(len(dataset_train)/args[\"num_clients\"])\n",
        "dict_users, all_idxs = {}, [i for i in range(len(dataset_train))]\n",
        "for i in range(args[\"num_clients\"]):\n",
        "    dict_users[i] = set(np.random.choice(all_idxs, num_items, replace=False))\n",
        "    all_idxs = list(set(all_idxs) - dict_users[i])\n",
        "\n",
        "local_datasets = []\n",
        "for i in range(args[\"num_clients\"]):\n",
        "    local_datasets.append(DataLoader(DatasetSplit(dataset_train, dict_users[i]),\n",
        "                                 batch_size=args[\"bs_local\"], shuffle=True))"
      ],
      "execution_count": 615,
      "outputs": []
    },
    {
      "cell_type": "code",
      "metadata": {
        "colab": {
          "base_uri": "https://localhost:8080/"
        },
        "id": "WJQYtmAurDnT",
        "outputId": "cda79af1-2dd5-41d4-ba9a-e048e701a191"
      },
      "source": [
        "len(local_datasets[0])"
      ],
      "execution_count": 618,
      "outputs": [
        {
          "output_type": "execute_result",
          "data": {
            "text/plain": [
              "78"
            ]
          },
          "metadata": {},
          "execution_count": 618
        }
      ]
    },
    {
      "cell_type": "code",
      "metadata": {
        "id": "gipB41gzrbCQ"
      },
      "source": [
        "class Client:\n",
        "    num_clients = 0\n",
        "    def __init__(self, data):\n",
        "        self.id = Client.num_clients\n",
        "        self.dataloader = data\n",
        "        self.__model = None\n",
        "        self.model_record = []\n",
        "        self.device = device\n",
        "        self.unlearned = False\n",
        "        Client.num_clients += 1\n",
        "        \n",
        "        \n",
        "    def setup(self, args):\n",
        "        self.local_epoch = args[\"ep_local\"]\n",
        "        \n",
        "        \n",
        "    @property\n",
        "    def unlearned(self):\n",
        "        return self.__unlearned\n",
        "    \n",
        "    \n",
        "    @unlearned.setter\n",
        "    def unlearned(self, unlearned):\n",
        "        self.__unlearned = unlearned\n",
        "        \n",
        "        \n",
        "    @property\n",
        "    def model(self):\n",
        "        return self.__model\n",
        "    \n",
        "    \n",
        "    @model.setter\n",
        "    def model(self, model):\n",
        "        self.__model = model\n",
        "        \n",
        "        \n",
        "    def client_update(self):\n",
        "        self.model.train()\n",
        "        self.model.to(self.device)\n",
        "\n",
        "        optimizer = optim.SGD(self.model.parameters(), lr=0.01)\n",
        "        epoch_loss = []\n",
        "        \n",
        "        for epoch in range(self.local_epoch):\n",
        "            batch_loss = []\n",
        "            \n",
        "            for batch_idx, (data, labels) in enumerate(self.dataloader):\n",
        "                data, labels = data.to(self.device), labels.long().to(self.device)\n",
        "                 \n",
        "                self.model.zero_grad()\n",
        "                outputs = self.model(data)\n",
        "                loss = F.nll_loss(outputs, labels)\n",
        "\n",
        "                loss.backward()\n",
        "                optimizer.step() \n",
        "\n",
        "                batch_loss.append(loss.item())\n",
        "            \n",
        "            #print(f\"Train Epoch: {epoch} \\tLoss: {loss.item():.6f}\")\n",
        "            epoch_loss.append(sum(batch_loss)/len(batch_loss))\n",
        "\n",
        "        #return self.model.state_dict(), sum(epoch_loss) / len(epoch_loss)\n",
        "        return self.model, sum(epoch_loss) / len(epoch_loss)\n",
        "    \n",
        "    \n",
        "    def client_test(self):\n",
        "        self.model.eval()\n",
        "        self.model.to(self.device)\n",
        "        test_loss, correct = 0, 0\n",
        "        with torch.no_grad():\n",
        "            for data, labels in self.dataloader:\n",
        "                data, labels = data.to(self.device), labels.to(self.device)\n",
        "                outputs = self.model(data)\n",
        "                test_loss += F.nll_loss(outputs, labels, reduction='sum').item()\n",
        "                predicted = outputs.argmax(dim=1, keepdim=True)\n",
        "                correct += predicted.eq(labels.data.view_as(predicted)).long().cpu().sum()\n",
        "\n",
        "\n",
        "        test_loss /= len(self.dataloader.dataset)\n",
        "        test_accuracy = correct / len(self.dataloader.dataset)\n",
        "\n",
        "        print(f\"Average loss: {test_loss:.4f}, Accuracy: {100. * test_accuracy:.2f}%\")\n",
        "\n",
        "        return test_accuracy, test_loss"
      ],
      "execution_count": 619,
      "outputs": []
    },
    {
      "cell_type": "code",
      "metadata": {
        "id": "6a3pdut6rlBE"
      },
      "source": [
        "class Server:\n",
        "    def __init__(self):\n",
        "        self.round = 0\n",
        "        self.model = Net().to(device)\n",
        "        self.w_glob = None\n",
        "        self.device = device\n",
        "        \n",
        "        self.history = {\n",
        "            \"train_loss\": [], \n",
        "            \"test_loss\": [], \n",
        "            \"train_acc\": [],\n",
        "            \"test_acc\": []\n",
        "        }\n",
        "        \n",
        "        \n",
        "    def setup(self, args):\n",
        "        self.train_loader = train_loader\n",
        "        self.test_loader = test_loader\n",
        "        \n",
        "        self.num_clients = args[\"num_clients\"]\n",
        "        self.num_rounds = args[\"epochs\"]\n",
        "        self.local_epochs = args[\"ep_local\"]\n",
        "        self.batch_size = args[\"batch_size\"]\n",
        "        self.clients = args[\"clients\"]\n",
        "        self.unlearned_clients = args[\"unlearned_clients\"]\n",
        "        \n",
        "        self.local_model_record = [[] for i in range(self.num_clients)]\n",
        "        self.global_model_record = []\n",
        "        \n",
        "        \n",
        "    def fedAvg(self, w):\n",
        "        w_avg = copy.deepcopy(w[0])\n",
        "        for k in w_avg.keys():\n",
        "            for i in range(1, len(w)):\n",
        "                w_avg[k] += w[i][k]\n",
        "            w_avg[k] = torch.div(w_avg[k], len(w))\n",
        "        self.model\n",
        "        return w_avg\n",
        "    \n",
        "    \n",
        "    def send_global_model(self):\n",
        "        for client in self.clients:\n",
        "            #client.w_local = copy.deepcopy(self.w_glob)\n",
        "            client.model = copy.deepcopy(self.model)\n",
        "            client.model_record.append(client.model)\n",
        "        \n",
        "        \n",
        "    def train_global_model(self):\n",
        "        w_locals = [self.w_glob for i in range(self.num_clients)]\n",
        "        loss_locals = [0 for i in range(self.num_clients)]\n",
        "        \n",
        "        # Send global model to clients\n",
        "        self.send_global_model()\n",
        "        print(\"Send global model to all clients...\")\n",
        "        \n",
        "        # Train local model\n",
        "        acc_test_clients, loss_test_clients = [], []\n",
        "        for id, client in enumerate(self.clients):\n",
        "            print(f\"\\nUpdating client {id}...\")\n",
        "            local_model, loss_train_client = client.client_update()\n",
        "            \n",
        "            # Save local models\n",
        "            self.local_model_record[id].append(local_model)\n",
        "            w_locals.append(local_model.state_dict())\n",
        "            #print(w_locals)\n",
        "            loss_locals.append(loss_train_client)\n",
        "            \n",
        "            print(f\"Evaluating client {id}...\")\n",
        "            acc_test_client, loss_test_client = client.client_test()\n",
        "            acc_test_clients.append(acc_test_client)\n",
        "            loss_test_clients.append(loss_test_client)\n",
        "            \n",
        "            \n",
        "        # Fed Aggregation\n",
        "        w_glob = self.fedAvg(w_locals)\n",
        "            \n",
        "        # Update global model\n",
        "        self.model.load_state_dict(w_glob)\n",
        "            \n",
        "        return acc_test_clients, loss_locals\n",
        "    \n",
        "    \n",
        "    def federated_learning(self):\n",
        "        self.model.train()\n",
        "        self.w_glob = self.model.state_dict()\n",
        "        \n",
        "        print(\"\\tFederated Learning:\")\n",
        "        for round in tqdm(range(self.num_rounds)):\n",
        "            self.round = round + 1\n",
        "            print(f\"\\nRound {self.round}/{self.num_rounds}: Starting...\")\n",
        "            acc_train_clients, loss_train_clients = self.train_global_model()\n",
        "            self.history[\"train_acc\"].append(100*sum(acc_train_clients)/len(acc_train_clients))\n",
        "            self.history[\"train_loss\"].append(sum(loss_train_clients)/len(loss_train_clients))\n",
        "            \n",
        "            print(f\"\\nRound {self.round}: Evaluating...\")\n",
        "            # Save test accuracy and loss\n",
        "            acc_test_server, loss_test_server = self.test_global_model()\n",
        "            self.history[\"test_acc\"].append(acc_test_server)\n",
        "            self.history[\"test_loss\"].append(loss_test_server)\n",
        "            \n",
        "            print(f\"|---- Average Clients Loss: {sum(loss_train_clients) / len(loss_train_clients)}\")\n",
        "            print(f\"|---- Average Clients Accuracy: {100*sum(acc_train_clients)/len(acc_train_clients):.2f}%\")\n",
        "            print(f\"|---- Server Testing Accuracy: {acc_test_server:.2f}%\")\n",
        "            \n",
        "            print(f\"\\nRound {self.round}: Finished!\\n\")\n",
        "            print(f\"---------------------------------\")\n",
        "            \n",
        "        self.show_result()\n",
        "        self.plot(self.history)\n",
        "        \n",
        "        \n",
        "    def show_result(self):\n",
        "        # Testing data\n",
        "        acc_test_server, loss_test_server = self.test_global_model()\n",
        "        print(f' \\n Results after {self.num_rounds} global rounds of training:')\n",
        "        print(f\"|---- Testing Accuracy: {acc_test_server:.2f}%\")\n",
        "\n",
        "        # Unlearned client\n",
        "        print(f\"\\nUnlearned Clients:\")\n",
        "        for i in self.unlearned_clients:\n",
        "            acc_test, loss_test = self.clients[i].client_test()\n",
        "            print(f\"|---- Unlearned Client - {i} Accuracy: {100*acc_test:.2f}%\")\n",
        "            \n",
        "            \n",
        "    def plot(self, history):\n",
        "        fig, axs = plt.subplots(2, 1)\n",
        "        axs[0].plot(history[\"train_loss\"], color=\"b\", label=\"Training Loss\")\n",
        "        axs[0].plot(history[\"test_loss\"], color='r', label=\"Testing Loss\")\n",
        "        legend = axs[0].legend(loc=\"best\", shadow=True)\n",
        "        axs[0].set_xlabel(\"Communication Rounds\")\n",
        "        axs[0].set_ylabel(\"Loss\")\n",
        "        \n",
        "        axs[1].plot(history[\"train_acc\"], color=\"b\", label=\"Training Accuracy\")\n",
        "        axs[1].plot(history[\"test_acc\"], color='r', label=\"Testing Accuracy\")\n",
        "        legend = axs[1].legend(loc=\"best\", shadow=True)\n",
        "        axs[1].set_xlabel(\"Communication Rounds\")\n",
        "        axs[1].set_ylabel(\"Accuracy\")\n",
        "        \n",
        "        \n",
        "    def test_global_model(self):\n",
        "        self.model.eval()\n",
        "        \n",
        "        test_loss = 0\n",
        "        correct = 0\n",
        "        with torch.no_grad():\n",
        "            for data, labels in self.test_loader:\n",
        "                data, labels = data.to(self.device), labels.to(self.device)\n",
        "                output = self.model(data)\n",
        "                test_loss += F.nll_loss(output, labels, reduction='sum').item()  \n",
        "                pred = output.argmax(dim=1, keepdim=True)  \n",
        "                #correct += pred.eq(target.view_as(pred)).sum().item()\n",
        "                correct += pred.eq(labels.data.view_as(pred)).long().cpu().sum()\n",
        "\n",
        "\n",
        "        test_loss /= len(self.test_loader.dataset)\n",
        "        accuracy = 100. * correct / len(self.test_loader.dataset)\n",
        "\n",
        "        print(f'\\nTest set: Average loss: {test_loss:.4f}, Accuracy: {correct}/{len(test_loader.dataset)} ({ 100. * correct / len(test_loader.dataset):.2f}%)\\n')\n",
        "\n",
        "        return accuracy, test_loss\n",
        "    "
      ],
      "execution_count": 620,
      "outputs": []
    },
    {
      "cell_type": "code",
      "metadata": {
        "id": "-80XmKTur1f8"
      },
      "source": [
        "# Create clients and distribute the dataset \n",
        "# All clients are stored in list clients\n",
        "args[\"clients\"] = []\n",
        "for i in range(args[\"num_clients\"]):\n",
        "    client = Client(local_datasets[i])\n",
        "    client.setup(args)\n",
        "    args[\"clients\"].append(client)\n",
        "    \n",
        "for unlearned in args[\"unlearned_clients\"]:\n",
        "    args[\"clients\"][unlearned].unlearned = True"
      ],
      "execution_count": 621,
      "outputs": []
    },
    {
      "cell_type": "code",
      "metadata": {
        "id": "u1YSgtSLr5rA"
      },
      "source": [
        "# Create a server\n",
        "server = Server()\n",
        "server.setup(args)"
      ],
      "execution_count": 622,
      "outputs": []
    },
    {
      "cell_type": "code",
      "metadata": {
        "colab": {
          "base_uri": "https://localhost:8080/",
          "height": 1000
        },
        "id": "hIYPZrQrr7v8",
        "outputId": "56103a46-e0b5-4d8d-f628-96911a9def36"
      },
      "source": [
        "server.federated_learning()"
      ],
      "execution_count": 623,
      "outputs": [
        {
          "output_type": "stream",
          "name": "stdout",
          "text": [
            "\tFederated Learning:\n"
          ]
        },
        {
          "output_type": "stream",
          "name": "stderr",
          "text": [
            "\r  0%|          | 0/2 [00:00<?, ?it/s]"
          ]
        },
        {
          "output_type": "stream",
          "name": "stdout",
          "text": [
            "\n",
            "Round 1/2: Starting...\n",
            "Send global model to all clients...\n",
            "\n",
            "Updating client 0...\n",
            "Evaluating client 0...\n",
            "Average loss: 0.6843, Accuracy: 64.51%\n",
            "\n",
            "Updating client 1...\n",
            "Evaluating client 1...\n",
            "Average loss: 0.6996, Accuracy: 50.13%\n",
            "\n",
            "Round 1: Evaluating...\n"
          ]
        },
        {
          "output_type": "stream",
          "name": "stderr",
          "text": [
            "\r 50%|█████     | 1/2 [00:44<00:44, 44.44s/it]"
          ]
        },
        {
          "output_type": "stream",
          "name": "stdout",
          "text": [
            "\n",
            "Test set: Average loss: 0.6860, Accuracy: 115/220 (52.27%)\n",
            "\n",
            "|---- Average Clients Loss: 0.3443135638267566\n",
            "|---- Average Clients Accuracy: 57.32%\n",
            "|---- Server Testing Accuracy: 52.27%\n",
            "\n",
            "Round 1: Finished!\n",
            "\n",
            "---------------------------------\n",
            "\n",
            "Round 2/2: Starting...\n",
            "Send global model to all clients...\n",
            "\n",
            "Updating client 0...\n",
            "Evaluating client 0...\n",
            "Average loss: 0.7621, Accuracy: 50.13%\n",
            "\n",
            "Updating client 1...\n",
            "Evaluating client 1...\n",
            "Average loss: 0.6248, Accuracy: 67.75%\n",
            "\n",
            "Round 2: Evaluating...\n"
          ]
        },
        {
          "output_type": "stream",
          "name": "stderr",
          "text": [
            "100%|██████████| 2/2 [01:29<00:00, 44.52s/it]"
          ]
        },
        {
          "output_type": "stream",
          "name": "stdout",
          "text": [
            "\n",
            "Test set: Average loss: 0.6651, Accuracy: 134/220 (60.91%)\n",
            "\n",
            "|---- Average Clients Loss: 0.33375032093280405\n",
            "|---- Average Clients Accuracy: 58.94%\n",
            "|---- Server Testing Accuracy: 60.91%\n",
            "\n",
            "Round 2: Finished!\n",
            "\n",
            "---------------------------------\n"
          ]
        },
        {
          "output_type": "stream",
          "name": "stderr",
          "text": [
            "\n"
          ]
        },
        {
          "output_type": "stream",
          "name": "stdout",
          "text": [
            "\n",
            "Test set: Average loss: 0.6651, Accuracy: 134/220 (60.91%)\n",
            "\n",
            " \n",
            " Results after 2 global rounds of training:\n",
            "|---- Testing Accuracy: 60.91%\n",
            "\n",
            "Unlearned Clients:\n",
            "Average loss: 0.7621, Accuracy: 50.13%\n",
            "|---- Unlearned Client - 0 Accuracy: 50.13%\n"
          ]
        },
        {
          "output_type": "display_data",
          "data": {
            "image/png": "[encoded data removed]",
            "text/plain": [
              "<Figure size 432x288 with 2 Axes>"
            ]
          },
          "metadata": {
            "needs_background": "light"
          }
        }
      ]
    }
  ]
}